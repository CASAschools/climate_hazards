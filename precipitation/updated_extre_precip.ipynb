{
 "cells": [
  {
   "cell_type": "markdown",
   "id": "e06431e9-3944-43ff-a09b-96f0f713db04",
   "metadata": {},
   "source": [
    "# Extreme Value Anlaysis using daily Precipitation data from Cal-Adapt API"
   ]
  },
  {
   "cell_type": "code",
   "execution_count": 13,
   "id": "4625480f-b7f8-4a5e-b439-e3fa7e304602",
   "metadata": {
    "tags": []
   },
   "outputs": [],
   "source": [
    "# A 'magic' command to display plots inline\n",
    "%matplotlib inline\n",
    "\n",
    "# Import all python modules. You need to run this cell for the other cells to work.\n",
    "import requests\n",
    "import itertools\n",
    "import warnings\n",
    "import logging\n",
    "LOG = logging.getLogger(__name__)\n",
    "from datetime import datetime\n",
    "\n",
    "import numpy as np\n",
    "import pandas as pd\n",
    "import matplotlib.pyplot as plt\n",
    "\n",
    "from scipy.stats.distributions import genpareto\n",
    "from scipy import optimize\n",
    "from scipy import special"
   ]
  },
  {
   "cell_type": "markdown",
   "id": "9cbfc937-d3e2-4b32-a981-f408b4b814f8",
   "metadata": {},
   "source": [
    "# Download Data\n",
    "\n",
    "\n",
    "\n",
    "Daily precipitation data is stored as a multiband raster, e.g. observed daily timeseries (1950 -2013) has 23376 bands with each band corresponding to one day, starting from 1950-01-01. Units for the observed data are mm and projected data are in kg/m2/s.\n",
    "\n",
    "The code in the next cell contains a bunch of functions to: - fetch daily data given a slug and params - convert units to inches - return a new Pandas dataframe that contains all the data\n"
   ]
  },
  {
   "cell_type": "code",
   "execution_count": 14,
   "id": "f46a9e11-2d53-46f9-9ee6-20e36e6307fd",
   "metadata": {
    "tags": []
   },
   "outputs": [],
   "source": [
    "# Cal-Adapt API\n",
    "api = 'http://api.cal-adapt.org/api'\n",
    "\n",
    "# Request header\n",
    "headers = {'ContentType': 'json'}\n",
    "\n",
    "# Params for Santa Paula\n",
    "point = 'POINT(-119.08096980316024 34.34871777505949)'\n",
    "params = {'g': point}"
   ]
  },
  {
   "cell_type": "code",
   "execution_count": 15,
   "id": "9a8a6f02-47b7-427e-98eb-519892bddbb0",
   "metadata": {
    "tags": []
   },
   "outputs": [],
   "source": [
    "# Unit coversions\n",
    "def mm_to_inches(val):\n",
    "    return val * 0.0393701\n",
    "\n",
    "def kgm2s_to_inches(val):\n",
    "    return  (val * 86400) * 0.0393701"
   ]
  },
  {
   "cell_type": "code",
   "execution_count": 16,
   "id": "466ba8c7-1d4e-4211-8ce5-a169c9dd2b2a",
   "metadata": {
    "tags": []
   },
   "outputs": [],
   "source": [
    "# Fetch data from API and convert it into a Pandas ataframe\n",
    "def process_daily_data(slug, params):\n",
    "    \"\"\"\n",
    "    Request and process a daily timeseries from the Cal-Adapt API\n",
    "    :param string slug: \n",
    "    :param dictionary params: Request parameters\n",
    "    :returns: Pandas dataframe with daily data values for a timeseries\n",
    "    \"\"\"\n",
    "    # Make request\n",
    "    url = api + '/series/' + slug + '/rasters/'\n",
    "    response = requests.get(url, params=params, headers=headers)\n",
    "    \n",
    "    # Get data\n",
    "    if response.ok:\n",
    "        print('Processing:', slug)\n",
    "        json = response.json()\n",
    "        data = json['results'][0]\n",
    "\n",
    "        # Multiband raster data is returned by the API as a 3D array having a shape like (233376, 1, 1)\n",
    "        # Flatten the 3D array into a 1D array\n",
    "        # NOTE: This behaviour will change in future version of the API. Instead of a 3D array, \n",
    "        # the data will be returned as a 1D array.\n",
    "        values_arr = np.array(data['image'])\n",
    "        values_arr = values_arr.flatten()\n",
    "\n",
    "        # Get total number of values -> number of days\n",
    "        length = len(values_arr)\n",
    "\n",
    "        # Get start date of timeseries\n",
    "        start_date = datetime.strptime(data['event'], '%Y-%m-%d')\n",
    "\n",
    "        # Create a new dataframe, map each value in values_arr  to a date index\n",
    "        # and add it as a new row to the dataframe\n",
    "        df = pd.DataFrame(\n",
    "            values_arr,\n",
    "            index=pd.date_range(start_date, freq='1D', periods=length),\n",
    "            columns=['value'],\n",
    "        )\n",
    "\n",
    "        # Convert units to inches\n",
    "        units = data['units']\n",
    "        if units == 'mm':\n",
    "            df.value = df.value.apply(lambda x: mm_to_inches(x))\n",
    "        elif units == 'kg/m2/s':\n",
    "            df.value = df.value.apply(lambda x: kgm2s_to_inches(x))\n",
    "        else:\n",
    "            pass\n",
    "            \n",
    "        # Add series name and scenario from the slug as columns\n",
    "        series_name = slug.split('_')[2]\n",
    "        scenario = ''\n",
    "        if (series_name == 'livneh'):\n",
    "            scenario = 'historical'\n",
    "        else:\n",
    "            scenario = slug.split('_')[3]\n",
    "        df['series'] = series_name\n",
    "        df['scenario'] = scenario\n",
    "        \n",
    "        # Add wateryear (October - September)\n",
    "        df['year'] = df.index.year\n",
    "        df['month'] = df.index.month\n",
    "        df['wateryear'] = np.where(df['month'] > 9, df['year'] + 1, df['year'])\n",
    "\n",
    "    else:\n",
    "        print('Failed to download:', slug)\n",
    "            \n",
    "    # Combine all the dataframes into one and return\n",
    "    return df"
   ]
  },
  {
   "cell_type": "code",
   "execution_count": 17,
   "id": "573c6aff-d862-4d6a-8183-f7d3d76b2685",
   "metadata": {
    "tags": []
   },
   "outputs": [
    {
     "name": "stdout",
     "output_type": "stream",
     "text": [
      "Processing: pr_day_livneh\n"
     ]
    },
    {
     "data": {
      "text/html": [
       "<div>\n",
       "<style scoped>\n",
       "    .dataframe tbody tr th:only-of-type {\n",
       "        vertical-align: middle;\n",
       "    }\n",
       "\n",
       "    .dataframe tbody tr th {\n",
       "        vertical-align: top;\n",
       "    }\n",
       "\n",
       "    .dataframe thead th {\n",
       "        text-align: right;\n",
       "    }\n",
       "</style>\n",
       "<table border=\"1\" class=\"dataframe\">\n",
       "  <thead>\n",
       "    <tr style=\"text-align: right;\">\n",
       "      <th></th>\n",
       "      <th>value</th>\n",
       "      <th>series</th>\n",
       "      <th>scenario</th>\n",
       "      <th>year</th>\n",
       "      <th>month</th>\n",
       "      <th>wateryear</th>\n",
       "    </tr>\n",
       "  </thead>\n",
       "  <tbody>\n",
       "    <tr>\n",
       "      <th>1950-01-01</th>\n",
       "      <td>0.0</td>\n",
       "      <td>livneh</td>\n",
       "      <td>historical</td>\n",
       "      <td>1950</td>\n",
       "      <td>1</td>\n",
       "      <td>1950</td>\n",
       "    </tr>\n",
       "    <tr>\n",
       "      <th>1950-01-02</th>\n",
       "      <td>0.0</td>\n",
       "      <td>livneh</td>\n",
       "      <td>historical</td>\n",
       "      <td>1950</td>\n",
       "      <td>1</td>\n",
       "      <td>1950</td>\n",
       "    </tr>\n",
       "    <tr>\n",
       "      <th>1950-01-03</th>\n",
       "      <td>0.0</td>\n",
       "      <td>livneh</td>\n",
       "      <td>historical</td>\n",
       "      <td>1950</td>\n",
       "      <td>1</td>\n",
       "      <td>1950</td>\n",
       "    </tr>\n",
       "    <tr>\n",
       "      <th>1950-01-04</th>\n",
       "      <td>0.0</td>\n",
       "      <td>livneh</td>\n",
       "      <td>historical</td>\n",
       "      <td>1950</td>\n",
       "      <td>1</td>\n",
       "      <td>1950</td>\n",
       "    </tr>\n",
       "    <tr>\n",
       "      <th>1950-01-05</th>\n",
       "      <td>0.0</td>\n",
       "      <td>livneh</td>\n",
       "      <td>historical</td>\n",
       "      <td>1950</td>\n",
       "      <td>1</td>\n",
       "      <td>1950</td>\n",
       "    </tr>\n",
       "  </tbody>\n",
       "</table>\n",
       "</div>"
      ],
      "text/plain": [
       "            value  series    scenario  year  month  wateryear\n",
       "1950-01-01    0.0  livneh  historical  1950      1       1950\n",
       "1950-01-02    0.0  livneh  historical  1950      1       1950\n",
       "1950-01-03    0.0  livneh  historical  1950      1       1950\n",
       "1950-01-04    0.0  livneh  historical  1950      1       1950\n",
       "1950-01-05    0.0  livneh  historical  1950      1       1950"
      ]
     },
     "execution_count": 17,
     "metadata": {},
     "output_type": "execute_result"
    }
   ],
   "source": [
    "# Download observed daily timeseries\n",
    "def get_daily_observed(climvar = 'pr'):\n",
    "    \"\"\"\n",
    "    Download historical observed data for a climate variable from Cal-Adapt API\n",
    "    :param string climvar: name of climate variable as string\n",
    "    :returns: Pandas dataframe with daily data values\n",
    "    \"\"\"\n",
    "    slug = climvar + '_day_livneh'\n",
    "    df = process_daily_data(slug, params)\n",
    "    return df\n",
    "\n",
    "observedDF = get_daily_observed()\n",
    "observedDF.head()"
   ]
  },
  {
   "cell_type": "code",
   "execution_count": 18,
   "id": "ab9b44c4-d452-4a0d-988b-830d59aedb92",
   "metadata": {
    "tags": []
   },
   "outputs": [
    {
     "name": "stdout",
     "output_type": "stream",
     "text": [
      "Processing: pr_day_CanESM2_rcp45\n",
      "Processing: pr_day_CanESM2_rcp85\n",
      "Processing: pr_day_CNRM-CM5_rcp45\n",
      "Processing: pr_day_CNRM-CM5_rcp85\n",
      "Processing: pr_day_HadGEM2-ES_rcp45\n",
      "Processing: pr_day_HadGEM2-ES_rcp85\n",
      "Processing: pr_day_MIROC5_rcp45\n",
      "Processing: pr_day_MIROC5_rcp85\n"
     ]
    },
    {
     "data": {
      "text/plain": [
       "array(['rcp45', 'rcp85'], dtype=object)"
      ]
     },
     "execution_count": 18,
     "metadata": {},
     "output_type": "execute_result"
    }
   ],
   "source": [
    "# Download projected daily timeseries. The projected daily timeseries are from 2006 - 2099/2100 for  and rcp45\n",
    "# and units are in kg/m2/s.\n",
    "def get_daily_projections(climvar = 'pr', models = ['CanESM2', 'CNRM-CM5', 'HadGEM2-ES', 'MIROC5'], scenarios = ['rcp45','rcp85']):\n",
    "    \"\"\"\n",
    "    Download model projections from Cal-Adapt API\n",
    "    :param string climvar: name of climate variable\n",
    "    :param list models: list of climate model names\n",
    "    :param list scenarios: list of scenario names\n",
    "    :returns: Pandas dataframe with daily data values\n",
    "    \"\"\"\n",
    "    # Create an empty list to hold dataframes\n",
    "    df_list = []\n",
    "\n",
    "    # Make a combined list of GCMs, scenarios, climate variables for looping\n",
    "    zipped = itertools.product([climvar], ['day'], models, scenarios)\n",
    "    \n",
    "    # Request parameters\n",
    "    params = {'g': point}\n",
    "\n",
    "    # Loop through zipped\n",
    "    for item in zipped:\n",
    "        # Create slug\n",
    "        slug = '_'.join(item)\n",
    "        df = process_daily_data(slug, params)\n",
    "        df_list.append(df)\n",
    "            \n",
    "    # Combine all the dataframes into one and return\n",
    "    return pd.concat(df_list)\n",
    "\n",
    "projectedDF = get_daily_projections()\n",
    "projectedDF.scenario.unique()"
   ]
  },
  {
   "cell_type": "code",
   "execution_count": 19,
   "id": "18d7a41c-0f07-4d8a-be62-df133f5c5720",
   "metadata": {
    "tags": []
   },
   "outputs": [
    {
     "name": "stdout",
     "output_type": "stream",
     "text": [
      "Processing: pr_day_CanESM2_rcp45\n",
      "Processing: pr_day_CNRM-CM5_rcp45\n",
      "Processing: pr_day_HadGEM2-ES_rcp45\n",
      "Processing: pr_day_MIROC5_rcp45\n"
     ]
    },
    {
     "data": {
      "text/plain": [
       "array(['rcp45'], dtype=object)"
      ]
     },
     "execution_count": 19,
     "metadata": {},
     "output_type": "execute_result"
    }
   ],
   "source": [
    "# Download projected daily timeseries. The projected daily timeseries are from 2006 - 2099/2100 for  and rcp45\n",
    "# and units are in kg/m2/s.\n",
    "def get_daily_projections(climvar = 'pr', models = ['CanESM2', 'CNRM-CM5', 'HadGEM2-ES', 'MIROC5'], scenarios = ['rcp45']):\n",
    "    \"\"\"\n",
    "    Download model projections from Cal-Adapt API\n",
    "    :param string climvar: name of climate variable\n",
    "    :param list models: list of climate model names\n",
    "    :param list scenarios: list of scenario names\n",
    "    :returns: Pandas dataframe with daily data values\n",
    "    \"\"\"\n",
    "    # Create an empty list to hold dataframes\n",
    "    df_list = []\n",
    "\n",
    "    # Make a combined list of GCMs, scenarios, climate variables for looping\n",
    "    zipped = itertools.product([climvar], ['day'], models, scenarios)\n",
    "    \n",
    "    # Request parameters\n",
    "    params = {'g': point}\n",
    "\n",
    "    # Loop through zipped\n",
    "    for item in zipped:\n",
    "        # Create slug\n",
    "        slug = '_'.join(item)\n",
    "        df = process_daily_data(slug, params)\n",
    "        df_list.append(df)\n",
    "            \n",
    "    # Combine all the dataframes into one and return\n",
    "    return pd.concat(df_list)\n",
    "\n",
    "projectedDF45 = get_daily_projections()\n",
    "projectedDF45.scenario.unique()"
   ]
  },
  {
   "cell_type": "code",
   "execution_count": 20,
   "id": "943b06ad-a30e-4333-b768-e4b6b10e5798",
   "metadata": {
    "tags": []
   },
   "outputs": [
    {
     "name": "stdout",
     "output_type": "stream",
     "text": [
      "Processing: pr_day_CanESM2_rcp85\n",
      "Processing: pr_day_CNRM-CM5_rcp85\n",
      "Processing: pr_day_HadGEM2-ES_rcp85\n",
      "Processing: pr_day_MIROC5_rcp85\n"
     ]
    },
    {
     "data": {
      "text/plain": [
       "array(['rcp85'], dtype=object)"
      ]
     },
     "execution_count": 20,
     "metadata": {},
     "output_type": "execute_result"
    }
   ],
   "source": [
    "# Download projected daily timeseries. The projected daily timeseries are from 2006 - 2099/2100 for  and rcp45\n",
    "# and units are in kg/m2/s.\n",
    "def get_daily_projections(climvar = 'pr', models = ['CanESM2', 'CNRM-CM5', 'HadGEM2-ES', 'MIROC5'], scenarios = ['rcp85']):\n",
    "    \"\"\"\n",
    "    Download model projections from Cal-Adapt API\n",
    "    :param string climvar: name of climate variable\n",
    "    :param list models: list of climate model names\n",
    "    :param list scenarios: list of scenario names\n",
    "    :returns: Pandas dataframe with daily data values\n",
    "    \"\"\"\n",
    "    # Create an empty list to hold dataframes\n",
    "    df_list = []\n",
    "\n",
    "    # Make a combined list of GCMs, scenarios, climate variables for looping\n",
    "    zipped = itertools.product([climvar], ['day'], models, scenarios)\n",
    "    \n",
    "    # Request parameters\n",
    "    params = {'g': point}\n",
    "\n",
    "    # Loop through zipped\n",
    "    for item in zipped:\n",
    "        # Create slug\n",
    "        slug = '_'.join(item)\n",
    "        df = process_daily_data(slug, params)\n",
    "        df_list.append(df)\n",
    "            \n",
    "    # Combine all the dataframes into one and return\n",
    "    return pd.concat(df_list)\n",
    "\n",
    "projectedDF85 = get_daily_projections()\n",
    "projectedDF85.scenario.unique()"
   ]
  },
  {
   "cell_type": "markdown",
   "id": "c2f6a9f0-2c67-448d-a6f3-71d4e5115cd4",
   "metadata": {},
   "source": [
    "We now have 3 dataframes (`observedDF` and `projectedDF`) that hold daily precipitation values for the observed historical and modeled future projections. We will use the observed historical daily values for wateryears 1961-1990 as the baseline timeperiod for the Extreme Value Analysis."
   ]
  },
  {
   "cell_type": "markdown",
   "id": "c44b0b5a-d7fa-4617-87dd-f1ce7cc26b8c",
   "metadata": {},
   "source": [
    "# Extreme Value Analysis using Peak Over Threshold (POT)"
   ]
  },
  {
   "cell_type": "markdown",
   "id": "22d41a18-16b2-4faa-9474-ddd02d6d4f0f",
   "metadata": {},
   "source": [
    "### Define an extreme precipitation event\n",
    "\n",
    "New guidelines form the World Meteorological Organization define extreme precipitation events as \"A marked precipitation event occurring during a period of time of one to several days (usually less than a week) with daily total precipitation exceeding a certain threshold defined for a given location\" (Guidelines on the Definitions and Monitoring of Extreme Weather and Climate Events, Draft 2018).\n",
    "\n",
    "With the Extreme Precipitation tool on Cal-Adapt, users can explore extreme precipitation events over one or multiple days over different threshold values. For this example we will look at 2-day extreme precipitation events with total accumulated precipitation over a threshold value."
   ]
  },
  {
   "cell_type": "markdown",
   "id": "70abe3b1-1b4f-4a0b-98a0-107aaf53f0c1",
   "metadata": {},
   "source": [
    "### Calculate 2-day precipitation totals for the baseline period"
   ]
  },
  {
   "cell_type": "code",
   "execution_count": 21,
   "id": "a93ba4a7-6559-4c5a-a7e0-508bf1856378",
   "metadata": {
    "tags": []
   },
   "outputs": [],
   "source": [
    "# Filter data by baseline time period\n",
    "baselineDF = observedDF.loc[(observedDF['wateryear'] >= 1995)]\n",
    "baselineDF = pd.DataFrame(baselineDF)"
   ]
  },
  {
   "cell_type": "code",
   "execution_count": 22,
   "id": "e6d648f2-7b9e-42ce-a4a3-5fc98890024f",
   "metadata": {
    "tags": []
   },
   "outputs": [],
   "source": [
    "# Duration of an extreme precipitation event\n",
    "duration = 2"
   ]
  },
  {
   "cell_type": "code",
   "execution_count": 23,
   "id": "2af3a369-b78f-448d-984f-eed873f12b8a",
   "metadata": {
    "tags": []
   },
   "outputs": [],
   "source": [
    "# Calculate 2-day rainfall totals and store it in a new column called total_precip\n",
    "baselineDF['total_precip'] = baselineDF['value'].rolling(duration).sum()\n"
   ]
  },
  {
   "cell_type": "code",
   "execution_count": 24,
   "id": "e5ed8b1a-0bd2-4720-bffc-436b94054302",
   "metadata": {
    "tags": []
   },
   "outputs": [
    {
     "data": {
      "text/html": [
       "<div>\n",
       "<style scoped>\n",
       "    .dataframe tbody tr th:only-of-type {\n",
       "        vertical-align: middle;\n",
       "    }\n",
       "\n",
       "    .dataframe tbody tr th {\n",
       "        vertical-align: top;\n",
       "    }\n",
       "\n",
       "    .dataframe thead th {\n",
       "        text-align: right;\n",
       "    }\n",
       "</style>\n",
       "<table border=\"1\" class=\"dataframe\">\n",
       "  <thead>\n",
       "    <tr style=\"text-align: right;\">\n",
       "      <th></th>\n",
       "      <th>value</th>\n",
       "      <th>series</th>\n",
       "      <th>scenario</th>\n",
       "      <th>year</th>\n",
       "      <th>month</th>\n",
       "      <th>wateryear</th>\n",
       "      <th>total_precip</th>\n",
       "    </tr>\n",
       "  </thead>\n",
       "  <tbody>\n",
       "    <tr>\n",
       "      <th>1994-10-01</th>\n",
       "      <td>0.000000</td>\n",
       "      <td>livneh</td>\n",
       "      <td>historical</td>\n",
       "      <td>1994</td>\n",
       "      <td>10</td>\n",
       "      <td>1995</td>\n",
       "      <td>NaN</td>\n",
       "    </tr>\n",
       "    <tr>\n",
       "      <th>1994-10-02</th>\n",
       "      <td>0.019357</td>\n",
       "      <td>livneh</td>\n",
       "      <td>historical</td>\n",
       "      <td>1994</td>\n",
       "      <td>10</td>\n",
       "      <td>1995</td>\n",
       "      <td>1.935704e-02</td>\n",
       "    </tr>\n",
       "    <tr>\n",
       "      <th>1994-10-03</th>\n",
       "      <td>0.226212</td>\n",
       "      <td>livneh</td>\n",
       "      <td>historical</td>\n",
       "      <td>1994</td>\n",
       "      <td>10</td>\n",
       "      <td>1995</td>\n",
       "      <td>2.455688e-01</td>\n",
       "    </tr>\n",
       "    <tr>\n",
       "      <th>1994-10-04</th>\n",
       "      <td>0.258473</td>\n",
       "      <td>livneh</td>\n",
       "      <td>historical</td>\n",
       "      <td>1994</td>\n",
       "      <td>10</td>\n",
       "      <td>1995</td>\n",
       "      <td>4.846852e-01</td>\n",
       "    </tr>\n",
       "    <tr>\n",
       "      <th>1994-10-05</th>\n",
       "      <td>0.024291</td>\n",
       "      <td>livneh</td>\n",
       "      <td>historical</td>\n",
       "      <td>1994</td>\n",
       "      <td>10</td>\n",
       "      <td>1995</td>\n",
       "      <td>2.827647e-01</td>\n",
       "    </tr>\n",
       "    <tr>\n",
       "      <th>...</th>\n",
       "      <td>...</td>\n",
       "      <td>...</td>\n",
       "      <td>...</td>\n",
       "      <td>...</td>\n",
       "      <td>...</td>\n",
       "      <td>...</td>\n",
       "      <td>...</td>\n",
       "    </tr>\n",
       "    <tr>\n",
       "      <th>2013-12-27</th>\n",
       "      <td>0.000000</td>\n",
       "      <td>livneh</td>\n",
       "      <td>historical</td>\n",
       "      <td>2013</td>\n",
       "      <td>12</td>\n",
       "      <td>2014</td>\n",
       "      <td>1.887379e-15</td>\n",
       "    </tr>\n",
       "    <tr>\n",
       "      <th>2013-12-28</th>\n",
       "      <td>0.000000</td>\n",
       "      <td>livneh</td>\n",
       "      <td>historical</td>\n",
       "      <td>2013</td>\n",
       "      <td>12</td>\n",
       "      <td>2014</td>\n",
       "      <td>1.887379e-15</td>\n",
       "    </tr>\n",
       "    <tr>\n",
       "      <th>2013-12-29</th>\n",
       "      <td>0.000000</td>\n",
       "      <td>livneh</td>\n",
       "      <td>historical</td>\n",
       "      <td>2013</td>\n",
       "      <td>12</td>\n",
       "      <td>2014</td>\n",
       "      <td>1.887379e-15</td>\n",
       "    </tr>\n",
       "    <tr>\n",
       "      <th>2013-12-30</th>\n",
       "      <td>0.000000</td>\n",
       "      <td>livneh</td>\n",
       "      <td>historical</td>\n",
       "      <td>2013</td>\n",
       "      <td>12</td>\n",
       "      <td>2014</td>\n",
       "      <td>1.887379e-15</td>\n",
       "    </tr>\n",
       "    <tr>\n",
       "      <th>2013-12-31</th>\n",
       "      <td>0.000000</td>\n",
       "      <td>livneh</td>\n",
       "      <td>historical</td>\n",
       "      <td>2013</td>\n",
       "      <td>12</td>\n",
       "      <td>2014</td>\n",
       "      <td>1.887379e-15</td>\n",
       "    </tr>\n",
       "  </tbody>\n",
       "</table>\n",
       "<p>7032 rows × 7 columns</p>\n",
       "</div>"
      ],
      "text/plain": [
       "               value  series    scenario  year  month  wateryear  total_precip\n",
       "1994-10-01  0.000000  livneh  historical  1994     10       1995           NaN\n",
       "1994-10-02  0.019357  livneh  historical  1994     10       1995  1.935704e-02\n",
       "1994-10-03  0.226212  livneh  historical  1994     10       1995  2.455688e-01\n",
       "1994-10-04  0.258473  livneh  historical  1994     10       1995  4.846852e-01\n",
       "1994-10-05  0.024291  livneh  historical  1994     10       1995  2.827647e-01\n",
       "...              ...     ...         ...   ...    ...        ...           ...\n",
       "2013-12-27  0.000000  livneh  historical  2013     12       2014  1.887379e-15\n",
       "2013-12-28  0.000000  livneh  historical  2013     12       2014  1.887379e-15\n",
       "2013-12-29  0.000000  livneh  historical  2013     12       2014  1.887379e-15\n",
       "2013-12-30  0.000000  livneh  historical  2013     12       2014  1.887379e-15\n",
       "2013-12-31  0.000000  livneh  historical  2013     12       2014  1.887379e-15\n",
       "\n",
       "[7032 rows x 7 columns]"
      ]
     },
     "execution_count": 24,
     "metadata": {},
     "output_type": "execute_result"
    }
   ],
   "source": [
    "baselineDF"
   ]
  },
  {
   "cell_type": "markdown",
   "id": "9affcdfe-586f-4725-aab7-fc03725ff170",
   "metadata": {},
   "source": [
    "\n",
    "## Select a threshold value\n",
    "\n",
    "Different methods have been proposed in literature for the selection of an appropriate threshold value. By default the Cal-Adapt API selects the lowest value from the Annual Maximum Series for the baseline timeperiod as the threshold value.\n",
    "\n",
    "The API also supports using quantiles as threshold values. One of the issues we noticed with using high quantiles as a threshold was that arid locations in California had too few exceedances over this threshold to meet requirements of statistical tests.\n"
   ]
  },
  {
   "cell_type": "code",
   "execution_count": 25,
   "id": "af05e19a-6d66-4c99-b494-21718bdce9ac",
   "metadata": {
    "tags": []
   },
   "outputs": [
    {
     "data": {
      "text/plain": [
       "wateryear\n",
       "1995    5.922022\n",
       "1996    3.906430\n",
       "1997    3.404178\n",
       "1998    4.237768\n",
       "1999    1.664796\n",
       "Name: total_precip, dtype: float64"
      ]
     },
     "execution_count": 25,
     "metadata": {},
     "output_type": "execute_result"
    }
   ],
   "source": [
    "# Create Annual Maximum Series\n",
    "AMS = baselineDF.groupby('wateryear').total_precip.max()\n",
    "AMS.head()"
   ]
  },
  {
   "cell_type": "code",
   "execution_count": 26,
   "id": "46828be9-3871-4d27-be04-fc95adafb24a",
   "metadata": {
    "tags": []
   },
   "outputs": [
    {
     "name": "stdout",
     "output_type": "stream",
     "text": [
      "Lowest value from Annual Maximum Series = 0.5266568069201012 inches\n",
      "95th Percentile = 0.6232714001231973 inches\n"
     ]
    }
   ],
   "source": [
    "minAMS = np.min(AMS)\n",
    "print('Lowest value from Annual Maximum Series =', minAMS, 'inches')\n",
    "\n",
    "# If you want to use a percentile as threshold, use the following code:\n",
    "# Remove zero precipitation events\n",
    "baseline_nonzero = baselineDF.loc[(baselineDF['total_precip'] > 0)]\n",
    "# Calculate 95th percentile\n",
    "quantile95 = baseline_nonzero['total_precip'].quantile(0.95, interpolation='linear')\n",
    "print('95th Percentile =', quantile95, 'inches')"
   ]
  },
  {
   "cell_type": "code",
   "execution_count": 27,
   "id": "d684a978-26e5-43b5-b21e-384de119e050",
   "metadata": {
    "tags": []
   },
   "outputs": [
    {
     "data": {
      "text/plain": [
       "0.53"
      ]
     },
     "execution_count": 27,
     "metadata": {},
     "output_type": "execute_result"
    }
   ],
   "source": [
    "# Set threshold value to lowest value of Annual Maximum Series, rounding to 2 decimal places\n",
    "threshold = round(minAMS, 2)\n",
    "threshold"
   ]
  },
  {
   "cell_type": "code",
   "execution_count": 28,
   "id": "579a1f53-94c4-4719-9d9d-672bbdc4a59c",
   "metadata": {
    "tags": []
   },
   "outputs": [],
   "source": [
    "# Add a column which indicates whether the event exceeds threshold value\n",
    "baselineDF.loc[baselineDF['total_precip'] > threshold, 'exceedance'] = True\n",
    "baselineDF.loc[baselineDF['total_precip'] <= threshold, 'exceedance'] = False\n"
   ]
  },
  {
   "cell_type": "markdown",
   "id": "87ee2c0b-cf56-4784-a001-da4794ded017",
   "metadata": {},
   "source": [
    "\n",
    "## Addressing biases in the data\n",
    "### Trends\n",
    "\n",
    "For our analysis we are goinng to assume that data within the 30 year time period is stationary.\n",
    "### Serial correlation\n",
    "\n",
    "Serial correlation (i.e. back to back events in a record) violate the requirements of statistical tests, introducing biases and reducing accuracy of return interval estimates. Because the underlying data may exhibit substantial serial correlation, it is usual that only the single largest of consecutive values above the selection threshold are incorporated into an extreme-value data set (Wilks, Daniel S., Statistical Methods in the Atmospheric Sciences, 2001).\n",
    "\n",
    "Therefore in the next few cells we will identify back-to-back events and take the largest of the consecutive values to create our Partial Duration Series.\n"
   ]
  },
  {
   "cell_type": "code",
   "execution_count": 29,
   "id": "d0596941-84ed-41a7-9519-48617401d336",
   "metadata": {
    "tags": []
   },
   "outputs": [],
   "source": [
    "baselineDF['consecutive_group_id'] = (baselineDF.exceedance.shift(1) != baselineDF.exceedance).astype(int).cumsum()\n"
   ]
  },
  {
   "cell_type": "code",
   "execution_count": 30,
   "id": "a4892a9b-cba1-4c16-b2c7-e1c633010b0a",
   "metadata": {
    "tags": []
   },
   "outputs": [],
   "source": [
    "# Drop NaN values\n",
    "baselineDF = baselineDF.dropna()"
   ]
  },
  {
   "cell_type": "code",
   "execution_count": 31,
   "id": "2fc2ddd9-ab11-4efd-afd0-43742d1e2dce",
   "metadata": {
    "tags": []
   },
   "outputs": [],
   "source": [
    "# Find the max total_precip value from each set of back-to-back events\n",
    "\n",
    "# Adapted from https://stackoverflow.com/questions/27488080/python-pandas-filter-rows-after-groupby\n",
    "# Here, idxmax() finds the indices of the rows with max value within groups,\n",
    "# and .loc() filters the rows using those indices\n",
    "exceedances = baselineDF[baselineDF['exceedance'] == True]\n",
    "largest_nonconsecutive_exceedances = exceedances.loc[exceedances.groupby(['consecutive_group_id'])['total_precip'].idxmax()]\n"
   ]
  },
  {
   "cell_type": "markdown",
   "id": "6cd77077-577c-43db-9298-74593a9c1f0f",
   "metadata": {},
   "source": [
    "## Create the Partial duration series"
   ]
  },
  {
   "cell_type": "code",
   "execution_count": 32,
   "id": "e0d5d5a1-e782-44cc-8139-ffb34883f54b",
   "metadata": {
    "tags": []
   },
   "outputs": [
    {
     "name": "stdout",
     "output_type": "stream",
     "text": [
      "Number of exceedances = 138\n"
     ]
    }
   ],
   "source": [
    "# Create the Partial duration series\n",
    "PDS = largest_nonconsecutive_exceedances['total_precip'].values\n",
    "print('Number of exceedances =', len(PDS))"
   ]
  },
  {
   "cell_type": "code",
   "execution_count": 18,
   "id": "aa6bf5d9-8bdd-4d5c-990b-82e33f940c90",
   "metadata": {
    "tags": []
   },
   "outputs": [],
   "source": [
    "#largest_nonconsecutive_exceedances.to_csv('data.csv')"
   ]
  },
  {
   "cell_type": "markdown",
   "id": "a551d527-1bef-4c93-a577-09b74ee0a14e",
   "metadata": {},
   "source": [
    "## Fit a generalized Pareto distribution to the partial duration series"
   ]
  },
  {
   "cell_type": "code",
   "execution_count": 33,
   "id": "23c5899b-3d45-4acf-b45a-5b2ee2970c66",
   "metadata": {
    "tags": []
   },
   "outputs": [],
   "source": [
    "def fitData(data, mu):\n",
    "    \"\"\"\n",
    "    Calculate parameter estimates for shape and scale while holding the location at threshold value.\n",
    "    Freeze the distribution using these parameters estimates.\n",
    "    :param ndarray data: numpy array of data values (partial duration series)\n",
    "    :param float mu: Threshold value\n",
    "    :returns: Frozen distribution and parameter estimates\n",
    "    \"\"\"\n",
    "    LOG.info('General Pareto model fitted to Partial Duration Series Series using MLE estimation method')\n",
    "    params = genpareto.fit(data[data > mu], floc=mu)\n",
    "    fit = genpareto(*params)\n",
    "    return (fit, params)"
   ]
  },
  {
   "cell_type": "code",
   "execution_count": 34,
   "id": "2504a571-b3f0-467d-a016-14dd4a50a984",
   "metadata": {
    "tags": []
   },
   "outputs": [
    {
     "name": "stdout",
     "output_type": "stream",
     "text": [
      "Estimated Parameters: shape: 0.20385367551369826, location: 0.53, scale: 0.950566907449103\n"
     ]
    }
   ],
   "source": [
    "warnings.filterwarnings('ignore')\n",
    "\n",
    "# Get the frozen distribution object and parameter estimates\n",
    "gpa_fit, params = fitData(PDS, threshold)\n",
    "print('Estimated Parameters: shape: {}, location: {}, scale: {}'.format(params[0], params[1], params[2]))"
   ]
  },
  {
   "cell_type": "markdown",
   "id": "68e0b758-5090-426f-8509-99bc416a9e25",
   "metadata": {},
   "source": [
    "## Plot diagnostics"
   ]
  },
  {
   "cell_type": "code",
   "execution_count": 35,
   "id": "57c25390-b1f0-4c50-8972-87149508b047",
   "metadata": {
    "tags": []
   },
   "outputs": [],
   "source": [
    "# Code adapted from https://github.com/wcarthur/extremes\n",
    "\n",
    "def returnLevels(intervals, mu, xi, sigma, rate, npyr):\n",
    "    \"\"\"\n",
    "    Calculate return levels for specified intervals for a generalised pareto\n",
    "    distribution with the given threshold, scale and shape parameters.\n",
    "\n",
    "    :param ndarray intervals: Recurrence intervals to evaluate return levels for.\n",
    "    :param float mu: Threshold parameter (also called location).\n",
    "    :param float xi: Shape parameter.\n",
    "    :param float sigma: Scale parameter.\n",
    "    :param float rate: Rate of exceedances (i.e. number of observations greater\n",
    "                       than `mu`, divided by total number of observations).\n",
    "    :param float npyr: Number of observations per year.\n",
    "    :returns: Return levels for the specified recurrence intervals.\n",
    "    \"\"\"\n",
    "\n",
    "    rlevels = mu + (sigma / xi) * (np.power(intervals * npyr * rate, xi) - 1.)\n",
    "    return rlevels\n",
    "\n",
    "def empReturnPeriod(data, npyr):\n",
    "    \"\"\"\n",
    "    Returns the empirically-based recurrence interval (in years) for a set\n",
    "    of observations.\n",
    "\n",
    "    It is assumed the data are daily observations. If the observations are not\n",
    "    daily, there are two options: set the ``npyr`` variable, or backfill the\n",
    "    ``data`` variable with zero values to match the assumed length of the\n",
    "    record.\n",
    "\n",
    "    The highest return period should be (approximately) len(``data``)/``npyr``.\n",
    "\n",
    "    :param ndarray data: array of observed values (with missing values removed).\n",
    "    :param float npyr: Number of observations per year (default=365.25)\n",
    "    :returns: Recurrence intervals for the observed data.\n",
    "    :rtype: :class:`numpy.ndarray`\n",
    "    \"\"\"\n",
    "    nobs = len(data)\n",
    "    # Empirical return periods:\n",
    "    emprp = 1. / (1. - np.arange(1, nobs + 1, 1) / (nobs + 1)) / npyr\n",
    "    return emprp\n",
    "\n",
    "def plotDiagnostics(data, distribution, mu):\n",
    "    \"\"\"\n",
    "    Create a 4-panel diagnostics plot of the fitted distribution.\n",
    "    :param ndarray data: Array of observed data values\n",
    "    :param float mu: Selected threshold value.\n",
    "    \"\"\"\n",
    "    LOG.info(\"Plotting diagnostics\")\n",
    "    fig, ax = plt.subplots(2, 2, figsize=(15, 10))\n",
    "    axes = ax.flatten()\n",
    "    \n",
    "    exceedances = np.sort(data[data > mu])\n",
    "    \n",
    "    ## PROBABILITY PLOT\n",
    "    # Data\n",
    "    N = len(exceedances)\n",
    "    x = distribution.cdf(exceedances)\n",
    "    y = np.arange(1, N + 1) / (N + 1)\n",
    "    # Plot\n",
    "    ax0 = axes[0]\n",
    "    ax0.scatter(x, y, color = 'r')\n",
    "    ax0.plot([0, 1], [0, 1])\n",
    "    ax0.set_xlim(0, 1)\n",
    "    ax0.set_ylim(0, 1)\n",
    "    ax0.set_xlabel('Model')\n",
    "    ax0.set_ylabel('Empirical')\n",
    "    ax0.set_title('Probability Plot')\n",
    "\n",
    "\n",
    "    ## QUANTILE PLOT\n",
    "    # Not sure if this is the correct way to plot quantile plot\n",
    "    # Data\n",
    "    vals = np.arange(0.1, 1, 0.01)\n",
    "    x = distribution.ppf(vals)\n",
    "    y = genpareto.ppf(vals, c=0.1, loc=mu)\n",
    "    # Plot\n",
    "    ax1 = axes[1]\n",
    "    ax1.scatter(x, y, color = 'r')\n",
    "    ax1.plot([np.min(x), np.max(x)], [np.min(y), np.max(y)])\n",
    "    ax1.set_xlabel(\"Model\")\n",
    "    ax1.set_ylabel(\"Empirical\")\n",
    "    ax1.set_title('Quantile Plot')\n",
    "\n",
    "    ## RETURN LEVEL PLOT\n",
    "    # Data\n",
    "    # Return periods/intervals\n",
    "    rp = np.array([1, 2, 5, 10, 20, 50, 100])\n",
    "    # Rate of exceedances (i.e. number of observations greater than `mu`, divided by total number of observations).\n",
    "    rate = float(len(exceedances)) / float(len(data))\n",
    "    # Number of observations per year\n",
    "    npyr = len(data) / 30\n",
    "    rval = returnLevels(rp, mu, params[0], params[2], rate, npyr)\n",
    "    # Empirical return levels\n",
    "    emprp = empReturnPeriod(data, npyr)\n",
    "    sortedmax = np.sort(data)\n",
    "    # Plot\n",
    "    ax2 = axes[2]\n",
    "    ax2.semilogx(rp, rval, label=\"Fitted RP curve\")\n",
    "    ax2.scatter(emprp[emprp > 1], sortedmax[emprp > 1], color='r', label=\"Empirical RP\", s=100)\n",
    "    ax2.set_xlabel(\"Return period\")\n",
    "    ax2.set_ylabel(\"Return level\")\n",
    "    ax2.set_title(\"Return level plot\")\n",
    "    ax2.legend(loc='best', frameon=False)\n",
    "    ax2.grid(True)\n",
    "    \n",
    "    # Density PLOT\n",
    "    # Data\n",
    "    x = np.linspace(distribution.ppf(0.001), distribution.ppf(0.999), 100)\n",
    "    y = distribution.pdf(x)\n",
    "    # Plot\n",
    "    ax3 = axes[3]\n",
    "    ax3.plot(x, y, label = 'Modeled')\n",
    "    ax3.hist(exceedances, density = True, color = 'yellow', alpha = 0.75, label = \"Empirical\")\n",
    "    ax3.set_xlabel('Precipitation')\n",
    "    ax3.set_ylabel('Density')\n",
    "    ax3.set_title('Density Plot')\n",
    "    ax3.legend(loc='best', frameon=False)\n",
    "    \n",
    "    plt.tight_layout()"
   ]
  },
  {
   "cell_type": "code",
   "execution_count": 22,
   "id": "b5bd1d28-8bc2-4b32-83ae-384beef92004",
   "metadata": {
    "tags": []
   },
   "outputs": [
    {
     "data": {
      "image/png": "[encoded data removed]",
      "text/plain": [
       "<Figure size 1500x1000 with 4 Axes>"
      ]
     },
     "metadata": {},
     "output_type": "display_data"
    }
   ],
   "source": [
    "plotDiagnostics(PDS, gpa_fit, threshold)"
   ]
  },
  {
   "cell_type": "markdown",
   "id": "7e82496b-40ec-4423-97b4-941424b09e4b",
   "metadata": {},
   "source": [
    "## Calculate Profile Likelihood Confidence Intervals for a Return Level"
   ]
  },
  {
   "cell_type": "code",
   "execution_count": 36,
   "id": "e60e4bc0-ec43-4bc1-9810-00164b222108",
   "metadata": {
    "tags": []
   },
   "outputs": [],
   "source": [
    "\n",
    "\n",
    "# Function adapted from R library eva - https://github.com/geekman1/eva_package/blob/master/R/gpdRl.R\n",
    "\n",
    "def returnLevelWithCI(period, mu, xi, sigma, data, conf=0.95, plot=False):\n",
    "    \"\"\"\n",
    "    Calculate return level with Confidence Interval for a specified period for a generalised pareto\n",
    "    distribution with the given threshold, scale and shape parameters.\n",
    "    :param float period: Recurrence interval\n",
    "    :param float mu: Threshold parameter (also called location).\n",
    "    :param float sigma: Scale parameter.\n",
    "    :param float xi: Shape parameter.\n",
    "    :param ndarray data: Partial Duration Series\n",
    "    :param float conf: The confidence level used.\n",
    "    :returns: return level for the specified recurrence interval.\n",
    "\n",
    "    \"\"\"\n",
    "    # Rate of exceedances (i.e. number of observations greater than `mu`, divided by total number of observations).\n",
    "    rate = float(len(data[data > mu])) / float(len(data))\n",
    "    # Number of observations per year\n",
    "    npyr = len(data) / 30\n",
    "    m = period * npyr\n",
    "    # Quantile of chi**2 distribution\n",
    "    cutoff =  special.chdtri(1, 1 - conf)\n",
    "    # Sum of log of the probability density function for dataset\n",
    "    lmax = np.sum(genpareto.logpdf(data[data > mu], c=xi, loc=mu, scale=sigma))\n",
    "    # The largest in magnitude usable floating value.\n",
    "    XMAX = np.finfo(float).max\n",
    "    \n",
    "    # Log Likelihood function\n",
    "    def gpdlik(shape, xp):\n",
    "        if (shape == 0):\n",
    "            scale = (xp - mu) / np.log(m * rate)\n",
    "        else:\n",
    "            scale = ((xp - mu) * shape) / (np.power(m * rate, shape) - 1)\n",
    "        \n",
    "        if (scale <= 0):\n",
    "            out = XMAX\n",
    "        else:\n",
    "            out = genpareto.logpdf(data[data > mu], c=shape, loc=mu, scale=scale)\n",
    "            out = np.sum(out)\n",
    "            if(out == float('Inf')):\n",
    "                out = XMAX\n",
    "        return -out\n",
    "\n",
    "    # Profile Likelihood function\n",
    "    def prof(xp):\n",
    "        yes = optimize.minimize(gpdlik, [xi], args=(xp,))\n",
    "        lci = -yes.fun\n",
    "        return 2*(lmax-lci) - cutoff\n",
    "    \n",
    "    # Calculate return level\n",
    "    est = mu + (sigma / xi) * (np.power(m * rate, xi) - 1.)\n",
    "    print('Return Level for {} year return period: {}'.format(period, est))\n",
    "    \n",
    "    # Calculate confidence intervals\n",
    "    step = 0.05 # increases the interval by this amount till root is found\n",
    "    max_iterations = 1000 # maximum number of iterations\n",
    "    \n",
    "#     The EVA package uses the uniroot R function to find the upper and lower confidence intervals\n",
    "#     The uniroot function searches the interval from lower to upper for a root (i.e., zero) of the function f \n",
    "#     with respect to its first argument. It has an attribute extendInt, which will extend the interval\n",
    "#     if sign(f(x)) does not satisfy the requirements at the interval end points. There is no equivalent \n",
    "#     function in SciPy. The code below tries to recreate functionality similiar to uniroot by retrying the \n",
    "#     brentq optimzation till a root is reached by extending the interval bounds. The code is not very \n",
    "#     efficient but it seems to work for all the edge cases.\n",
    "    \n",
    "#     Upper confidence interval\n",
    "    ci_upper = None\n",
    "    upper_bound = None\n",
    "    def calculate_ci_upper(upper_bound, retries=0):\n",
    "        if retries > max_iterations:\n",
    "            raise Exception('Maximum number of iterations excedded')\n",
    "        try:\n",
    "            result = optimize.brentq(prof, est, upper_bound, xtol=step)\n",
    "            return result, upper_bound\n",
    "        except:\n",
    "            retries+=1\n",
    "            upper_bound = upper_bound + step\n",
    "            return calculate_ci_upper(upper_bound, retries)\n",
    "\n",
    "    try:\n",
    "        ci_upper, upper_bound = calculate_ci_upper(est + step)\n",
    "        print('Confidence Interval (upper) =', ci_upper)\n",
    "    except Exception as e:\n",
    "        print('Confidence Interval (upper):', e)\n",
    "    \n",
    "    # Lower confidence interval\n",
    "    ci_lower = None\n",
    "    lower_bound = None\n",
    "    def calculate_ci_lower(lower_bound, retries=0):\n",
    "        if retries > max_iterations:\n",
    "            raise Exception('Maximum number of iterations excedded')\n",
    "        try:\n",
    "            result = optimize.brentq(prof, lower_bound, est, xtol=step)\n",
    "            return result, lower_bound\n",
    "        except:\n",
    "            retries+=1\n",
    "            lower_bound = lower_bound - step\n",
    "            return calculate_ci_lower(lower_bound, retries)\n",
    "\n",
    "    try:\n",
    "        ci_lower, lower_bound = calculate_ci_lower(est - step)\n",
    "        print('Confidence Interval (lower) =', ci_lower)\n",
    "    except Exception as e:\n",
    "        print('Confidence Interval (lower):', e)\n",
    "    \n",
    "    # Plot the profile likelihood function\n",
    "    if (plot):\n",
    "        def graph(formula, x_range, est): \n",
    "            fig, ax = plt.subplots()\n",
    "            x = np.array(x_range) \n",
    "            y = []\n",
    "            for i in x:\n",
    "                y.append(formula(i))\n",
    "            plt.plot(x, y)\n",
    "            plt.xlabel('x')\n",
    "            plt.ylabel('f(x)')\n",
    "            plt.axvline(x=est, color='b', linestyle='--', linewidth=1)\n",
    "            plt.show()\n",
    "        graph(prof, np.arange(lower_bound, upper_bound, step), est)\n",
    "    \n",
    "    return [ci_lower, est, ci_upper]\n",
    "\n"
   ]
  },
  {
   "cell_type": "code",
   "execution_count": 37,
   "id": "6f733039-b7f7-4f53-8625-b1862ef8a89a",
   "metadata": {
    "tags": []
   },
   "outputs": [
    {
     "name": "stdout",
     "output_type": "stream",
     "text": [
      "Return Level for 50 year return period: 9.996001264447946\n",
      "Confidence Interval (upper) = 21.64600126444811\n",
      "Confidence Interval (lower) = 6.638584573151022\n"
     ]
    },
    {
     "data": {
      "image/png": "[encoded data removed]",
      "text/plain": [
       "<Figure size 640x480 with 1 Axes>"
      ]
     },
     "metadata": {},
     "output_type": "display_data"
    },
    {
     "data": {
      "text/plain": [
       "[6.638584573151022, 9.996001264447946, 21.64600126444811]"
      ]
     },
     "execution_count": 37,
     "metadata": {},
     "output_type": "execute_result"
    }
   ],
   "source": [
    "warnings.filterwarnings('ignore')\n",
    "\n",
    "# Calculate Return Level with 95% Confidence Intervals for  50 year Return Interval\n",
    "returnLevelWithCI(50, threshold, params[0], params[2], PDS, plot = True)"
   ]
  },
  {
   "cell_type": "markdown",
   "id": "56c9f36a-36ea-4aba-a802-8d02a99859e1",
   "metadata": {},
   "source": [
    "## Explore change in estimated return levels for 2-day extreme precipitation events from historical observations (1961 - 1990) to mid-century (2030 - 2050) model projections under the RCP 8.5 scenario"
   ]
  },
  {
   "cell_type": "code",
   "execution_count": 38,
   "id": "8161d866-5531-4365-983e-f3ac6e21b473",
   "metadata": {
    "tags": []
   },
   "outputs": [],
   "source": [
    "def create_pds(df, threshold, duration=2):\n",
    "    # Calculate 2-day rainfall totals and store it in a new column called tatal_precip\n",
    "    df['total_precip'] = df['value'].rolling(duration).sum()\n",
    "    # Add a column which indicates whether the event exceeds threshold value\n",
    "    df.loc[df['total_precip'] > threshold, 'exceedance'] = True\n",
    "    df.loc[df['total_precip'] <= threshold, 'exceedance'] = False\n",
    "    df['consecutive_group_id'] = (df.exceedance.shift(1) != df.exceedance).astype(int).cumsum()\n",
    "    # Find the max total_precip value from each set of back-to-back events\n",
    "    exceedances = df[df['exceedance'] == True]\n",
    "    largest_nonconsecutive_exceedances = exceedances.loc[exceedances.groupby(['consecutive_group_id'])['total_precip'].idxmax()]\n",
    "    # Create the Partial duration series\n",
    "    PDS = largest_nonconsecutive_exceedances['total_precip'].values\n",
    "    return PDS\n",
    "\n",
    "def pot(pds, threshold):\n",
    "    # Get the frozen distribution object and parameter estimates\n",
    "    gpa_fit, params = fitData(pds, threshold)\n",
    "    return params"
   ]
  },
  {
   "cell_type": "code",
   "execution_count": 45,
   "id": "453b81d7-a330-4de1-8fa5-1ce08f6fb00f",
   "metadata": {
    "tags": []
   },
   "outputs": [
    {
     "data": {
      "text/html": [
       "<div>\n",
       "<style scoped>\n",
       "    .dataframe tbody tr th:only-of-type {\n",
       "        vertical-align: middle;\n",
       "    }\n",
       "\n",
       "    .dataframe tbody tr th {\n",
       "        vertical-align: top;\n",
       "    }\n",
       "\n",
       "    .dataframe thead th {\n",
       "        text-align: right;\n",
       "    }\n",
       "</style>\n",
       "<table border=\"1\" class=\"dataframe\">\n",
       "  <thead>\n",
       "    <tr style=\"text-align: right;\">\n",
       "      <th></th>\n",
       "      <th>value</th>\n",
       "      <th>series</th>\n",
       "      <th>scenario</th>\n",
       "      <th>year</th>\n",
       "      <th>month</th>\n",
       "      <th>wateryear</th>\n",
       "      <th>total_precip</th>\n",
       "      <th>exceedance</th>\n",
       "      <th>consecutive_group_id</th>\n",
       "    </tr>\n",
       "  </thead>\n",
       "  <tbody>\n",
       "    <tr>\n",
       "      <th>2006-01-01</th>\n",
       "      <td>0.000000</td>\n",
       "      <td>CanESM2</td>\n",
       "      <td>rcp45</td>\n",
       "      <td>2006</td>\n",
       "      <td>1</td>\n",
       "      <td>2006</td>\n",
       "      <td>NaN</td>\n",
       "      <td>NaN</td>\n",
       "      <td>1</td>\n",
       "    </tr>\n",
       "    <tr>\n",
       "      <th>2006-01-02</th>\n",
       "      <td>0.000000</td>\n",
       "      <td>CanESM2</td>\n",
       "      <td>rcp45</td>\n",
       "      <td>2006</td>\n",
       "      <td>1</td>\n",
       "      <td>2006</td>\n",
       "      <td>0.000000</td>\n",
       "      <td>False</td>\n",
       "      <td>2</td>\n",
       "    </tr>\n",
       "    <tr>\n",
       "      <th>2006-01-03</th>\n",
       "      <td>0.000000</td>\n",
       "      <td>CanESM2</td>\n",
       "      <td>rcp45</td>\n",
       "      <td>2006</td>\n",
       "      <td>1</td>\n",
       "      <td>2006</td>\n",
       "      <td>0.000000</td>\n",
       "      <td>False</td>\n",
       "      <td>2</td>\n",
       "    </tr>\n",
       "    <tr>\n",
       "      <th>2006-01-04</th>\n",
       "      <td>0.001072</td>\n",
       "      <td>CanESM2</td>\n",
       "      <td>rcp45</td>\n",
       "      <td>2006</td>\n",
       "      <td>1</td>\n",
       "      <td>2006</td>\n",
       "      <td>0.001072</td>\n",
       "      <td>False</td>\n",
       "      <td>2</td>\n",
       "    </tr>\n",
       "    <tr>\n",
       "      <th>2006-01-05</th>\n",
       "      <td>0.000000</td>\n",
       "      <td>CanESM2</td>\n",
       "      <td>rcp45</td>\n",
       "      <td>2006</td>\n",
       "      <td>1</td>\n",
       "      <td>2006</td>\n",
       "      <td>0.001072</td>\n",
       "      <td>False</td>\n",
       "      <td>2</td>\n",
       "    </tr>\n",
       "    <tr>\n",
       "      <th>...</th>\n",
       "      <td>...</td>\n",
       "      <td>...</td>\n",
       "      <td>...</td>\n",
       "      <td>...</td>\n",
       "      <td>...</td>\n",
       "      <td>...</td>\n",
       "      <td>...</td>\n",
       "      <td>...</td>\n",
       "      <td>...</td>\n",
       "    </tr>\n",
       "    <tr>\n",
       "      <th>2095-09-26</th>\n",
       "      <td>0.000000</td>\n",
       "      <td>MIROC5</td>\n",
       "      <td>rcp85</td>\n",
       "      <td>2095</td>\n",
       "      <td>9</td>\n",
       "      <td>2095</td>\n",
       "      <td>-0.000000</td>\n",
       "      <td>False</td>\n",
       "      <td>9910</td>\n",
       "    </tr>\n",
       "    <tr>\n",
       "      <th>2095-09-27</th>\n",
       "      <td>0.000000</td>\n",
       "      <td>MIROC5</td>\n",
       "      <td>rcp85</td>\n",
       "      <td>2095</td>\n",
       "      <td>9</td>\n",
       "      <td>2095</td>\n",
       "      <td>-0.000000</td>\n",
       "      <td>False</td>\n",
       "      <td>9910</td>\n",
       "    </tr>\n",
       "    <tr>\n",
       "      <th>2095-09-28</th>\n",
       "      <td>0.000000</td>\n",
       "      <td>MIROC5</td>\n",
       "      <td>rcp85</td>\n",
       "      <td>2095</td>\n",
       "      <td>9</td>\n",
       "      <td>2095</td>\n",
       "      <td>-0.000000</td>\n",
       "      <td>False</td>\n",
       "      <td>9910</td>\n",
       "    </tr>\n",
       "    <tr>\n",
       "      <th>2095-09-29</th>\n",
       "      <td>0.000000</td>\n",
       "      <td>MIROC5</td>\n",
       "      <td>rcp85</td>\n",
       "      <td>2095</td>\n",
       "      <td>9</td>\n",
       "      <td>2095</td>\n",
       "      <td>-0.000000</td>\n",
       "      <td>False</td>\n",
       "      <td>9910</td>\n",
       "    </tr>\n",
       "    <tr>\n",
       "      <th>2095-09-30</th>\n",
       "      <td>0.000000</td>\n",
       "      <td>MIROC5</td>\n",
       "      <td>rcp85</td>\n",
       "      <td>2095</td>\n",
       "      <td>9</td>\n",
       "      <td>2095</td>\n",
       "      <td>-0.000000</td>\n",
       "      <td>False</td>\n",
       "      <td>9910</td>\n",
       "    </tr>\n",
       "  </tbody>\n",
       "</table>\n",
       "<p>262240 rows × 9 columns</p>\n",
       "</div>"
      ],
      "text/plain": [
       "              value   series scenario  year  month  wateryear  total_precip  \\\n",
       "2006-01-01 0.000000  CanESM2    rcp45  2006      1       2006           NaN   \n",
       "2006-01-02 0.000000  CanESM2    rcp45  2006      1       2006      0.000000   \n",
       "2006-01-03 0.000000  CanESM2    rcp45  2006      1       2006      0.000000   \n",
       "2006-01-04 0.001072  CanESM2    rcp45  2006      1       2006      0.001072   \n",
       "2006-01-05 0.000000  CanESM2    rcp45  2006      1       2006      0.001072   \n",
       "...             ...      ...      ...   ...    ...        ...           ...   \n",
       "2095-09-26 0.000000   MIROC5    rcp85  2095      9       2095     -0.000000   \n",
       "2095-09-27 0.000000   MIROC5    rcp85  2095      9       2095     -0.000000   \n",
       "2095-09-28 0.000000   MIROC5    rcp85  2095      9       2095     -0.000000   \n",
       "2095-09-29 0.000000   MIROC5    rcp85  2095      9       2095     -0.000000   \n",
       "2095-09-30 0.000000   MIROC5    rcp85  2095      9       2095     -0.000000   \n",
       "\n",
       "           exceedance  consecutive_group_id  \n",
       "2006-01-01        NaN                     1  \n",
       "2006-01-02      False                     2  \n",
       "2006-01-03      False                     2  \n",
       "2006-01-04      False                     2  \n",
       "2006-01-05      False                     2  \n",
       "...               ...                   ...  \n",
       "2095-09-26      False                  9910  \n",
       "2095-09-27      False                  9910  \n",
       "2095-09-28      False                  9910  \n",
       "2095-09-29      False                  9910  \n",
       "2095-09-30      False                  9910  \n",
       "\n",
       "[262240 rows x 9 columns]"
      ]
     },
     "execution_count": 45,
     "metadata": {},
     "output_type": "execute_result"
    }
   ],
   "source": [
    "# create a PDS and fit data using same threshold for rpc 45 for all climate models\n",
    "all_models =  projectedDF.loc[(projectedDF['wateryear'] <= 2095)]\n",
    "all_models = pd.DataFrame(all_models)\n",
    "PDS_all = create_pds(all_models, threshold, duration)\n",
    "params_all = pot(PDS_all, threshold)\n",
    "all_models"
   ]
  },
  {
   "cell_type": "code",
   "execution_count": 39,
   "id": "82589462-b950-4a93-869b-89dae6075235",
   "metadata": {
    "tags": []
   },
   "outputs": [
    {
     "data": {
      "text/html": [
       "<div>\n",
       "<style scoped>\n",
       "    .dataframe tbody tr th:only-of-type {\n",
       "        vertical-align: middle;\n",
       "    }\n",
       "\n",
       "    .dataframe tbody tr th {\n",
       "        vertical-align: top;\n",
       "    }\n",
       "\n",
       "    .dataframe thead th {\n",
       "        text-align: right;\n",
       "    }\n",
       "</style>\n",
       "<table border=\"1\" class=\"dataframe\">\n",
       "  <thead>\n",
       "    <tr style=\"text-align: right;\">\n",
       "      <th></th>\n",
       "      <th>value</th>\n",
       "      <th>series</th>\n",
       "      <th>scenario</th>\n",
       "      <th>year</th>\n",
       "      <th>month</th>\n",
       "      <th>wateryear</th>\n",
       "      <th>total_precip</th>\n",
       "      <th>exceedance</th>\n",
       "      <th>consecutive_group_id</th>\n",
       "    </tr>\n",
       "  </thead>\n",
       "  <tbody>\n",
       "    <tr>\n",
       "      <th>2006-01-01</th>\n",
       "      <td>0.000000</td>\n",
       "      <td>CanESM2</td>\n",
       "      <td>rcp45</td>\n",
       "      <td>2006</td>\n",
       "      <td>1</td>\n",
       "      <td>2006</td>\n",
       "      <td>NaN</td>\n",
       "      <td>NaN</td>\n",
       "      <td>1</td>\n",
       "    </tr>\n",
       "    <tr>\n",
       "      <th>2006-01-02</th>\n",
       "      <td>0.000000</td>\n",
       "      <td>CanESM2</td>\n",
       "      <td>rcp45</td>\n",
       "      <td>2006</td>\n",
       "      <td>1</td>\n",
       "      <td>2006</td>\n",
       "      <td>0.000000e+00</td>\n",
       "      <td>False</td>\n",
       "      <td>2</td>\n",
       "    </tr>\n",
       "    <tr>\n",
       "      <th>2006-01-03</th>\n",
       "      <td>0.000000</td>\n",
       "      <td>CanESM2</td>\n",
       "      <td>rcp45</td>\n",
       "      <td>2006</td>\n",
       "      <td>1</td>\n",
       "      <td>2006</td>\n",
       "      <td>0.000000e+00</td>\n",
       "      <td>False</td>\n",
       "      <td>2</td>\n",
       "    </tr>\n",
       "    <tr>\n",
       "      <th>2006-01-04</th>\n",
       "      <td>0.001072</td>\n",
       "      <td>CanESM2</td>\n",
       "      <td>rcp45</td>\n",
       "      <td>2006</td>\n",
       "      <td>1</td>\n",
       "      <td>2006</td>\n",
       "      <td>1.071909e-03</td>\n",
       "      <td>False</td>\n",
       "      <td>2</td>\n",
       "    </tr>\n",
       "    <tr>\n",
       "      <th>2006-01-05</th>\n",
       "      <td>0.000000</td>\n",
       "      <td>CanESM2</td>\n",
       "      <td>rcp45</td>\n",
       "      <td>2006</td>\n",
       "      <td>1</td>\n",
       "      <td>2006</td>\n",
       "      <td>1.071909e-03</td>\n",
       "      <td>False</td>\n",
       "      <td>2</td>\n",
       "    </tr>\n",
       "    <tr>\n",
       "      <th>...</th>\n",
       "      <td>...</td>\n",
       "      <td>...</td>\n",
       "      <td>...</td>\n",
       "      <td>...</td>\n",
       "      <td>...</td>\n",
       "      <td>...</td>\n",
       "      <td>...</td>\n",
       "      <td>...</td>\n",
       "      <td>...</td>\n",
       "    </tr>\n",
       "    <tr>\n",
       "      <th>2095-09-26</th>\n",
       "      <td>0.000000</td>\n",
       "      <td>MIROC5</td>\n",
       "      <td>rcp45</td>\n",
       "      <td>2095</td>\n",
       "      <td>9</td>\n",
       "      <td>2095</td>\n",
       "      <td>-2.220446e-15</td>\n",
       "      <td>False</td>\n",
       "      <td>4900</td>\n",
       "    </tr>\n",
       "    <tr>\n",
       "      <th>2095-09-27</th>\n",
       "      <td>0.000000</td>\n",
       "      <td>MIROC5</td>\n",
       "      <td>rcp45</td>\n",
       "      <td>2095</td>\n",
       "      <td>9</td>\n",
       "      <td>2095</td>\n",
       "      <td>-2.220446e-15</td>\n",
       "      <td>False</td>\n",
       "      <td>4900</td>\n",
       "    </tr>\n",
       "    <tr>\n",
       "      <th>2095-09-28</th>\n",
       "      <td>0.000000</td>\n",
       "      <td>MIROC5</td>\n",
       "      <td>rcp45</td>\n",
       "      <td>2095</td>\n",
       "      <td>9</td>\n",
       "      <td>2095</td>\n",
       "      <td>-2.220446e-15</td>\n",
       "      <td>False</td>\n",
       "      <td>4900</td>\n",
       "    </tr>\n",
       "    <tr>\n",
       "      <th>2095-09-29</th>\n",
       "      <td>0.000000</td>\n",
       "      <td>MIROC5</td>\n",
       "      <td>rcp45</td>\n",
       "      <td>2095</td>\n",
       "      <td>9</td>\n",
       "      <td>2095</td>\n",
       "      <td>-2.220446e-15</td>\n",
       "      <td>False</td>\n",
       "      <td>4900</td>\n",
       "    </tr>\n",
       "    <tr>\n",
       "      <th>2095-09-30</th>\n",
       "      <td>0.000000</td>\n",
       "      <td>MIROC5</td>\n",
       "      <td>rcp45</td>\n",
       "      <td>2095</td>\n",
       "      <td>9</td>\n",
       "      <td>2095</td>\n",
       "      <td>-2.220446e-15</td>\n",
       "      <td>False</td>\n",
       "      <td>4900</td>\n",
       "    </tr>\n",
       "  </tbody>\n",
       "</table>\n",
       "<p>131120 rows × 9 columns</p>\n",
       "</div>"
      ],
      "text/plain": [
       "               value   series scenario  year  month  wateryear  total_precip  \\\n",
       "2006-01-01  0.000000  CanESM2    rcp45  2006      1       2006           NaN   \n",
       "2006-01-02  0.000000  CanESM2    rcp45  2006      1       2006  0.000000e+00   \n",
       "2006-01-03  0.000000  CanESM2    rcp45  2006      1       2006  0.000000e+00   \n",
       "2006-01-04  0.001072  CanESM2    rcp45  2006      1       2006  1.071909e-03   \n",
       "2006-01-05  0.000000  CanESM2    rcp45  2006      1       2006  1.071909e-03   \n",
       "...              ...      ...      ...   ...    ...        ...           ...   \n",
       "2095-09-26  0.000000   MIROC5    rcp45  2095      9       2095 -2.220446e-15   \n",
       "2095-09-27  0.000000   MIROC5    rcp45  2095      9       2095 -2.220446e-15   \n",
       "2095-09-28  0.000000   MIROC5    rcp45  2095      9       2095 -2.220446e-15   \n",
       "2095-09-29  0.000000   MIROC5    rcp45  2095      9       2095 -2.220446e-15   \n",
       "2095-09-30  0.000000   MIROC5    rcp45  2095      9       2095 -2.220446e-15   \n",
       "\n",
       "           exceedance  consecutive_group_id  \n",
       "2006-01-01        NaN                     1  \n",
       "2006-01-02      False                     2  \n",
       "2006-01-03      False                     2  \n",
       "2006-01-04      False                     2  \n",
       "2006-01-05      False                     2  \n",
       "...               ...                   ...  \n",
       "2095-09-26      False                  4900  \n",
       "2095-09-27      False                  4900  \n",
       "2095-09-28      False                  4900  \n",
       "2095-09-29      False                  4900  \n",
       "2095-09-30      False                  4900  \n",
       "\n",
       "[131120 rows x 9 columns]"
      ]
     },
     "execution_count": 39,
     "metadata": {},
     "output_type": "execute_result"
    }
   ],
   "source": [
    "# create a PDS and fit data using same threshold for rpc 45 for all climate models\n",
    "models_45 =  projectedDF45.loc[(projectedDF45['wateryear'] <= 2095)]\n",
    "models_45 = pd.DataFrame(models_45)\n",
    "PDS_45 = create_pds(models_45, threshold, duration)\n",
    "params_45 = pot(PDS_45, threshold)\n",
    "models_45"
   ]
  },
  {
   "cell_type": "code",
   "execution_count": 40,
   "id": "ccc6cf01-3ab7-46d8-b2c6-7606423a1236",
   "metadata": {
    "tags": []
   },
   "outputs": [
    {
     "data": {
      "text/html": [
       "<div>\n",
       "<style scoped>\n",
       "    .dataframe tbody tr th:only-of-type {\n",
       "        vertical-align: middle;\n",
       "    }\n",
       "\n",
       "    .dataframe tbody tr th {\n",
       "        vertical-align: top;\n",
       "    }\n",
       "\n",
       "    .dataframe thead th {\n",
       "        text-align: right;\n",
       "    }\n",
       "</style>\n",
       "<table border=\"1\" class=\"dataframe\">\n",
       "  <thead>\n",
       "    <tr style=\"text-align: right;\">\n",
       "      <th></th>\n",
       "      <th>value</th>\n",
       "      <th>series</th>\n",
       "      <th>scenario</th>\n",
       "      <th>year</th>\n",
       "      <th>month</th>\n",
       "      <th>wateryear</th>\n",
       "      <th>total_precip</th>\n",
       "      <th>exceedance</th>\n",
       "      <th>consecutive_group_id</th>\n",
       "    </tr>\n",
       "  </thead>\n",
       "  <tbody>\n",
       "    <tr>\n",
       "      <th>2006-01-01</th>\n",
       "      <td>0.002106</td>\n",
       "      <td>CanESM2</td>\n",
       "      <td>rcp85</td>\n",
       "      <td>2006</td>\n",
       "      <td>1</td>\n",
       "      <td>2006</td>\n",
       "      <td>NaN</td>\n",
       "      <td>NaN</td>\n",
       "      <td>1</td>\n",
       "    </tr>\n",
       "    <tr>\n",
       "      <th>2006-01-02</th>\n",
       "      <td>0.000000</td>\n",
       "      <td>CanESM2</td>\n",
       "      <td>rcp85</td>\n",
       "      <td>2006</td>\n",
       "      <td>1</td>\n",
       "      <td>2006</td>\n",
       "      <td>2.105936e-03</td>\n",
       "      <td>False</td>\n",
       "      <td>2</td>\n",
       "    </tr>\n",
       "    <tr>\n",
       "      <th>2006-01-03</th>\n",
       "      <td>0.000000</td>\n",
       "      <td>CanESM2</td>\n",
       "      <td>rcp85</td>\n",
       "      <td>2006</td>\n",
       "      <td>1</td>\n",
       "      <td>2006</td>\n",
       "      <td>0.000000e+00</td>\n",
       "      <td>False</td>\n",
       "      <td>2</td>\n",
       "    </tr>\n",
       "    <tr>\n",
       "      <th>2006-01-04</th>\n",
       "      <td>0.000000</td>\n",
       "      <td>CanESM2</td>\n",
       "      <td>rcp85</td>\n",
       "      <td>2006</td>\n",
       "      <td>1</td>\n",
       "      <td>2006</td>\n",
       "      <td>0.000000e+00</td>\n",
       "      <td>False</td>\n",
       "      <td>2</td>\n",
       "    </tr>\n",
       "    <tr>\n",
       "      <th>2006-01-05</th>\n",
       "      <td>0.000000</td>\n",
       "      <td>CanESM2</td>\n",
       "      <td>rcp85</td>\n",
       "      <td>2006</td>\n",
       "      <td>1</td>\n",
       "      <td>2006</td>\n",
       "      <td>0.000000e+00</td>\n",
       "      <td>False</td>\n",
       "      <td>2</td>\n",
       "    </tr>\n",
       "    <tr>\n",
       "      <th>...</th>\n",
       "      <td>...</td>\n",
       "      <td>...</td>\n",
       "      <td>...</td>\n",
       "      <td>...</td>\n",
       "      <td>...</td>\n",
       "      <td>...</td>\n",
       "      <td>...</td>\n",
       "      <td>...</td>\n",
       "      <td>...</td>\n",
       "    </tr>\n",
       "    <tr>\n",
       "      <th>2095-09-26</th>\n",
       "      <td>0.000000</td>\n",
       "      <td>MIROC5</td>\n",
       "      <td>rcp85</td>\n",
       "      <td>2095</td>\n",
       "      <td>9</td>\n",
       "      <td>2095</td>\n",
       "      <td>-7.133183e-15</td>\n",
       "      <td>False</td>\n",
       "      <td>5012</td>\n",
       "    </tr>\n",
       "    <tr>\n",
       "      <th>2095-09-27</th>\n",
       "      <td>0.000000</td>\n",
       "      <td>MIROC5</td>\n",
       "      <td>rcp85</td>\n",
       "      <td>2095</td>\n",
       "      <td>9</td>\n",
       "      <td>2095</td>\n",
       "      <td>-7.133183e-15</td>\n",
       "      <td>False</td>\n",
       "      <td>5012</td>\n",
       "    </tr>\n",
       "    <tr>\n",
       "      <th>2095-09-28</th>\n",
       "      <td>0.000000</td>\n",
       "      <td>MIROC5</td>\n",
       "      <td>rcp85</td>\n",
       "      <td>2095</td>\n",
       "      <td>9</td>\n",
       "      <td>2095</td>\n",
       "      <td>-7.133183e-15</td>\n",
       "      <td>False</td>\n",
       "      <td>5012</td>\n",
       "    </tr>\n",
       "    <tr>\n",
       "      <th>2095-09-29</th>\n",
       "      <td>0.000000</td>\n",
       "      <td>MIROC5</td>\n",
       "      <td>rcp85</td>\n",
       "      <td>2095</td>\n",
       "      <td>9</td>\n",
       "      <td>2095</td>\n",
       "      <td>-7.133183e-15</td>\n",
       "      <td>False</td>\n",
       "      <td>5012</td>\n",
       "    </tr>\n",
       "    <tr>\n",
       "      <th>2095-09-30</th>\n",
       "      <td>0.000000</td>\n",
       "      <td>MIROC5</td>\n",
       "      <td>rcp85</td>\n",
       "      <td>2095</td>\n",
       "      <td>9</td>\n",
       "      <td>2095</td>\n",
       "      <td>-7.133183e-15</td>\n",
       "      <td>False</td>\n",
       "      <td>5012</td>\n",
       "    </tr>\n",
       "  </tbody>\n",
       "</table>\n",
       "<p>131120 rows × 9 columns</p>\n",
       "</div>"
      ],
      "text/plain": [
       "               value   series scenario  year  month  wateryear  total_precip  \\\n",
       "2006-01-01  0.002106  CanESM2    rcp85  2006      1       2006           NaN   \n",
       "2006-01-02  0.000000  CanESM2    rcp85  2006      1       2006  2.105936e-03   \n",
       "2006-01-03  0.000000  CanESM2    rcp85  2006      1       2006  0.000000e+00   \n",
       "2006-01-04  0.000000  CanESM2    rcp85  2006      1       2006  0.000000e+00   \n",
       "2006-01-05  0.000000  CanESM2    rcp85  2006      1       2006  0.000000e+00   \n",
       "...              ...      ...      ...   ...    ...        ...           ...   \n",
       "2095-09-26  0.000000   MIROC5    rcp85  2095      9       2095 -7.133183e-15   \n",
       "2095-09-27  0.000000   MIROC5    rcp85  2095      9       2095 -7.133183e-15   \n",
       "2095-09-28  0.000000   MIROC5    rcp85  2095      9       2095 -7.133183e-15   \n",
       "2095-09-29  0.000000   MIROC5    rcp85  2095      9       2095 -7.133183e-15   \n",
       "2095-09-30  0.000000   MIROC5    rcp85  2095      9       2095 -7.133183e-15   \n",
       "\n",
       "           exceedance  consecutive_group_id  \n",
       "2006-01-01        NaN                     1  \n",
       "2006-01-02      False                     2  \n",
       "2006-01-03      False                     2  \n",
       "2006-01-04      False                     2  \n",
       "2006-01-05      False                     2  \n",
       "...               ...                   ...  \n",
       "2095-09-26      False                  5012  \n",
       "2095-09-27      False                  5012  \n",
       "2095-09-28      False                  5012  \n",
       "2095-09-29      False                  5012  \n",
       "2095-09-30      False                  5012  \n",
       "\n",
       "[131120 rows x 9 columns]"
      ]
     },
     "execution_count": 40,
     "metadata": {},
     "output_type": "execute_result"
    }
   ],
   "source": [
    "# create a PDS and fit data using same threshold for rpc 45 for all climate models\n",
    "models_85 =  projectedDF85.loc[(projectedDF85['wateryear'] <= 2095)]\n",
    "models_85 = pd.DataFrame(models_85)\n",
    "PDS_85 = create_pds(models_85, threshold, duration)\n",
    "params_85 = pot(PDS_85, threshold)\n",
    "models_85"
   ]
  },
  {
   "cell_type": "code",
   "execution_count": 49,
   "id": "3fc092b1-58f8-40ac-be20-71c8478a4937",
   "metadata": {
    "tags": []
   },
   "outputs": [],
   "source": [
    "all_models.series.unique()\n",
    "all_models.scenario.unique()\n",
    "all_models.year.unique()"
   ]
  },
  {
   "cell_type": "code",
   "execution_count": 50,
   "id": "8a21d36c-1ab8-4dd0-aa03-c9b223a8b020",
   "metadata": {
    "tags": []
   },
   "outputs": [
    {
     "data": {
      "text/html": [
       "<div>\n",
       "<style scoped>\n",
       "    .dataframe tbody tr th:only-of-type {\n",
       "        vertical-align: middle;\n",
       "    }\n",
       "\n",
       "    .dataframe tbody tr th {\n",
       "        vertical-align: top;\n",
       "    }\n",
       "\n",
       "    .dataframe thead th {\n",
       "        text-align: right;\n",
       "    }\n",
       "</style>\n",
       "<table border=\"1\" class=\"dataframe\">\n",
       "  <thead>\n",
       "    <tr style=\"text-align: right;\">\n",
       "      <th></th>\n",
       "      <th>value</th>\n",
       "      <th>series</th>\n",
       "      <th>scenario</th>\n",
       "      <th>year</th>\n",
       "      <th>month</th>\n",
       "      <th>wateryear</th>\n",
       "      <th>total_precip</th>\n",
       "      <th>exceedance</th>\n",
       "      <th>consecutive_group_id</th>\n",
       "    </tr>\n",
       "  </thead>\n",
       "  <tbody>\n",
       "    <tr>\n",
       "      <th>1994-10-02</th>\n",
       "      <td>0.019357</td>\n",
       "      <td>livneh</td>\n",
       "      <td>historical</td>\n",
       "      <td>1994</td>\n",
       "      <td>10</td>\n",
       "      <td>1995</td>\n",
       "      <td>0.019357</td>\n",
       "      <td>False</td>\n",
       "      <td>2</td>\n",
       "    </tr>\n",
       "    <tr>\n",
       "      <th>1994-10-03</th>\n",
       "      <td>0.226212</td>\n",
       "      <td>livneh</td>\n",
       "      <td>historical</td>\n",
       "      <td>1994</td>\n",
       "      <td>10</td>\n",
       "      <td>1995</td>\n",
       "      <td>0.245569</td>\n",
       "      <td>False</td>\n",
       "      <td>2</td>\n",
       "    </tr>\n",
       "    <tr>\n",
       "      <th>1994-10-04</th>\n",
       "      <td>0.258473</td>\n",
       "      <td>livneh</td>\n",
       "      <td>historical</td>\n",
       "      <td>1994</td>\n",
       "      <td>10</td>\n",
       "      <td>1995</td>\n",
       "      <td>0.484685</td>\n",
       "      <td>False</td>\n",
       "      <td>2</td>\n",
       "    </tr>\n",
       "    <tr>\n",
       "      <th>1994-10-05</th>\n",
       "      <td>0.024291</td>\n",
       "      <td>livneh</td>\n",
       "      <td>historical</td>\n",
       "      <td>1994</td>\n",
       "      <td>10</td>\n",
       "      <td>1995</td>\n",
       "      <td>0.282765</td>\n",
       "      <td>False</td>\n",
       "      <td>2</td>\n",
       "    </tr>\n",
       "    <tr>\n",
       "      <th>1994-10-06</th>\n",
       "      <td>0.000000</td>\n",
       "      <td>livneh</td>\n",
       "      <td>historical</td>\n",
       "      <td>1994</td>\n",
       "      <td>10</td>\n",
       "      <td>1995</td>\n",
       "      <td>0.024291</td>\n",
       "      <td>False</td>\n",
       "      <td>2</td>\n",
       "    </tr>\n",
       "    <tr>\n",
       "      <th>...</th>\n",
       "      <td>...</td>\n",
       "      <td>...</td>\n",
       "      <td>...</td>\n",
       "      <td>...</td>\n",
       "      <td>...</td>\n",
       "      <td>...</td>\n",
       "      <td>...</td>\n",
       "      <td>...</td>\n",
       "      <td>...</td>\n",
       "    </tr>\n",
       "    <tr>\n",
       "      <th>2095-09-26</th>\n",
       "      <td>0.000000</td>\n",
       "      <td>MIROC5</td>\n",
       "      <td>rcp85</td>\n",
       "      <td>2095</td>\n",
       "      <td>9</td>\n",
       "      <td>2095</td>\n",
       "      <td>-0.000000</td>\n",
       "      <td>False</td>\n",
       "      <td>9910</td>\n",
       "    </tr>\n",
       "    <tr>\n",
       "      <th>2095-09-27</th>\n",
       "      <td>0.000000</td>\n",
       "      <td>MIROC5</td>\n",
       "      <td>rcp85</td>\n",
       "      <td>2095</td>\n",
       "      <td>9</td>\n",
       "      <td>2095</td>\n",
       "      <td>-0.000000</td>\n",
       "      <td>False</td>\n",
       "      <td>9910</td>\n",
       "    </tr>\n",
       "    <tr>\n",
       "      <th>2095-09-28</th>\n",
       "      <td>0.000000</td>\n",
       "      <td>MIROC5</td>\n",
       "      <td>rcp85</td>\n",
       "      <td>2095</td>\n",
       "      <td>9</td>\n",
       "      <td>2095</td>\n",
       "      <td>-0.000000</td>\n",
       "      <td>False</td>\n",
       "      <td>9910</td>\n",
       "    </tr>\n",
       "    <tr>\n",
       "      <th>2095-09-29</th>\n",
       "      <td>0.000000</td>\n",
       "      <td>MIROC5</td>\n",
       "      <td>rcp85</td>\n",
       "      <td>2095</td>\n",
       "      <td>9</td>\n",
       "      <td>2095</td>\n",
       "      <td>-0.000000</td>\n",
       "      <td>False</td>\n",
       "      <td>9910</td>\n",
       "    </tr>\n",
       "    <tr>\n",
       "      <th>2095-09-30</th>\n",
       "      <td>0.000000</td>\n",
       "      <td>MIROC5</td>\n",
       "      <td>rcp85</td>\n",
       "      <td>2095</td>\n",
       "      <td>9</td>\n",
       "      <td>2095</td>\n",
       "      <td>-0.000000</td>\n",
       "      <td>False</td>\n",
       "      <td>9910</td>\n",
       "    </tr>\n",
       "  </tbody>\n",
       "</table>\n",
       "<p>269271 rows × 9 columns</p>\n",
       "</div>"
      ],
      "text/plain": [
       "              value  series    scenario  year  month  wateryear  total_precip  \\\n",
       "1994-10-02 0.019357  livneh  historical  1994     10       1995      0.019357   \n",
       "1994-10-03 0.226212  livneh  historical  1994     10       1995      0.245569   \n",
       "1994-10-04 0.258473  livneh  historical  1994     10       1995      0.484685   \n",
       "1994-10-05 0.024291  livneh  historical  1994     10       1995      0.282765   \n",
       "1994-10-06 0.000000  livneh  historical  1994     10       1995      0.024291   \n",
       "...             ...     ...         ...   ...    ...        ...           ...   \n",
       "2095-09-26 0.000000  MIROC5       rcp85  2095      9       2095     -0.000000   \n",
       "2095-09-27 0.000000  MIROC5       rcp85  2095      9       2095     -0.000000   \n",
       "2095-09-28 0.000000  MIROC5       rcp85  2095      9       2095     -0.000000   \n",
       "2095-09-29 0.000000  MIROC5       rcp85  2095      9       2095     -0.000000   \n",
       "2095-09-30 0.000000  MIROC5       rcp85  2095      9       2095     -0.000000   \n",
       "\n",
       "           exceedance  consecutive_group_id  \n",
       "1994-10-02      False                     2  \n",
       "1994-10-03      False                     2  \n",
       "1994-10-04      False                     2  \n",
       "1994-10-05      False                     2  \n",
       "1994-10-06      False                     2  \n",
       "...               ...                   ...  \n",
       "2095-09-26      False                  9910  \n",
       "2095-09-27      False                  9910  \n",
       "2095-09-28      False                  9910  \n",
       "2095-09-29      False                  9910  \n",
       "2095-09-30      False                  9910  \n",
       "\n",
       "[269271 rows x 9 columns]"
      ]
     },
     "execution_count": 50,
     "metadata": {},
     "output_type": "execute_result"
    }
   ],
   "source": [
    "hist_proj = pd.concat([baselineDF, all_models])\n",
    "hist_proj"
   ]
  },
  {
   "cell_type": "code",
   "execution_count": 41,
   "id": "f0a5810f-a485-4fed-98af-ecb47ec534c1",
   "metadata": {
    "tags": []
   },
   "outputs": [],
   "source": [
    "hist_45 = pd.concat([baselineDF, models_45])"
   ]
  },
  {
   "cell_type": "code",
   "execution_count": 42,
   "id": "dcabba87-fda1-43c2-a26f-f6283820f2e2",
   "metadata": {
    "tags": []
   },
   "outputs": [],
   "source": [
    "hist_85 = pd.concat([baselineDF, models_85])"
   ]
  },
  {
   "cell_type": "code",
   "execution_count": 53,
   "id": "f38a9218-3b9b-4400-980c-7fb36ff69f18",
   "metadata": {
    "tags": []
   },
   "outputs": [
    {
     "data": {
      "text/plain": [
       "array(['livneh', 'CanESM2', 'CNRM-CM5', 'HadGEM2-ES', 'MIROC5'],\n",
       "      dtype=object)"
      ]
     },
     "execution_count": 53,
     "metadata": {},
     "output_type": "execute_result"
    }
   ],
   "source": [
    "hist_proj.series.unique()\n",
    "#hist_proj.scenario.unique()\n",
    "#hist_proj.year.unique()"
   ]
  },
  {
   "cell_type": "code",
   "execution_count": 75,
   "id": "b69571d1-8aa4-4ffc-a716-4c4147139675",
   "metadata": {
    "tags": []
   },
   "outputs": [
    {
     "data": {
      "text/html": [
       "<div>\n",
       "<style scoped>\n",
       "    .dataframe tbody tr th:only-of-type {\n",
       "        vertical-align: middle;\n",
       "    }\n",
       "\n",
       "    .dataframe tbody tr th {\n",
       "        vertical-align: top;\n",
       "    }\n",
       "\n",
       "    .dataframe thead th {\n",
       "        text-align: right;\n",
       "    }\n",
       "</style>\n",
       "<table border=\"1\" class=\"dataframe\">\n",
       "  <thead>\n",
       "    <tr style=\"text-align: right;\">\n",
       "      <th></th>\n",
       "      <th></th>\n",
       "      <th>total_precip</th>\n",
       "    </tr>\n",
       "    <tr>\n",
       "      <th>year</th>\n",
       "      <th>scenario</th>\n",
       "      <th></th>\n",
       "    </tr>\n",
       "  </thead>\n",
       "  <tbody>\n",
       "    <tr>\n",
       "      <th>1994</th>\n",
       "      <th>historical</th>\n",
       "      <td>6.227874</td>\n",
       "    </tr>\n",
       "    <tr>\n",
       "      <th>1995</th>\n",
       "      <th>historical</th>\n",
       "      <td>75.392004</td>\n",
       "    </tr>\n",
       "    <tr>\n",
       "      <th>1996</th>\n",
       "      <th>historical</th>\n",
       "      <td>44.665220</td>\n",
       "    </tr>\n",
       "    <tr>\n",
       "      <th>1997</th>\n",
       "      <th>historical</th>\n",
       "      <td>30.807414</td>\n",
       "    </tr>\n",
       "    <tr>\n",
       "      <th>1998</th>\n",
       "      <th>historical</th>\n",
       "      <td>78.571840</td>\n",
       "    </tr>\n",
       "    <tr>\n",
       "      <th>...</th>\n",
       "      <th>...</th>\n",
       "      <td>...</td>\n",
       "    </tr>\n",
       "    <tr>\n",
       "      <th>2093</th>\n",
       "      <th>rcp85</th>\n",
       "      <td>178.048094</td>\n",
       "    </tr>\n",
       "    <tr>\n",
       "      <th rowspan=\"2\" valign=\"top\">2094</th>\n",
       "      <th>rcp45</th>\n",
       "      <td>109.288955</td>\n",
       "    </tr>\n",
       "    <tr>\n",
       "      <th>rcp85</th>\n",
       "      <td>123.772960</td>\n",
       "    </tr>\n",
       "    <tr>\n",
       "      <th rowspan=\"2\" valign=\"top\">2095</th>\n",
       "      <th>rcp45</th>\n",
       "      <td>118.324617</td>\n",
       "    </tr>\n",
       "    <tr>\n",
       "      <th>rcp85</th>\n",
       "      <td>172.635029</td>\n",
       "    </tr>\n",
       "  </tbody>\n",
       "</table>\n",
       "<p>200 rows × 1 columns</p>\n",
       "</div>"
      ],
      "text/plain": [
       "                 total_precip\n",
       "year scenario                \n",
       "1994 historical      6.227874\n",
       "1995 historical     75.392004\n",
       "1996 historical     44.665220\n",
       "1997 historical     30.807414\n",
       "1998 historical     78.571840\n",
       "...                       ...\n",
       "2093 rcp85         178.048094\n",
       "2094 rcp45         109.288955\n",
       "     rcp85         123.772960\n",
       "2095 rcp45         118.324617\n",
       "     rcp85         172.635029\n",
       "\n",
       "[200 rows x 1 columns]"
      ]
     },
     "execution_count": 75,
     "metadata": {},
     "output_type": "execute_result"
    }
   ],
   "source": [
    "# average flipper length per species\n",
    "#avg_flipper = hist_proj.groupby(\"scenario\").total_precip()\n",
    "\n",
    "group = hist_proj[['total_precip','scenario', 'year']].groupby(['year', 'scenario']).sum()\n",
    "group"
   ]
  },
  {
   "cell_type": "code",
   "execution_count": 77,
   "id": "73d1e7b6-c4fd-4221-8638-8e0859ca504e",
   "metadata": {
    "tags": []
   },
   "outputs": [
    {
     "ename": "KeyError",
     "evalue": "'year'",
     "output_type": "error",
     "traceback": [
      "\u001b[0;31m---------------------------------------------------------------------------\u001b[0m",
      "\u001b[0;31mKeyError\u001b[0m                                  Traceback (most recent call last)",
      "\u001b[0;32m/opt/anaconda3/lib/python3.9/site-packages/pandas/core/indexes/base.py\u001b[0m in \u001b[0;36mget_loc\u001b[0;34m(self, key, method, tolerance)\u001b[0m\n\u001b[1;32m   3628\u001b[0m             \u001b[0;32mtry\u001b[0m\u001b[0;34m:\u001b[0m\u001b[0;34m\u001b[0m\u001b[0;34m\u001b[0m\u001b[0m\n\u001b[0;32m-> 3629\u001b[0;31m                 \u001b[0;32mreturn\u001b[0m \u001b[0mself\u001b[0m\u001b[0;34m.\u001b[0m\u001b[0m_engine\u001b[0m\u001b[0;34m.\u001b[0m\u001b[0mget_loc\u001b[0m\u001b[0;34m(\u001b[0m\u001b[0mcasted_key\u001b[0m\u001b[0;34m)\u001b[0m\u001b[0;34m\u001b[0m\u001b[0;34m\u001b[0m\u001b[0m\n\u001b[0m\u001b[1;32m   3630\u001b[0m             \u001b[0;32mexcept\u001b[0m \u001b[0mKeyError\u001b[0m \u001b[0;32mas\u001b[0m \u001b[0merr\u001b[0m\u001b[0;34m:\u001b[0m\u001b[0;34m\u001b[0m\u001b[0;34m\u001b[0m\u001b[0m\n",
      "\u001b[0;32m/opt/anaconda3/lib/python3.9/site-packages/pandas/_libs/index.pyx\u001b[0m in \u001b[0;36mpandas._libs.index.IndexEngine.get_loc\u001b[0;34m()\u001b[0m\n",
      "\u001b[0;32m/opt/anaconda3/lib/python3.9/site-packages/pandas/_libs/index.pyx\u001b[0m in \u001b[0;36mpandas._libs.index.IndexEngine.get_loc\u001b[0;34m()\u001b[0m\n",
      "\u001b[0;32mpandas/_libs/hashtable_class_helper.pxi\u001b[0m in \u001b[0;36mpandas._libs.hashtable.PyObjectHashTable.get_item\u001b[0;34m()\u001b[0m\n",
      "\u001b[0;32mpandas/_libs/hashtable_class_helper.pxi\u001b[0m in \u001b[0;36mpandas._libs.hashtable.PyObjectHashTable.get_item\u001b[0;34m()\u001b[0m\n",
      "\u001b[0;31mKeyError\u001b[0m: 'year'",
      "\nThe above exception was the direct cause of the following exception:\n",
      "\u001b[0;31mKeyError\u001b[0m                                  Traceback (most recent call last)",
      "\u001b[0;32m/tmp/ipykernel_3138034/3952642741.py\u001b[0m in \u001b[0;36m<module>\u001b[0;34m\u001b[0m\n\u001b[0;32m----> 1\u001b[0;31m \u001b[0mgroup\u001b[0m\u001b[0;34m.\u001b[0m\u001b[0mplot\u001b[0m\u001b[0;34m(\u001b[0m\u001b[0mx\u001b[0m \u001b[0;34m=\u001b[0m \u001b[0;34m'year'\u001b[0m\u001b[0;34m,\u001b[0m \u001b[0my\u001b[0m \u001b[0;34m=\u001b[0m \u001b[0;34m'total_precip'\u001b[0m\u001b[0;34m)\u001b[0m\u001b[0;34m\u001b[0m\u001b[0;34m\u001b[0m\u001b[0m\n\u001b[0m",
      "\u001b[0;32m/opt/anaconda3/lib/python3.9/site-packages/pandas/plotting/_core.py\u001b[0m in \u001b[0;36m__call__\u001b[0;34m(self, *args, **kwargs)\u001b[0m\n\u001b[1;32m    935\u001b[0m                 \u001b[0;32mif\u001b[0m \u001b[0mis_integer\u001b[0m\u001b[0;34m(\u001b[0m\u001b[0mx\u001b[0m\u001b[0;34m)\u001b[0m \u001b[0;32mand\u001b[0m \u001b[0;32mnot\u001b[0m \u001b[0mdata\u001b[0m\u001b[0;34m.\u001b[0m\u001b[0mcolumns\u001b[0m\u001b[0;34m.\u001b[0m\u001b[0mholds_integer\u001b[0m\u001b[0;34m(\u001b[0m\u001b[0;34m)\u001b[0m\u001b[0;34m:\u001b[0m\u001b[0;34m\u001b[0m\u001b[0;34m\u001b[0m\u001b[0m\n\u001b[1;32m    936\u001b[0m                     \u001b[0mx\u001b[0m \u001b[0;34m=\u001b[0m \u001b[0mdata_cols\u001b[0m\u001b[0;34m[\u001b[0m\u001b[0mx\u001b[0m\u001b[0;34m]\u001b[0m\u001b[0;34m\u001b[0m\u001b[0;34m\u001b[0m\u001b[0m\n\u001b[0;32m--> 937\u001b[0;31m                 \u001b[0;32melif\u001b[0m \u001b[0;32mnot\u001b[0m \u001b[0misinstance\u001b[0m\u001b[0;34m(\u001b[0m\u001b[0mdata\u001b[0m\u001b[0;34m[\u001b[0m\u001b[0mx\u001b[0m\u001b[0;34m]\u001b[0m\u001b[0;34m,\u001b[0m \u001b[0mABCSeries\u001b[0m\u001b[0;34m)\u001b[0m\u001b[0;34m:\u001b[0m\u001b[0;34m\u001b[0m\u001b[0;34m\u001b[0m\u001b[0m\n\u001b[0m\u001b[1;32m    938\u001b[0m                     \u001b[0;32mraise\u001b[0m \u001b[0mValueError\u001b[0m\u001b[0;34m(\u001b[0m\u001b[0;34m\"x must be a label or position\"\u001b[0m\u001b[0;34m)\u001b[0m\u001b[0;34m\u001b[0m\u001b[0;34m\u001b[0m\u001b[0m\n\u001b[1;32m    939\u001b[0m                 \u001b[0mdata\u001b[0m \u001b[0;34m=\u001b[0m \u001b[0mdata\u001b[0m\u001b[0;34m.\u001b[0m\u001b[0mset_index\u001b[0m\u001b[0;34m(\u001b[0m\u001b[0mx\u001b[0m\u001b[0;34m)\u001b[0m\u001b[0;34m\u001b[0m\u001b[0;34m\u001b[0m\u001b[0m\n",
      "\u001b[0;32m/opt/anaconda3/lib/python3.9/site-packages/pandas/core/frame.py\u001b[0m in \u001b[0;36m__getitem__\u001b[0;34m(self, key)\u001b[0m\n\u001b[1;32m   3503\u001b[0m             \u001b[0;32mif\u001b[0m \u001b[0mself\u001b[0m\u001b[0;34m.\u001b[0m\u001b[0mcolumns\u001b[0m\u001b[0;34m.\u001b[0m\u001b[0mnlevels\u001b[0m \u001b[0;34m>\u001b[0m \u001b[0;36m1\u001b[0m\u001b[0;34m:\u001b[0m\u001b[0;34m\u001b[0m\u001b[0;34m\u001b[0m\u001b[0m\n\u001b[1;32m   3504\u001b[0m                 \u001b[0;32mreturn\u001b[0m \u001b[0mself\u001b[0m\u001b[0;34m.\u001b[0m\u001b[0m_getitem_multilevel\u001b[0m\u001b[0;34m(\u001b[0m\u001b[0mkey\u001b[0m\u001b[0;34m)\u001b[0m\u001b[0;34m\u001b[0m\u001b[0;34m\u001b[0m\u001b[0m\n\u001b[0;32m-> 3505\u001b[0;31m             \u001b[0mindexer\u001b[0m \u001b[0;34m=\u001b[0m \u001b[0mself\u001b[0m\u001b[0;34m.\u001b[0m\u001b[0mcolumns\u001b[0m\u001b[0;34m.\u001b[0m\u001b[0mget_loc\u001b[0m\u001b[0;34m(\u001b[0m\u001b[0mkey\u001b[0m\u001b[0;34m)\u001b[0m\u001b[0;34m\u001b[0m\u001b[0;34m\u001b[0m\u001b[0m\n\u001b[0m\u001b[1;32m   3506\u001b[0m             \u001b[0;32mif\u001b[0m \u001b[0mis_integer\u001b[0m\u001b[0;34m(\u001b[0m\u001b[0mindexer\u001b[0m\u001b[0;34m)\u001b[0m\u001b[0;34m:\u001b[0m\u001b[0;34m\u001b[0m\u001b[0;34m\u001b[0m\u001b[0m\n\u001b[1;32m   3507\u001b[0m                 \u001b[0mindexer\u001b[0m \u001b[0;34m=\u001b[0m \u001b[0;34m[\u001b[0m\u001b[0mindexer\u001b[0m\u001b[0;34m]\u001b[0m\u001b[0;34m\u001b[0m\u001b[0;34m\u001b[0m\u001b[0m\n",
      "\u001b[0;32m/opt/anaconda3/lib/python3.9/site-packages/pandas/core/indexes/base.py\u001b[0m in \u001b[0;36mget_loc\u001b[0;34m(self, key, method, tolerance)\u001b[0m\n\u001b[1;32m   3629\u001b[0m                 \u001b[0;32mreturn\u001b[0m \u001b[0mself\u001b[0m\u001b[0;34m.\u001b[0m\u001b[0m_engine\u001b[0m\u001b[0;34m.\u001b[0m\u001b[0mget_loc\u001b[0m\u001b[0;34m(\u001b[0m\u001b[0mcasted_key\u001b[0m\u001b[0;34m)\u001b[0m\u001b[0;34m\u001b[0m\u001b[0;34m\u001b[0m\u001b[0m\n\u001b[1;32m   3630\u001b[0m             \u001b[0;32mexcept\u001b[0m \u001b[0mKeyError\u001b[0m \u001b[0;32mas\u001b[0m \u001b[0merr\u001b[0m\u001b[0;34m:\u001b[0m\u001b[0;34m\u001b[0m\u001b[0;34m\u001b[0m\u001b[0m\n\u001b[0;32m-> 3631\u001b[0;31m                 \u001b[0;32mraise\u001b[0m \u001b[0mKeyError\u001b[0m\u001b[0;34m(\u001b[0m\u001b[0mkey\u001b[0m\u001b[0;34m)\u001b[0m \u001b[0;32mfrom\u001b[0m \u001b[0merr\u001b[0m\u001b[0;34m\u001b[0m\u001b[0;34m\u001b[0m\u001b[0m\n\u001b[0m\u001b[1;32m   3632\u001b[0m             \u001b[0;32mexcept\u001b[0m \u001b[0mTypeError\u001b[0m\u001b[0;34m:\u001b[0m\u001b[0;34m\u001b[0m\u001b[0;34m\u001b[0m\u001b[0m\n\u001b[1;32m   3633\u001b[0m                 \u001b[0;31m# If we have a listlike key, _check_indexing_error will raise\u001b[0m\u001b[0;34m\u001b[0m\u001b[0;34m\u001b[0m\u001b[0m\n",
      "\u001b[0;31mKeyError\u001b[0m: 'year'"
     ]
    }
   ],
   "source": [
    "group.plot(x = 'year', y = 'total_precip')"
   ]
  },
  {
   "cell_type": "code",
   "execution_count": 61,
   "id": "ecd90d5c-48e8-48ad-8469-7d9b2f34162e",
   "metadata": {
    "tags": []
   },
   "outputs": [
    {
     "data": {
      "text/plain": [
       "<AxesSubplot:title={'center':'Historic Precipitation Totals for Glen City Elementary over a 2-day Average'}, xlabel='Year', ylabel='Rainfall in Inches'>"
      ]
     },
     "execution_count": 61,
     "metadata": {},
     "output_type": "execute_result"
    },
    {
     "data": {
      "image/png": "[encoded data removed]",
      "text/plain": [
       "<Figure size 640x480 with 1 Axes>"
      ]
     },
     "metadata": {},
     "output_type": "display_data"
    }
   ],
   "source": [
    "hist_proj.plot(y = ['total_precip'],\n",
    "               title = 'Historic Precipitation Totals for Glen City Elementary over a 2-day Average',\n",
    "               xlabel='Year',\n",
    "               ylabel='Rainfall in Inches',\n",
    "               color = {'total_precip':'#154a74'}       \n",
    "        )\n"
   ]
  },
  {
   "cell_type": "code",
   "execution_count": 53,
   "id": "06b7dd54-7e4c-45cd-9ea5-2be7c7073141",
   "metadata": {
    "tags": []
   },
   "outputs": [
    {
     "data": {
      "text/plain": [
       "<matplotlib.legend.Legend at 0x7f42c2a66a30>"
      ]
     },
     "execution_count": 53,
     "metadata": {},
     "output_type": "execute_result"
    },
    {
     "data": {
      "image/png": "[encoded data removed]",
      "text/plain": [
       "<Figure size 640x480 with 1 Axes>"
      ]
     },
     "metadata": {},
     "output_type": "display_data"
    },
    {
     "data": {
      "image/png": "[encoded data removed]",
      "text/plain": [
       "<Figure size 640x480 with 1 Axes>"
      ]
     },
     "metadata": {},
     "output_type": "display_data"
    }
   ],
   "source": [
    "models_45.plot(label = \"RCP 4.5\",\n",
    "              y = 'total_precip')\n",
    "plt.title('Projected Extreme Precipitation Over a 2-Day Average in Santa Paula School District')\n",
    "plt.ylabel(\"Average Precipitation Totals in Inches\")\n",
    "plt.xlabel(\"Year\")\n",
    "plt.legend()\n",
    "\n",
    "models_85.plot(label = \"RCP 8.5\",\n",
    "              y = 'total_precip',\n",
    "              color = 'orange')\n",
    "plt.title('Projected Extreme Precipitation Over a 2-Day Average in Santa Paula School District')\n",
    "plt.ylabel(\"Average Precipitation Totals in Inches\")\n",
    "plt.xlabel(\"Year\")\n",
    "plt.legend()\n"
   ]
  },
  {
   "cell_type": "code",
   "execution_count": 54,
   "id": "bd92bd8c-f7de-4744-9b1e-1808b99b74c2",
   "metadata": {
    "tags": []
   },
   "outputs": [
    {
     "data": {
      "text/plain": [
       "<AxesSubplot:>"
      ]
     },
     "execution_count": 54,
     "metadata": {},
     "output_type": "execute_result"
    },
    {
     "data": {
      "image/png": "[encoded data removed]",
      "text/plain": [
       "<Figure size 640x480 with 1 Axes>"
      ]
     },
     "metadata": {},
     "output_type": "display_data"
    }
   ],
   "source": [
    "models_45.plot()"
   ]
  },
  {
   "cell_type": "code",
   "execution_count": null,
   "id": "cec40e01-976d-4413-bda8-4cf4cb760c86",
   "metadata": {
    "tags": []
   },
   "outputs": [],
   "source": [
    "# Filter HadGEM2-ES model projections for mid-century, create a PDS and fit data using same threshold\n",
    "modelDF_hadgem2es = projectedDF.loc[(projectedDF['wateryear'] >= 2030) & (projectedDF['wateryear'] <= 2050) & (projectedDF['series'] == 'HadGEM2-ES')]\n",
    "modelDF_hadgem2es = pd.DataFrame(modelDF_hadgem2es)\n",
    "PDS_hadgem2es = create_pds(modelDF_hadgem2es, threshold, duration)\n",
    "params_hadgem2es = pot(PDS_hadgem2es, threshold)"
   ]
  },
  {
   "cell_type": "code",
   "execution_count": null,
   "id": "78a71948-e613-4e01-a0d3-2247c30edb4b",
   "metadata": {
    "tags": []
   },
   "outputs": [],
   "source": [
    "### Caluclate and plot return levels\n",
    "\n",
    "period = 100\n",
    "return_level_baseline = returnLevelWithCI(period, threshold, params[0], params[2], PDS)\n",
    "return_level_cnrmcm5 = returnLevelWithCI(period, threshold, params_cnrmcm5[0], params_cnrmcm5[2], PDS_cnrmcm5)\n",
    "return_level_hadgem2es = returnLevelWithCI(period, threshold, params_hadgem2es[0], params_hadgem2es[2], PDS_hadgem2es)\n",
    "\n",
    "# Plot the Return Levels for different timeseries\n",
    "data = [return_level_baseline, return_level_cnrmcm5, return_level_hadgem2es]\n",
    "labels = ['Baseline', 'CNRM-CM5 RCP 8.5', 'HadGEM2-ES RCP 8.5']\n",
    "\n",
    "fig, ax = plt.subplots()\n",
    "# Plot return levels\n",
    "ax.bar(labels, [y[1] for y in data])\n",
    "\n",
    "#Plot Confidence Intervals\n",
    "for idx, ci in enumerate(data):\n",
    "    ci_lower = ci[0]\n",
    "    ci_upper = ci[2]\n",
    "    x1, y1 = [idx, idx], [ci_lower, ci_upper]\n",
    "    ax.plot(x1, y1)\n",
    "\n",
    "plt.title('{} Year Return Levels with 95% Confidence Intervals at {}'.format(period, point))\n",
    "plt.show()"
   ]
  }
 ],
 "metadata": {
  "kernelspec": {
   "display_name": "Anaconda 3 (Base)",
   "language": "python",
   "name": "base"
  },
  "language_info": {
   "codemirror_mode": {
    "name": "ipython",
    "version": 3
   },
   "file_extension": ".py",
   "mimetype": "text/x-python",
   "name": "python",
   "nbconvert_exporter": "python",
   "pygments_lexer": "ipython3",
   "version": "3.9.13"
  }
 },
 "nbformat": 4,
 "nbformat_minor": 5
}
