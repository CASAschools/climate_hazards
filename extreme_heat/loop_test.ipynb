{
 "cells": [
  {
   "cell_type": "markdown",
   "id": "64b56b68-977b-4141-8b29-a626bf649b65",
   "metadata": {},
   "source": [
    "###  Attempting to create loop"
   ]
  },
  {
   "cell_type": "markdown",
   "id": "2cb54279-400a-4744-ac65-dd4fa71b718a",
   "metadata": {},
   "source": [
    "Ideas: \n",
    "\n",
    "    - Import the school district area shapefile, it has coordinates that be iterated and find all the census tracts for it\n",
    "        - Only issue what to do about overlaps?? some school districts will be in the same county\n",
    "        -- should map that"
   ]
  },
  {
   "cell_type": "code",
   "execution_count": 1,
   "id": "313683bd-dc69-4aec-bdc5-3a32827dae60",
   "metadata": {
    "tags": []
   },
   "outputs": [],
   "source": [
    "# Import libraries\n",
    "import pandas as pd\n",
    "import numpy as np\n",
    "import matplotlib.pyplot as plt\n",
    "import geopandas as gpd\n",
    "import requests\n",
    "import itertools"
   ]
  },
  {
   "cell_type": "code",
   "execution_count": 2,
   "id": "72b527b4-82c2-4a35-878b-76124fcab90d",
   "metadata": {
    "tags": []
   },
   "outputs": [],
   "source": [
    "# Load county school district "
   ]
  },
  {
   "cell_type": "code",
   "execution_count": 2,
   "id": "26fd5980-b313-4efd-aaca-0225e76f5a04",
   "metadata": {
    "tags": []
   },
   "outputs": [
    {
     "name": "stderr",
     "output_type": "stream",
     "text": [
      "ERROR 1: PROJ: proj_create_from_database: Open of /opt/anaconda3/share/proj failed\n"
     ]
    }
   ],
   "source": [
    "school_district = gpd.read_file('data/SchoolSites1920.shp')\n",
    "\n",
    "# Update crs to mactch Cal-Adapt \n",
    "school_district = school_district.to_crs('epsg:4326')"
   ]
  },
  {
   "cell_type": "code",
   "execution_count": 3,
   "id": "2007126d-7768-477e-92ad-03d281fb99de",
   "metadata": {
    "collapsed": true,
    "jupyter": {
     "outputs_hidden": true
    },
    "tags": []
   },
   "outputs": [
    {
     "data": {
      "text/html": [
       "<div>\n",
       "<style scoped>\n",
       "    .dataframe tbody tr th:only-of-type {\n",
       "        vertical-align: middle;\n",
       "    }\n",
       "\n",
       "    .dataframe tbody tr th {\n",
       "        vertical-align: top;\n",
       "    }\n",
       "\n",
       "    .dataframe thead th {\n",
       "        text-align: right;\n",
       "    }\n",
       "</style>\n",
       "<table border=\"1\" class=\"dataframe\">\n",
       "  <thead>\n",
       "    <tr style=\"text-align: right;\">\n",
       "      <th></th>\n",
       "      <th>OBJECTID</th>\n",
       "      <th>Year</th>\n",
       "      <th>FedID</th>\n",
       "      <th>CDSCode</th>\n",
       "      <th>CDCode</th>\n",
       "      <th>SCode</th>\n",
       "      <th>CountyName</th>\n",
       "      <th>DistrictNa</th>\n",
       "      <th>SchoolName</th>\n",
       "      <th>SchoolType</th>\n",
       "      <th>...</th>\n",
       "      <th>HOMpct</th>\n",
       "      <th>MIGcount</th>\n",
       "      <th>MIGpct</th>\n",
       "      <th>SEDCount</th>\n",
       "      <th>SEDpct</th>\n",
       "      <th>SWDcount</th>\n",
       "      <th>SWDpct</th>\n",
       "      <th>FRPMcount</th>\n",
       "      <th>FRPMpct</th>\n",
       "      <th>geometry</th>\n",
       "    </tr>\n",
       "  </thead>\n",
       "  <tbody>\n",
       "    <tr>\n",
       "      <th>0</th>\n",
       "      <td>1</td>\n",
       "      <td>2019-20</td>\n",
       "      <td>060161410947</td>\n",
       "      <td>01100170112607</td>\n",
       "      <td>0110017</td>\n",
       "      <td>0112607</td>\n",
       "      <td>Alameda</td>\n",
       "      <td>Alameda County Office of Education</td>\n",
       "      <td>Envision Academy for Arts &amp; Technology</td>\n",
       "      <td>High</td>\n",
       "      <td>...</td>\n",
       "      <td>0.0</td>\n",
       "      <td>0</td>\n",
       "      <td>0.0</td>\n",
       "      <td>313.0</td>\n",
       "      <td>76.000000</td>\n",
       "      <td>53</td>\n",
       "      <td>12.900000</td>\n",
       "      <td>295</td>\n",
       "      <td>71.599998</td>\n",
       "      <td>POINT (-122.26838 37.80468)</td>\n",
       "    </tr>\n",
       "    <tr>\n",
       "      <th>1</th>\n",
       "      <td>2</td>\n",
       "      <td>2019-20</td>\n",
       "      <td>060169112844</td>\n",
       "      <td>01100170123968</td>\n",
       "      <td>0110017</td>\n",
       "      <td>0123968</td>\n",
       "      <td>Alameda</td>\n",
       "      <td>Alameda County Office of Education</td>\n",
       "      <td>Community School for Creative Education</td>\n",
       "      <td>Elementary</td>\n",
       "      <td>...</td>\n",
       "      <td>0.0</td>\n",
       "      <td>0</td>\n",
       "      <td>0.0</td>\n",
       "      <td>233.0</td>\n",
       "      <td>87.300003</td>\n",
       "      <td>31</td>\n",
       "      <td>11.600000</td>\n",
       "      <td>228</td>\n",
       "      <td>85.400002</td>\n",
       "      <td>POINT (-122.23863 37.78464)</td>\n",
       "    </tr>\n",
       "    <tr>\n",
       "      <th>2</th>\n",
       "      <td>3</td>\n",
       "      <td>2019-20</td>\n",
       "      <td>060201312901</td>\n",
       "      <td>01100170124172</td>\n",
       "      <td>0110017</td>\n",
       "      <td>0124172</td>\n",
       "      <td>Alameda</td>\n",
       "      <td>Alameda County Office of Education</td>\n",
       "      <td>Yu Ming Charter</td>\n",
       "      <td>Elementary</td>\n",
       "      <td>...</td>\n",
       "      <td>0.0</td>\n",
       "      <td>0</td>\n",
       "      <td>0.0</td>\n",
       "      <td>79.0</td>\n",
       "      <td>16.200001</td>\n",
       "      <td>28</td>\n",
       "      <td>5.700000</td>\n",
       "      <td>77</td>\n",
       "      <td>15.800000</td>\n",
       "      <td>POINT (-122.28362 37.84737)</td>\n",
       "    </tr>\n",
       "    <tr>\n",
       "      <th>3</th>\n",
       "      <td>4</td>\n",
       "      <td>2019-20</td>\n",
       "      <td>060181613008</td>\n",
       "      <td>01100170125567</td>\n",
       "      <td>0110017</td>\n",
       "      <td>0125567</td>\n",
       "      <td>Alameda</td>\n",
       "      <td>Alameda County Office of Education</td>\n",
       "      <td>Urban Montessori Charter</td>\n",
       "      <td>Elementary</td>\n",
       "      <td>...</td>\n",
       "      <td>0.8</td>\n",
       "      <td>0</td>\n",
       "      <td>0.0</td>\n",
       "      <td>136.0</td>\n",
       "      <td>34.599998</td>\n",
       "      <td>41</td>\n",
       "      <td>10.400000</td>\n",
       "      <td>132</td>\n",
       "      <td>33.599998</td>\n",
       "      <td>POINT (-122.18987 37.77846)</td>\n",
       "    </tr>\n",
       "    <tr>\n",
       "      <th>4</th>\n",
       "      <td>5</td>\n",
       "      <td>2019-20</td>\n",
       "      <td>060222313772</td>\n",
       "      <td>01100170129403</td>\n",
       "      <td>0110017</td>\n",
       "      <td>0129403</td>\n",
       "      <td>Alameda</td>\n",
       "      <td>Alameda County Office of Education</td>\n",
       "      <td>Epic Charter</td>\n",
       "      <td>Middle</td>\n",
       "      <td>...</td>\n",
       "      <td>0.0</td>\n",
       "      <td>0</td>\n",
       "      <td>0.0</td>\n",
       "      <td>218.0</td>\n",
       "      <td>88.599998</td>\n",
       "      <td>45</td>\n",
       "      <td>18.299999</td>\n",
       "      <td>199</td>\n",
       "      <td>80.900002</td>\n",
       "      <td>POINT (-122.22962 37.77711)</td>\n",
       "    </tr>\n",
       "    <tr>\n",
       "      <th>...</th>\n",
       "      <td>...</td>\n",
       "      <td>...</td>\n",
       "      <td>...</td>\n",
       "      <td>...</td>\n",
       "      <td>...</td>\n",
       "      <td>...</td>\n",
       "      <td>...</td>\n",
       "      <td>...</td>\n",
       "      <td>...</td>\n",
       "      <td>...</td>\n",
       "      <td>...</td>\n",
       "      <td>...</td>\n",
       "      <td>...</td>\n",
       "      <td>...</td>\n",
       "      <td>...</td>\n",
       "      <td>...</td>\n",
       "      <td>...</td>\n",
       "      <td>...</td>\n",
       "      <td>...</td>\n",
       "      <td>...</td>\n",
       "      <td>...</td>\n",
       "    </tr>\n",
       "    <tr>\n",
       "      <th>10035</th>\n",
       "      <td>10036</td>\n",
       "      <td>2019-20</td>\n",
       "      <td>064233006928</td>\n",
       "      <td>58727516056840</td>\n",
       "      <td>5872751</td>\n",
       "      <td>6056840</td>\n",
       "      <td>Yuba</td>\n",
       "      <td>Wheatland</td>\n",
       "      <td>Wheatland Elementary</td>\n",
       "      <td>Elementary</td>\n",
       "      <td>...</td>\n",
       "      <td>5.0</td>\n",
       "      <td>0</td>\n",
       "      <td>0.0</td>\n",
       "      <td>189.0</td>\n",
       "      <td>58.700001</td>\n",
       "      <td>32</td>\n",
       "      <td>9.900000</td>\n",
       "      <td>187</td>\n",
       "      <td>58.099998</td>\n",
       "      <td>POINT (-121.42940 39.01167)</td>\n",
       "    </tr>\n",
       "    <tr>\n",
       "      <th>10036</th>\n",
       "      <td>10037</td>\n",
       "      <td>2019-20</td>\n",
       "      <td>064233011548</td>\n",
       "      <td>58727516118806</td>\n",
       "      <td>5872751</td>\n",
       "      <td>6118806</td>\n",
       "      <td>Yuba</td>\n",
       "      <td>Wheatland</td>\n",
       "      <td>Wheatland Charter Academy</td>\n",
       "      <td>Elementary</td>\n",
       "      <td>...</td>\n",
       "      <td>0.0</td>\n",
       "      <td>0</td>\n",
       "      <td>0.0</td>\n",
       "      <td>40.0</td>\n",
       "      <td>43.000000</td>\n",
       "      <td>10</td>\n",
       "      <td>10.800000</td>\n",
       "      <td>39</td>\n",
       "      <td>41.900002</td>\n",
       "      <td>POINT (-121.33443 39.10267)</td>\n",
       "    </tr>\n",
       "    <tr>\n",
       "      <th>10037</th>\n",
       "      <td>10038</td>\n",
       "      <td>2019-20</td>\n",
       "      <td>064235012741</td>\n",
       "      <td>58727690123570</td>\n",
       "      <td>5872769</td>\n",
       "      <td>0123570</td>\n",
       "      <td>Yuba</td>\n",
       "      <td>Wheatland Union High</td>\n",
       "      <td>Wheatland Community Day High</td>\n",
       "      <td>Community Day</td>\n",
       "      <td>...</td>\n",
       "      <td>0.0</td>\n",
       "      <td>0</td>\n",
       "      <td>0.0</td>\n",
       "      <td>9.0</td>\n",
       "      <td>69.199997</td>\n",
       "      <td>2</td>\n",
       "      <td>15.400000</td>\n",
       "      <td>9</td>\n",
       "      <td>69.199997</td>\n",
       "      <td>POINT (-121.43035 39.00661)</td>\n",
       "    </tr>\n",
       "    <tr>\n",
       "      <th>10038</th>\n",
       "      <td>10039</td>\n",
       "      <td>2019-20</td>\n",
       "      <td>064235014385</td>\n",
       "      <td>58727690133751</td>\n",
       "      <td>5872769</td>\n",
       "      <td>0133751</td>\n",
       "      <td>Yuba</td>\n",
       "      <td>Wheatland Union High</td>\n",
       "      <td>Edward P. Duplex</td>\n",
       "      <td>Continuation</td>\n",
       "      <td>...</td>\n",
       "      <td>0.0</td>\n",
       "      <td>0</td>\n",
       "      <td>0.0</td>\n",
       "      <td>31.0</td>\n",
       "      <td>62.000000</td>\n",
       "      <td>10</td>\n",
       "      <td>20.000000</td>\n",
       "      <td>30</td>\n",
       "      <td>60.000000</td>\n",
       "      <td>POINT (-121.43035 39.00661)</td>\n",
       "    </tr>\n",
       "    <tr>\n",
       "      <th>10039</th>\n",
       "      <td>10040</td>\n",
       "      <td>2019-20</td>\n",
       "      <td>064235006930</td>\n",
       "      <td>58727695838305</td>\n",
       "      <td>5872769</td>\n",
       "      <td>5838305</td>\n",
       "      <td>Yuba</td>\n",
       "      <td>Wheatland Union High</td>\n",
       "      <td>Wheatland Union High</td>\n",
       "      <td>High</td>\n",
       "      <td>...</td>\n",
       "      <td>0.7</td>\n",
       "      <td>0</td>\n",
       "      <td>0.0</td>\n",
       "      <td>367.0</td>\n",
       "      <td>45.099998</td>\n",
       "      <td>107</td>\n",
       "      <td>13.100000</td>\n",
       "      <td>365</td>\n",
       "      <td>44.799999</td>\n",
       "      <td>POINT (-121.43035 39.00661)</td>\n",
       "    </tr>\n",
       "  </tbody>\n",
       "</table>\n",
       "<p>10040 rows × 69 columns</p>\n",
       "</div>"
      ],
      "text/plain": [
       "       OBJECTID     Year         FedID         CDSCode   CDCode    SCode  \\\n",
       "0             1  2019-20  060161410947  01100170112607  0110017  0112607   \n",
       "1             2  2019-20  060169112844  01100170123968  0110017  0123968   \n",
       "2             3  2019-20  060201312901  01100170124172  0110017  0124172   \n",
       "3             4  2019-20  060181613008  01100170125567  0110017  0125567   \n",
       "4             5  2019-20  060222313772  01100170129403  0110017  0129403   \n",
       "...         ...      ...           ...             ...      ...      ...   \n",
       "10035     10036  2019-20  064233006928  58727516056840  5872751  6056840   \n",
       "10036     10037  2019-20  064233011548  58727516118806  5872751  6118806   \n",
       "10037     10038  2019-20  064235012741  58727690123570  5872769  0123570   \n",
       "10038     10039  2019-20  064235014385  58727690133751  5872769  0133751   \n",
       "10039     10040  2019-20  064235006930  58727695838305  5872769  5838305   \n",
       "\n",
       "      CountyName                          DistrictNa  \\\n",
       "0        Alameda  Alameda County Office of Education   \n",
       "1        Alameda  Alameda County Office of Education   \n",
       "2        Alameda  Alameda County Office of Education   \n",
       "3        Alameda  Alameda County Office of Education   \n",
       "4        Alameda  Alameda County Office of Education   \n",
       "...          ...                                 ...   \n",
       "10035       Yuba                           Wheatland   \n",
       "10036       Yuba                           Wheatland   \n",
       "10037       Yuba                Wheatland Union High   \n",
       "10038       Yuba                Wheatland Union High   \n",
       "10039       Yuba                Wheatland Union High   \n",
       "\n",
       "                                    SchoolName     SchoolType  ... HOMpct  \\\n",
       "0       Envision Academy for Arts & Technology           High  ...    0.0   \n",
       "1      Community School for Creative Education     Elementary  ...    0.0   \n",
       "2                              Yu Ming Charter     Elementary  ...    0.0   \n",
       "3                     Urban Montessori Charter     Elementary  ...    0.8   \n",
       "4                                 Epic Charter         Middle  ...    0.0   \n",
       "...                                        ...            ...  ...    ...   \n",
       "10035                     Wheatland Elementary     Elementary  ...    5.0   \n",
       "10036                Wheatland Charter Academy     Elementary  ...    0.0   \n",
       "10037             Wheatland Community Day High  Community Day  ...    0.0   \n",
       "10038                         Edward P. Duplex   Continuation  ...    0.0   \n",
       "10039                     Wheatland Union High           High  ...    0.7   \n",
       "\n",
       "      MIGcount MIGpct SEDCount     SEDpct SWDcount     SWDpct FRPMcount  \\\n",
       "0            0    0.0    313.0  76.000000       53  12.900000       295   \n",
       "1            0    0.0    233.0  87.300003       31  11.600000       228   \n",
       "2            0    0.0     79.0  16.200001       28   5.700000        77   \n",
       "3            0    0.0    136.0  34.599998       41  10.400000       132   \n",
       "4            0    0.0    218.0  88.599998       45  18.299999       199   \n",
       "...        ...    ...      ...        ...      ...        ...       ...   \n",
       "10035        0    0.0    189.0  58.700001       32   9.900000       187   \n",
       "10036        0    0.0     40.0  43.000000       10  10.800000        39   \n",
       "10037        0    0.0      9.0  69.199997        2  15.400000         9   \n",
       "10038        0    0.0     31.0  62.000000       10  20.000000        30   \n",
       "10039        0    0.0    367.0  45.099998      107  13.100000       365   \n",
       "\n",
       "         FRPMpct                     geometry  \n",
       "0      71.599998  POINT (-122.26838 37.80468)  \n",
       "1      85.400002  POINT (-122.23863 37.78464)  \n",
       "2      15.800000  POINT (-122.28362 37.84737)  \n",
       "3      33.599998  POINT (-122.18987 37.77846)  \n",
       "4      80.900002  POINT (-122.22962 37.77711)  \n",
       "...          ...                          ...  \n",
       "10035  58.099998  POINT (-121.42940 39.01167)  \n",
       "10036  41.900002  POINT (-121.33443 39.10267)  \n",
       "10037  69.199997  POINT (-121.43035 39.00661)  \n",
       "10038  60.000000  POINT (-121.43035 39.00661)  \n",
       "10039  44.799999  POINT (-121.43035 39.00661)  \n",
       "\n",
       "[10040 rows x 69 columns]"
      ]
     },
     "execution_count": 3,
     "metadata": {},
     "output_type": "execute_result"
    }
   ],
   "source": [
    "school_district"
   ]
  },
  {
   "cell_type": "code",
   "execution_count": 9,
   "id": "45664a02-8032-4aae-baa0-a58b364e9651",
   "metadata": {
    "tags": []
   },
   "outputs": [],
   "source": [
    "# Extract lat and long from shapefile\n",
    "\n",
    "# Blank data frame\n",
    "coord_school = pd.DataFrame()\n",
    "\n",
    "lat_school = school_district['geometry'].x\n",
    "long_school = school_district['geometry'].y\n",
    "name = school_district['DistrictNa']"
   ]
  },
  {
   "cell_type": "code",
   "execution_count": 10,
   "id": "82bb6b55-0ec6-4fac-a9c4-d72c45b29fcf",
   "metadata": {
    "tags": []
   },
   "outputs": [],
   "source": [
    "points = []\n",
    "\n",
    "# lat first then long\n",
    "# Create a list of POINT's we want the next for loop to iterate over and identify census tracts\n",
    "for lat, long in zip(lat_school, long_school): \n",
    "        point_str = \"POINT(\" + str(lat) + \" \" + str(long) + \")\"\n",
    "        points.append(point_str)\n",
    "        "
   ]
  },
  {
   "cell_type": "code",
   "execution_count": 11,
   "id": "75943ece-90a0-46b4-9e6f-a6335ea30b0a",
   "metadata": {
    "collapsed": true,
    "jupyter": {
     "outputs_hidden": true,
     "source_hidden": true
    },
    "tags": []
   },
   "outputs": [
    {
     "name": "stdout",
     "output_type": "stream",
     "text": [
      "ref: /api/counties/1/\n",
      "location: Counties name Alameda\n",
      "ref: /api/counties/2/\n",
      "location: Counties name Alpine\n",
      "ref: /api/counties/3/\n",
      "location: Counties name Amador\n",
      "ref: /api/counties/4/\n",
      "location: Counties name Butte\n",
      "ref: /api/counties/5/\n",
      "location: Counties name Calaveras\n",
      "ref: /api/counties/6/\n",
      "location: Counties name Colusa\n",
      "ref: /api/counties/7/\n",
      "location: Counties name Contra Costa\n",
      "ref: /api/counties/39/\n",
      "location: Counties name San Joaquin\n",
      "ref: /api/counties/8/\n",
      "location: Counties name Del Norte\n",
      "ref: /api/counties/9/\n",
      "location: Counties name El Dorado\n",
      "ref: /api/counties/74/\n",
      "location: Counties name Lyon\n",
      "ref: /api/counties/10/\n",
      "location: Counties name Fresno\n",
      "ref: /api/counties/56/\n",
      "location: Counties name Ventura\n",
      "ref: /api/counties/11/\n",
      "location: Counties name Glenn\n",
      "ref: /api/counties/12/\n",
      "location: Counties name Humboldt\n",
      "ref: /api/counties/13/\n",
      "location: Counties name Imperial\n",
      "ref: /api/counties/19/\n",
      "location: Counties name Los Angeles\n",
      "ref: /api/counties/14/\n",
      "location: Counties name Inyo\n",
      "ref: /api/counties/15/\n",
      "location: Counties name Kern\n",
      "ref: /api/counties/16/\n",
      "location: Counties name Kings\n",
      "ref: /api/counties/17/\n",
      "location: Counties name Lake\n",
      "ref: /api/counties/18/\n",
      "location: Counties name Lassen\n",
      "ref: /api/counties/36/\n",
      "location: Counties name San Bernardino\n",
      "ref: /api/counties/30/\n",
      "location: Counties name Orange\n",
      "ref: /api/counties/37/\n",
      "location: Counties name San Diego\n",
      "ref: /api/counties/33/\n",
      "location: Counties name Riverside\n",
      "ref: /api/counties/20/\n",
      "location: Counties name Madera\n",
      "ref: /api/counties/22/\n",
      "location: Counties name Mariposa\n",
      "ref: /api/counties/21/\n",
      "location: Counties name Marin\n",
      "ref: /api/counties/49/\n",
      "location: Counties name Sonoma\n",
      "ref: /api/counties/23/\n",
      "location: Counties name Mendocino\n",
      "ref: /api/counties/24/\n",
      "location: Counties name Merced\n",
      "ref: /api/counties/25/\n",
      "location: Counties name Modoc\n",
      "ref: /api/counties/47/\n",
      "location: Counties name Siskiyou\n",
      "ref: /api/counties/26/\n",
      "location: Counties name Mono\n",
      "ref: /api/counties/27/\n",
      "location: Counties name Monterey\n",
      "ref: /api/counties/28/\n",
      "location: Counties name Napa\n",
      "ref: /api/counties/29/\n",
      "location: Counties name Nevada\n",
      "ref: /api/counties/31/\n",
      "location: Counties name Placer\n",
      "ref: /api/counties/34/\n",
      "location: Counties name Sacramento\n",
      "ref: /api/counties/32/\n",
      "location: Counties name Plumas\n",
      "ref: /api/counties/57/\n",
      "location: Counties name Yolo\n",
      "ref: /api/counties/48/\n",
      "location: Counties name Solano\n",
      "ref: /api/counties/35/\n",
      "location: Counties name San Benito\n",
      "ref: /api/counties/38/\n",
      "location: Counties name San Francisco\n",
      "ref: /api/counties/41/\n",
      "location: Counties name San Mateo\n",
      "ref: /api/counties/40/\n",
      "location: Counties name San Luis Obispo\n",
      "ref: /api/counties/42/\n",
      "location: Counties name Santa Barbara\n",
      "ref: /api/counties/43/\n",
      "location: Counties name Santa Clara\n",
      "ref: /api/counties/44/\n",
      "location: Counties name Santa Cruz\n",
      "ref: /api/counties/45/\n",
      "location: Counties name Shasta\n",
      "ref: /api/counties/46/\n",
      "location: Counties name Sierra\n",
      "ref: /api/counties/50/\n",
      "location: Counties name Stanislaus\n",
      "ref: /api/counties/51/\n",
      "location: Counties name Sutter\n",
      "ref: /api/counties/52/\n",
      "location: Counties name Tehama\n",
      "ref: /api/counties/53/\n",
      "location: Counties name Trinity\n",
      "ref: /api/counties/54/\n",
      "location: Counties name Tulare\n",
      "ref: /api/counties/55/\n",
      "location: Counties name Tuolumne\n",
      "ref: /api/counties/58/\n",
      "location: Counties name Yuba\n"
     ]
    }
   ],
   "source": [
    "api = \"https://api.cal-adapt.org/api\"\n",
    "headers = {'ContentType': 'json'}\n",
    "\n",
    "# Name of boundary layer in API (counties track)\n",
    "resource = \"counties\"\n",
    "\n",
    "# Request url\n",
    "url = '%s/%s/' % (api,resource)\n",
    "\n",
    "# Request params to find intersecting polygon\n",
    "all_params = []\n",
    "all_features = []\n",
    "full_params = []\n",
    "\n",
    "for po in points:\n",
    "    params = {'intersects': po, 'srs':4326, 'simplify':0.0001,'precision':4}\n",
    "    all_params.append(params)\n",
    "\n",
    "# Get geometry\n",
    "for params in all_params:\n",
    "    response = requests.get(url, params = params, headers = headers)\n",
    "    if response.ok:\n",
    "        data = response.json()\n",
    "        features = data['features'][0]\n",
    "        all_features.append(features)\n",
    "\n",
    "unique_ids = set()\n",
    "        \n",
    "for feature in all_features:\n",
    "    if feature:\n",
    "        ref = '/api/%s/%s/' % (resource, feature['id'])\n",
    "        \n",
    "        if feature['id'] not in unique_ids:\n",
    "            unique_ids.add(feature['id'])\n",
    "            params = {'ref': ref, 'stat': 'mean'}\n",
    "            full_params.append(params)\n",
    "            print('ref:', ref)\n",
    "            location = 'Counties name %s' % feature['properties']['name']\n",
    "            print('location:', location) "
   ]
  },
  {
   "cell_type": "code",
   "execution_count": 12,
   "id": "a2fcf060-929b-486c-b72b-03bd17c4d424",
   "metadata": {
    "jupyter": {
     "source_hidden": true
    },
    "tags": []
   },
   "outputs": [],
   "source": [
    "# Base url for extreme heat and %s is the placeholder for the slug\n",
    "baseurl = 'https://api.cal-adapt.org/api/series/%s/exheat/'\n",
    "\n",
    "for params in full_params:\n",
    "    params.update(freq = 'M')\n",
    "\n",
    "# urlargs: variale numbers of arguments to create combinations for series slugs\n",
    "# provide additional parameterrs for the API request\n",
    "# * for lists\n",
    "# ** for tupples\n",
    "\n",
    "def fetch_exheat(*urlargs, **params):\n",
    "    # all possible combinations of the URL\n",
    "    items = itertools.product(*urlargs)\n",
    "    series = []\n",
    "    for parts in items:\n",
    "        slug = '_'.join(parts)\n",
    "        print('Processing:', slug)\n",
    "        # Sends GET request to the API using the URL constructed\n",
    "        response = requests.get(baseurl % slug, params)\n",
    "        data = response.json()\n",
    "        # extracts the counts and converts to pandas series\n",
    "        counts = pd.Series(data['counts']).sort_index()\n",
    "        # convert to date time remove time zones\n",
    "        counts.index = pd.to_datetime(counts.index).tz_localize(None)\n",
    "        # assign name of the series to the series object\n",
    "        counts.name = slug\n",
    "        # append series to list\n",
    "        series.append(counts)\n",
    "        # return panda dataframe\n",
    "    return pd.concat(series, axis=1)"
   ]
  },
  {
   "cell_type": "code",
   "execution_count": 13,
   "id": "48aa3f4e-786f-4f81-ad38-264d61c95ace",
   "metadata": {},
   "outputs": [],
   "source": [
    "# Base url for extreme heat and %s is the placeholder for the slug\n",
    "baseurl = 'https://api.cal-adapt.org/api/series/%s/exheat/'\n",
    "\n",
    "for params in full_params:\n",
    "    params.update(freq = 'M')\n",
    "\n",
    "def fetch_exheat(*urlargs, **params):\n",
    "    items = itertools.product(*urlargs)\n",
    "    series = []\n",
    "\n",
    "    for parts in items:\n",
    "        slug = '_'.join(parts)\n",
    "        print('Processing:', slug)\n",
    "\n",
    "        response = requests.get(baseurl % slug, params)\n",
    "\n",
    "        try:\n",
    "            response.raise_for_status()\n",
    "            data = response.json()\n",
    "        except requests.exceptions.HTTPError as errh:\n",
    "            print (\"HTTP Error:\",errh)\n",
    "        except requests.exceptions.ConnectionError as errc:\n",
    "            print (\"Error Connecting:\",errc)\n",
    "        except requests.exceptions.Timeout as errt:\n",
    "            print (\"Timeout Error:\",errt)\n",
    "        except requests.exceptions.RequestException as err:\n",
    "            print (\"Something went wrong:\",err)\n",
    "        \n",
    "        try:\n",
    "            # Your existing code to process the response\n",
    "            counts = pd.Series(data['counts']).sort_index()\n",
    "            counts.index = pd.to_datetime(counts.index).tz_localize(None)\n",
    "            counts.name = slug\n",
    "            series.append(counts)\n",
    "        except KeyError as e:\n",
    "            print(f\"Error processing response for {slug}: {e}\")\n",
    "    \n",
    "    return pd.concat(series, axis=1)"
   ]
  },
  {
   "cell_type": "code",
   "execution_count": 46,
   "id": "4bdfb713-418e-422f-b8bf-aa9f2a9e5df3",
   "metadata": {
    "collapsed": true,
    "jupyter": {
     "outputs_hidden": true
    },
    "tags": []
   },
   "outputs": [
    {
     "name": "stdout",
     "output_type": "stream",
     "text": [
      "Processing: tasmax_day_CanESM2_historical\n",
      "Processing: tasmax_day_CNRM-CM5_historical\n",
      "Processing: tasmax_day_HadGEM2-ES_historical\n",
      "Processing: tasmax_day_MIROC5_historical\n",
      "Processing: tasmax_day_CanESM2_rcp45\n",
      "Processing: tasmax_day_CanESM2_rcp85\n",
      "Processing: tasmax_day_CNRM-CM5_rcp45\n",
      "Processing: tasmax_day_CNRM-CM5_rcp85\n",
      "Processing: tasmax_day_HadGEM2-ES_rcp45\n",
      "Processing: tasmax_day_HadGEM2-ES_rcp85\n",
      "Processing: tasmax_day_MIROC5_rcp45\n",
      "Processing: tasmax_day_MIROC5_rcp85\n"
     ]
    },
    {
     "name": "stderr",
     "output_type": "stream",
     "text": [
      "/tmp/ipykernel_1244416/4197625489.py:16: FutureWarning: The frame.append method is deprecated and will be removed from pandas in a future version. Use pandas.concat instead.\n",
      "  projcounts = projcounts.append(hmodelcounts).sort_index()\n"
     ]
    },
    {
     "name": "stdout",
     "output_type": "stream",
     "text": [
      "Processing: tasmax_day_CanESM2_historical\n",
      "Processing: tasmax_day_CNRM-CM5_historical\n",
      "Processing: tasmax_day_HadGEM2-ES_historical\n",
      "Processing: tasmax_day_MIROC5_historical\n",
      "Processing: tasmax_day_CanESM2_rcp45\n",
      "Processing: tasmax_day_CanESM2_rcp85\n",
      "Processing: tasmax_day_CNRM-CM5_rcp45\n",
      "Processing: tasmax_day_CNRM-CM5_rcp85\n",
      "Processing: tasmax_day_HadGEM2-ES_rcp45\n",
      "Processing: tasmax_day_HadGEM2-ES_rcp85\n",
      "Processing: tasmax_day_MIROC5_rcp45\n",
      "Processing: tasmax_day_MIROC5_rcp85\n"
     ]
    },
    {
     "name": "stderr",
     "output_type": "stream",
     "text": [
      "/tmp/ipykernel_1244416/4197625489.py:16: FutureWarning: The frame.append method is deprecated and will be removed from pandas in a future version. Use pandas.concat instead.\n",
      "  projcounts = projcounts.append(hmodelcounts).sort_index()\n"
     ]
    },
    {
     "name": "stdout",
     "output_type": "stream",
     "text": [
      "Processing: tasmax_day_CanESM2_historical\n",
      "Processing: tasmax_day_CNRM-CM5_historical\n",
      "Processing: tasmax_day_HadGEM2-ES_historical\n",
      "Processing: tasmax_day_MIROC5_historical\n",
      "Processing: tasmax_day_CanESM2_rcp45\n",
      "Processing: tasmax_day_CanESM2_rcp85\n",
      "Processing: tasmax_day_CNRM-CM5_rcp45\n",
      "Processing: tasmax_day_CNRM-CM5_rcp85\n",
      "Processing: tasmax_day_HadGEM2-ES_rcp45\n",
      "Processing: tasmax_day_HadGEM2-ES_rcp85\n",
      "Processing: tasmax_day_MIROC5_rcp45\n",
      "Processing: tasmax_day_MIROC5_rcp85\n"
     ]
    },
    {
     "name": "stderr",
     "output_type": "stream",
     "text": [
      "/tmp/ipykernel_1244416/4197625489.py:16: FutureWarning: The frame.append method is deprecated and will be removed from pandas in a future version. Use pandas.concat instead.\n",
      "  projcounts = projcounts.append(hmodelcounts).sort_index()\n"
     ]
    },
    {
     "name": "stdout",
     "output_type": "stream",
     "text": [
      "Processing: tasmax_day_CanESM2_historical\n",
      "Processing: tasmax_day_CNRM-CM5_historical\n",
      "Processing: tasmax_day_HadGEM2-ES_historical\n",
      "Processing: tasmax_day_MIROC5_historical\n",
      "Processing: tasmax_day_CanESM2_rcp45\n",
      "Processing: tasmax_day_CanESM2_rcp85\n",
      "Processing: tasmax_day_CNRM-CM5_rcp45\n",
      "Processing: tasmax_day_CNRM-CM5_rcp85\n",
      "Processing: tasmax_day_HadGEM2-ES_rcp45\n",
      "Processing: tasmax_day_HadGEM2-ES_rcp85\n",
      "Processing: tasmax_day_MIROC5_rcp45\n",
      "Processing: tasmax_day_MIROC5_rcp85\n"
     ]
    },
    {
     "name": "stderr",
     "output_type": "stream",
     "text": [
      "/tmp/ipykernel_1244416/4197625489.py:16: FutureWarning: The frame.append method is deprecated and will be removed from pandas in a future version. Use pandas.concat instead.\n",
      "  projcounts = projcounts.append(hmodelcounts).sort_index()\n"
     ]
    },
    {
     "name": "stdout",
     "output_type": "stream",
     "text": [
      "Processing: tasmax_day_CanESM2_historical\n",
      "Processing: tasmax_day_CNRM-CM5_historical\n",
      "Processing: tasmax_day_HadGEM2-ES_historical\n",
      "Processing: tasmax_day_MIROC5_historical\n",
      "Processing: tasmax_day_CanESM2_rcp45\n",
      "Processing: tasmax_day_CanESM2_rcp85\n",
      "Processing: tasmax_day_CNRM-CM5_rcp45\n",
      "Processing: tasmax_day_CNRM-CM5_rcp85\n",
      "Processing: tasmax_day_HadGEM2-ES_rcp45\n",
      "Processing: tasmax_day_HadGEM2-ES_rcp85\n",
      "Processing: tasmax_day_MIROC5_rcp45\n",
      "Processing: tasmax_day_MIROC5_rcp85\n"
     ]
    },
    {
     "name": "stderr",
     "output_type": "stream",
     "text": [
      "/tmp/ipykernel_1244416/4197625489.py:16: FutureWarning: The frame.append method is deprecated and will be removed from pandas in a future version. Use pandas.concat instead.\n",
      "  projcounts = projcounts.append(hmodelcounts).sort_index()\n"
     ]
    },
    {
     "name": "stdout",
     "output_type": "stream",
     "text": [
      "Processing: tasmax_day_CanESM2_historical\n",
      "Processing: tasmax_day_CNRM-CM5_historical\n",
      "Processing: tasmax_day_HadGEM2-ES_historical\n",
      "Processing: tasmax_day_MIROC5_historical\n",
      "Processing: tasmax_day_CanESM2_rcp45\n",
      "Processing: tasmax_day_CanESM2_rcp85\n",
      "Processing: tasmax_day_CNRM-CM5_rcp45\n",
      "Processing: tasmax_day_CNRM-CM5_rcp85\n",
      "Processing: tasmax_day_HadGEM2-ES_rcp45\n",
      "Processing: tasmax_day_HadGEM2-ES_rcp85\n",
      "Processing: tasmax_day_MIROC5_rcp45\n",
      "Processing: tasmax_day_MIROC5_rcp85\n"
     ]
    },
    {
     "name": "stderr",
     "output_type": "stream",
     "text": [
      "/tmp/ipykernel_1244416/4197625489.py:16: FutureWarning: The frame.append method is deprecated and will be removed from pandas in a future version. Use pandas.concat instead.\n",
      "  projcounts = projcounts.append(hmodelcounts).sort_index()\n"
     ]
    },
    {
     "name": "stdout",
     "output_type": "stream",
     "text": [
      "Processing: tasmax_day_CanESM2_historical\n",
      "Processing: tasmax_day_CNRM-CM5_historical\n",
      "Processing: tasmax_day_HadGEM2-ES_historical\n",
      "Processing: tasmax_day_MIROC5_historical\n",
      "Processing: tasmax_day_CanESM2_rcp45\n",
      "Processing: tasmax_day_CanESM2_rcp85\n",
      "Processing: tasmax_day_CNRM-CM5_rcp45\n",
      "Processing: tasmax_day_CNRM-CM5_rcp85\n",
      "Processing: tasmax_day_HadGEM2-ES_rcp45\n",
      "Processing: tasmax_day_HadGEM2-ES_rcp85\n",
      "Processing: tasmax_day_MIROC5_rcp45\n",
      "Processing: tasmax_day_MIROC5_rcp85\n"
     ]
    },
    {
     "name": "stderr",
     "output_type": "stream",
     "text": [
      "/tmp/ipykernel_1244416/4197625489.py:16: FutureWarning: The frame.append method is deprecated and will be removed from pandas in a future version. Use pandas.concat instead.\n",
      "  projcounts = projcounts.append(hmodelcounts).sort_index()\n"
     ]
    },
    {
     "name": "stdout",
     "output_type": "stream",
     "text": [
      "Processing: tasmax_day_CanESM2_historical\n",
      "Processing: tasmax_day_CNRM-CM5_historical\n",
      "Processing: tasmax_day_HadGEM2-ES_historical\n",
      "Processing: tasmax_day_MIROC5_historical\n",
      "Processing: tasmax_day_CanESM2_rcp45\n",
      "Processing: tasmax_day_CanESM2_rcp85\n",
      "Processing: tasmax_day_CNRM-CM5_rcp45\n",
      "Processing: tasmax_day_CNRM-CM5_rcp85\n",
      "Processing: tasmax_day_HadGEM2-ES_rcp45\n",
      "Processing: tasmax_day_HadGEM2-ES_rcp85\n",
      "Processing: tasmax_day_MIROC5_rcp45\n",
      "Processing: tasmax_day_MIROC5_rcp85\n"
     ]
    },
    {
     "name": "stderr",
     "output_type": "stream",
     "text": [
      "/tmp/ipykernel_1244416/4197625489.py:16: FutureWarning: The frame.append method is deprecated and will be removed from pandas in a future version. Use pandas.concat instead.\n",
      "  projcounts = projcounts.append(hmodelcounts).sort_index()\n"
     ]
    },
    {
     "name": "stdout",
     "output_type": "stream",
     "text": [
      "Processing: tasmax_day_CanESM2_historical\n",
      "Processing: tasmax_day_CNRM-CM5_historical\n",
      "Processing: tasmax_day_HadGEM2-ES_historical\n",
      "Processing: tasmax_day_MIROC5_historical\n",
      "Processing: tasmax_day_CanESM2_rcp45\n",
      "Processing: tasmax_day_CanESM2_rcp85\n",
      "Processing: tasmax_day_CNRM-CM5_rcp45\n",
      "Processing: tasmax_day_CNRM-CM5_rcp85\n",
      "Processing: tasmax_day_HadGEM2-ES_rcp45\n",
      "Processing: tasmax_day_HadGEM2-ES_rcp85\n",
      "Processing: tasmax_day_MIROC5_rcp45\n",
      "Processing: tasmax_day_MIROC5_rcp85\n"
     ]
    },
    {
     "name": "stderr",
     "output_type": "stream",
     "text": [
      "/tmp/ipykernel_1244416/4197625489.py:16: FutureWarning: The frame.append method is deprecated and will be removed from pandas in a future version. Use pandas.concat instead.\n",
      "  projcounts = projcounts.append(hmodelcounts).sort_index()\n"
     ]
    },
    {
     "name": "stdout",
     "output_type": "stream",
     "text": [
      "Processing: tasmax_day_CanESM2_historical\n",
      "Processing: tasmax_day_CNRM-CM5_historical\n",
      "Processing: tasmax_day_HadGEM2-ES_historical\n",
      "Processing: tasmax_day_MIROC5_historical\n",
      "Processing: tasmax_day_CanESM2_rcp45\n",
      "Processing: tasmax_day_CanESM2_rcp85\n",
      "Processing: tasmax_day_CNRM-CM5_rcp45\n",
      "Processing: tasmax_day_CNRM-CM5_rcp85\n",
      "Processing: tasmax_day_HadGEM2-ES_rcp45\n",
      "Processing: tasmax_day_HadGEM2-ES_rcp85\n",
      "Processing: tasmax_day_MIROC5_rcp45\n",
      "Processing: tasmax_day_MIROC5_rcp85\n"
     ]
    },
    {
     "name": "stderr",
     "output_type": "stream",
     "text": [
      "/tmp/ipykernel_1244416/4197625489.py:16: FutureWarning: The frame.append method is deprecated and will be removed from pandas in a future version. Use pandas.concat instead.\n",
      "  projcounts = projcounts.append(hmodelcounts).sort_index()\n"
     ]
    },
    {
     "name": "stdout",
     "output_type": "stream",
     "text": [
      "Processing: tasmax_day_CanESM2_historical\n",
      "Processing: tasmax_day_CNRM-CM5_historical\n",
      "Processing: tasmax_day_HadGEM2-ES_historical\n",
      "Processing: tasmax_day_MIROC5_historical\n",
      "Processing: tasmax_day_CanESM2_rcp45\n",
      "Processing: tasmax_day_CanESM2_rcp85\n",
      "Processing: tasmax_day_CNRM-CM5_rcp45\n",
      "Processing: tasmax_day_CNRM-CM5_rcp85\n",
      "Processing: tasmax_day_HadGEM2-ES_rcp45\n",
      "Processing: tasmax_day_HadGEM2-ES_rcp85\n",
      "Processing: tasmax_day_MIROC5_rcp45\n",
      "Processing: tasmax_day_MIROC5_rcp85\n"
     ]
    },
    {
     "name": "stderr",
     "output_type": "stream",
     "text": [
      "/tmp/ipykernel_1244416/4197625489.py:16: FutureWarning: The frame.append method is deprecated and will be removed from pandas in a future version. Use pandas.concat instead.\n",
      "  projcounts = projcounts.append(hmodelcounts).sort_index()\n"
     ]
    },
    {
     "name": "stdout",
     "output_type": "stream",
     "text": [
      "Processing: tasmax_day_CanESM2_historical\n",
      "Processing: tasmax_day_CNRM-CM5_historical\n",
      "Processing: tasmax_day_HadGEM2-ES_historical\n",
      "Processing: tasmax_day_MIROC5_historical\n",
      "Processing: tasmax_day_CanESM2_rcp45\n",
      "Processing: tasmax_day_CanESM2_rcp85\n",
      "Processing: tasmax_day_CNRM-CM5_rcp45\n",
      "Processing: tasmax_day_CNRM-CM5_rcp85\n",
      "Processing: tasmax_day_HadGEM2-ES_rcp45\n",
      "Processing: tasmax_day_HadGEM2-ES_rcp85\n",
      "Processing: tasmax_day_MIROC5_rcp45\n",
      "Processing: tasmax_day_MIROC5_rcp85\n"
     ]
    },
    {
     "name": "stderr",
     "output_type": "stream",
     "text": [
      "/tmp/ipykernel_1244416/4197625489.py:16: FutureWarning: The frame.append method is deprecated and will be removed from pandas in a future version. Use pandas.concat instead.\n",
      "  projcounts = projcounts.append(hmodelcounts).sort_index()\n"
     ]
    },
    {
     "name": "stdout",
     "output_type": "stream",
     "text": [
      "Processing: tasmax_day_CanESM2_historical\n",
      "Processing: tasmax_day_CNRM-CM5_historical\n",
      "Processing: tasmax_day_HadGEM2-ES_historical\n",
      "Processing: tasmax_day_MIROC5_historical\n",
      "Processing: tasmax_day_CanESM2_rcp45\n",
      "Processing: tasmax_day_CanESM2_rcp85\n",
      "Processing: tasmax_day_CNRM-CM5_rcp45\n",
      "Processing: tasmax_day_CNRM-CM5_rcp85\n",
      "Processing: tasmax_day_HadGEM2-ES_rcp45\n",
      "Processing: tasmax_day_HadGEM2-ES_rcp85\n",
      "Processing: tasmax_day_MIROC5_rcp45\n",
      "Processing: tasmax_day_MIROC5_rcp85\n"
     ]
    },
    {
     "name": "stderr",
     "output_type": "stream",
     "text": [
      "/tmp/ipykernel_1244416/4197625489.py:16: FutureWarning: The frame.append method is deprecated and will be removed from pandas in a future version. Use pandas.concat instead.\n",
      "  projcounts = projcounts.append(hmodelcounts).sort_index()\n"
     ]
    },
    {
     "name": "stdout",
     "output_type": "stream",
     "text": [
      "Processing: tasmax_day_CanESM2_historical\n",
      "Processing: tasmax_day_CNRM-CM5_historical\n",
      "Processing: tasmax_day_HadGEM2-ES_historical\n",
      "Processing: tasmax_day_MIROC5_historical\n",
      "Processing: tasmax_day_CanESM2_rcp45\n",
      "Processing: tasmax_day_CanESM2_rcp85\n",
      "Processing: tasmax_day_CNRM-CM5_rcp45\n",
      "Processing: tasmax_day_CNRM-CM5_rcp85\n",
      "Processing: tasmax_day_HadGEM2-ES_rcp45\n",
      "Processing: tasmax_day_HadGEM2-ES_rcp85\n",
      "Processing: tasmax_day_MIROC5_rcp45\n",
      "Processing: tasmax_day_MIROC5_rcp85\n"
     ]
    },
    {
     "name": "stderr",
     "output_type": "stream",
     "text": [
      "/tmp/ipykernel_1244416/4197625489.py:16: FutureWarning: The frame.append method is deprecated and will be removed from pandas in a future version. Use pandas.concat instead.\n",
      "  projcounts = projcounts.append(hmodelcounts).sort_index()\n"
     ]
    },
    {
     "name": "stdout",
     "output_type": "stream",
     "text": [
      "Processing: tasmax_day_CanESM2_historical\n",
      "Processing: tasmax_day_CNRM-CM5_historical\n",
      "Processing: tasmax_day_HadGEM2-ES_historical\n",
      "Processing: tasmax_day_MIROC5_historical\n",
      "Processing: tasmax_day_CanESM2_rcp45\n",
      "Processing: tasmax_day_CanESM2_rcp85\n",
      "Processing: tasmax_day_CNRM-CM5_rcp45\n",
      "Processing: tasmax_day_CNRM-CM5_rcp85\n",
      "Processing: tasmax_day_HadGEM2-ES_rcp45\n",
      "Processing: tasmax_day_HadGEM2-ES_rcp85\n",
      "Processing: tasmax_day_MIROC5_rcp45\n",
      "Processing: tasmax_day_MIROC5_rcp85\n"
     ]
    },
    {
     "name": "stderr",
     "output_type": "stream",
     "text": [
      "/tmp/ipykernel_1244416/4197625489.py:16: FutureWarning: The frame.append method is deprecated and will be removed from pandas in a future version. Use pandas.concat instead.\n",
      "  projcounts = projcounts.append(hmodelcounts).sort_index()\n"
     ]
    },
    {
     "name": "stdout",
     "output_type": "stream",
     "text": [
      "Processing: tasmax_day_CanESM2_historical\n",
      "Processing: tasmax_day_CNRM-CM5_historical\n",
      "Processing: tasmax_day_HadGEM2-ES_historical\n",
      "Processing: tasmax_day_MIROC5_historical\n",
      "Processing: tasmax_day_CanESM2_rcp45\n",
      "Processing: tasmax_day_CanESM2_rcp85\n",
      "Processing: tasmax_day_CNRM-CM5_rcp45\n",
      "Processing: tasmax_day_CNRM-CM5_rcp85\n",
      "Processing: tasmax_day_HadGEM2-ES_rcp45\n",
      "Processing: tasmax_day_HadGEM2-ES_rcp85\n",
      "Processing: tasmax_day_MIROC5_rcp45\n",
      "Processing: tasmax_day_MIROC5_rcp85\n"
     ]
    },
    {
     "name": "stderr",
     "output_type": "stream",
     "text": [
      "/tmp/ipykernel_1244416/4197625489.py:16: FutureWarning: The frame.append method is deprecated and will be removed from pandas in a future version. Use pandas.concat instead.\n",
      "  projcounts = projcounts.append(hmodelcounts).sort_index()\n"
     ]
    },
    {
     "name": "stdout",
     "output_type": "stream",
     "text": [
      "Processing: tasmax_day_CanESM2_historical\n",
      "Processing: tasmax_day_CNRM-CM5_historical\n",
      "Processing: tasmax_day_HadGEM2-ES_historical\n",
      "Processing: tasmax_day_MIROC5_historical\n",
      "Processing: tasmax_day_CanESM2_rcp45\n",
      "Processing: tasmax_day_CanESM2_rcp85\n",
      "Processing: tasmax_day_CNRM-CM5_rcp45\n",
      "Processing: tasmax_day_CNRM-CM5_rcp85\n",
      "Processing: tasmax_day_HadGEM2-ES_rcp45\n",
      "Processing: tasmax_day_HadGEM2-ES_rcp85\n",
      "Processing: tasmax_day_MIROC5_rcp45\n",
      "Processing: tasmax_day_MIROC5_rcp85\n"
     ]
    },
    {
     "name": "stderr",
     "output_type": "stream",
     "text": [
      "/tmp/ipykernel_1244416/4197625489.py:16: FutureWarning: The frame.append method is deprecated and will be removed from pandas in a future version. Use pandas.concat instead.\n",
      "  projcounts = projcounts.append(hmodelcounts).sort_index()\n"
     ]
    },
    {
     "name": "stdout",
     "output_type": "stream",
     "text": [
      "Processing: tasmax_day_CanESM2_historical\n",
      "Processing: tasmax_day_CNRM-CM5_historical\n",
      "Processing: tasmax_day_HadGEM2-ES_historical\n",
      "Processing: tasmax_day_MIROC5_historical\n",
      "Processing: tasmax_day_CanESM2_rcp45\n",
      "Processing: tasmax_day_CanESM2_rcp85\n",
      "Processing: tasmax_day_CNRM-CM5_rcp45\n",
      "Processing: tasmax_day_CNRM-CM5_rcp85\n",
      "Processing: tasmax_day_HadGEM2-ES_rcp45\n",
      "Processing: tasmax_day_HadGEM2-ES_rcp85\n",
      "Processing: tasmax_day_MIROC5_rcp45\n",
      "Processing: tasmax_day_MIROC5_rcp85\n"
     ]
    },
    {
     "name": "stderr",
     "output_type": "stream",
     "text": [
      "/tmp/ipykernel_1244416/4197625489.py:16: FutureWarning: The frame.append method is deprecated and will be removed from pandas in a future version. Use pandas.concat instead.\n",
      "  projcounts = projcounts.append(hmodelcounts).sort_index()\n"
     ]
    },
    {
     "name": "stdout",
     "output_type": "stream",
     "text": [
      "Processing: tasmax_day_CanESM2_historical\n",
      "Processing: tasmax_day_CNRM-CM5_historical\n",
      "Processing: tasmax_day_HadGEM2-ES_historical\n",
      "Processing: tasmax_day_MIROC5_historical\n",
      "Processing: tasmax_day_CanESM2_rcp45\n",
      "Processing: tasmax_day_CanESM2_rcp85\n",
      "Processing: tasmax_day_CNRM-CM5_rcp45\n",
      "Processing: tasmax_day_CNRM-CM5_rcp85\n",
      "Processing: tasmax_day_HadGEM2-ES_rcp45\n",
      "Processing: tasmax_day_HadGEM2-ES_rcp85\n",
      "Processing: tasmax_day_MIROC5_rcp45\n",
      "Processing: tasmax_day_MIROC5_rcp85\n"
     ]
    },
    {
     "name": "stderr",
     "output_type": "stream",
     "text": [
      "/tmp/ipykernel_1244416/4197625489.py:16: FutureWarning: The frame.append method is deprecated and will be removed from pandas in a future version. Use pandas.concat instead.\n",
      "  projcounts = projcounts.append(hmodelcounts).sort_index()\n"
     ]
    },
    {
     "name": "stdout",
     "output_type": "stream",
     "text": [
      "Processing: tasmax_day_CanESM2_historical\n",
      "Processing: tasmax_day_CNRM-CM5_historical\n",
      "Processing: tasmax_day_HadGEM2-ES_historical\n",
      "Processing: tasmax_day_MIROC5_historical\n",
      "Processing: tasmax_day_CanESM2_rcp45\n",
      "Processing: tasmax_day_CanESM2_rcp85\n",
      "Processing: tasmax_day_CNRM-CM5_rcp45\n",
      "Processing: tasmax_day_CNRM-CM5_rcp85\n",
      "Processing: tasmax_day_HadGEM2-ES_rcp45\n",
      "Processing: tasmax_day_HadGEM2-ES_rcp85\n",
      "Processing: tasmax_day_MIROC5_rcp45\n",
      "Processing: tasmax_day_MIROC5_rcp85\n"
     ]
    },
    {
     "name": "stderr",
     "output_type": "stream",
     "text": [
      "/tmp/ipykernel_1244416/4197625489.py:16: FutureWarning: The frame.append method is deprecated and will be removed from pandas in a future version. Use pandas.concat instead.\n",
      "  projcounts = projcounts.append(hmodelcounts).sort_index()\n"
     ]
    },
    {
     "name": "stdout",
     "output_type": "stream",
     "text": [
      "Processing: tasmax_day_CanESM2_historical\n",
      "Processing: tasmax_day_CNRM-CM5_historical\n",
      "Processing: tasmax_day_HadGEM2-ES_historical\n",
      "Processing: tasmax_day_MIROC5_historical\n",
      "Processing: tasmax_day_CanESM2_rcp45\n",
      "Processing: tasmax_day_CanESM2_rcp85\n",
      "Processing: tasmax_day_CNRM-CM5_rcp45\n",
      "Processing: tasmax_day_CNRM-CM5_rcp85\n",
      "Processing: tasmax_day_HadGEM2-ES_rcp45\n",
      "Processing: tasmax_day_HadGEM2-ES_rcp85\n",
      "Processing: tasmax_day_MIROC5_rcp45\n",
      "Processing: tasmax_day_MIROC5_rcp85\n"
     ]
    },
    {
     "name": "stderr",
     "output_type": "stream",
     "text": [
      "/tmp/ipykernel_1244416/4197625489.py:16: FutureWarning: The frame.append method is deprecated and will be removed from pandas in a future version. Use pandas.concat instead.\n",
      "  projcounts = projcounts.append(hmodelcounts).sort_index()\n"
     ]
    },
    {
     "name": "stdout",
     "output_type": "stream",
     "text": [
      "Processing: tasmax_day_CanESM2_historical\n",
      "Processing: tasmax_day_CNRM-CM5_historical\n",
      "Processing: tasmax_day_HadGEM2-ES_historical\n",
      "Processing: tasmax_day_MIROC5_historical\n",
      "Processing: tasmax_day_CanESM2_rcp45\n",
      "Processing: tasmax_day_CanESM2_rcp85\n",
      "Processing: tasmax_day_CNRM-CM5_rcp45\n",
      "Processing: tasmax_day_CNRM-CM5_rcp85\n",
      "Processing: tasmax_day_HadGEM2-ES_rcp45\n",
      "Processing: tasmax_day_HadGEM2-ES_rcp85\n",
      "Processing: tasmax_day_MIROC5_rcp45\n",
      "Processing: tasmax_day_MIROC5_rcp85\n"
     ]
    },
    {
     "name": "stderr",
     "output_type": "stream",
     "text": [
      "/tmp/ipykernel_1244416/4197625489.py:16: FutureWarning: The frame.append method is deprecated and will be removed from pandas in a future version. Use pandas.concat instead.\n",
      "  projcounts = projcounts.append(hmodelcounts).sort_index()\n"
     ]
    },
    {
     "name": "stdout",
     "output_type": "stream",
     "text": [
      "Processing: tasmax_day_CanESM2_historical\n",
      "Processing: tasmax_day_CNRM-CM5_historical\n",
      "Processing: tasmax_day_HadGEM2-ES_historical\n",
      "Processing: tasmax_day_MIROC5_historical\n",
      "Processing: tasmax_day_CanESM2_rcp45\n",
      "Processing: tasmax_day_CanESM2_rcp85\n",
      "Processing: tasmax_day_CNRM-CM5_rcp45\n",
      "Processing: tasmax_day_CNRM-CM5_rcp85\n",
      "Processing: tasmax_day_HadGEM2-ES_rcp45\n",
      "Processing: tasmax_day_HadGEM2-ES_rcp85\n",
      "Processing: tasmax_day_MIROC5_rcp45\n",
      "Processing: tasmax_day_MIROC5_rcp85\n"
     ]
    },
    {
     "name": "stderr",
     "output_type": "stream",
     "text": [
      "/tmp/ipykernel_1244416/4197625489.py:16: FutureWarning: The frame.append method is deprecated and will be removed from pandas in a future version. Use pandas.concat instead.\n",
      "  projcounts = projcounts.append(hmodelcounts).sort_index()\n"
     ]
    },
    {
     "name": "stdout",
     "output_type": "stream",
     "text": [
      "Processing: tasmax_day_CanESM2_historical\n",
      "Processing: tasmax_day_CNRM-CM5_historical\n",
      "Processing: tasmax_day_HadGEM2-ES_historical\n",
      "Processing: tasmax_day_MIROC5_historical\n",
      "Processing: tasmax_day_CanESM2_rcp45\n",
      "Processing: tasmax_day_CanESM2_rcp85\n",
      "Processing: tasmax_day_CNRM-CM5_rcp45\n",
      "Processing: tasmax_day_CNRM-CM5_rcp85\n",
      "Processing: tasmax_day_HadGEM2-ES_rcp45\n",
      "Processing: tasmax_day_HadGEM2-ES_rcp85\n",
      "Processing: tasmax_day_MIROC5_rcp45\n",
      "Processing: tasmax_day_MIROC5_rcp85\n"
     ]
    },
    {
     "name": "stderr",
     "output_type": "stream",
     "text": [
      "/tmp/ipykernel_1244416/4197625489.py:16: FutureWarning: The frame.append method is deprecated and will be removed from pandas in a future version. Use pandas.concat instead.\n",
      "  projcounts = projcounts.append(hmodelcounts).sort_index()\n"
     ]
    },
    {
     "name": "stdout",
     "output_type": "stream",
     "text": [
      "Processing: tasmax_day_CanESM2_historical\n",
      "Processing: tasmax_day_CNRM-CM5_historical\n",
      "Processing: tasmax_day_HadGEM2-ES_historical\n",
      "Processing: tasmax_day_MIROC5_historical\n",
      "Processing: tasmax_day_CanESM2_rcp45\n",
      "Processing: tasmax_day_CanESM2_rcp85\n",
      "Processing: tasmax_day_CNRM-CM5_rcp45\n",
      "Processing: tasmax_day_CNRM-CM5_rcp85\n",
      "Processing: tasmax_day_HadGEM2-ES_rcp45\n",
      "Processing: tasmax_day_HadGEM2-ES_rcp85\n",
      "Processing: tasmax_day_MIROC5_rcp45\n",
      "Processing: tasmax_day_MIROC5_rcp85\n"
     ]
    },
    {
     "name": "stderr",
     "output_type": "stream",
     "text": [
      "/tmp/ipykernel_1244416/4197625489.py:16: FutureWarning: The frame.append method is deprecated and will be removed from pandas in a future version. Use pandas.concat instead.\n",
      "  projcounts = projcounts.append(hmodelcounts).sort_index()\n"
     ]
    },
    {
     "name": "stdout",
     "output_type": "stream",
     "text": [
      "Processing: tasmax_day_CanESM2_historical\n",
      "Processing: tasmax_day_CNRM-CM5_historical\n",
      "Processing: tasmax_day_HadGEM2-ES_historical\n",
      "Processing: tasmax_day_MIROC5_historical\n",
      "Processing: tasmax_day_CanESM2_rcp45\n",
      "Processing: tasmax_day_CanESM2_rcp85\n",
      "Processing: tasmax_day_CNRM-CM5_rcp45\n",
      "Processing: tasmax_day_CNRM-CM5_rcp85\n",
      "Processing: tasmax_day_HadGEM2-ES_rcp45\n",
      "Processing: tasmax_day_HadGEM2-ES_rcp85\n",
      "Processing: tasmax_day_MIROC5_rcp45\n",
      "Processing: tasmax_day_MIROC5_rcp85\n"
     ]
    },
    {
     "name": "stderr",
     "output_type": "stream",
     "text": [
      "/tmp/ipykernel_1244416/4197625489.py:16: FutureWarning: The frame.append method is deprecated and will be removed from pandas in a future version. Use pandas.concat instead.\n",
      "  projcounts = projcounts.append(hmodelcounts).sort_index()\n"
     ]
    },
    {
     "name": "stdout",
     "output_type": "stream",
     "text": [
      "Processing: tasmax_day_CanESM2_historical\n",
      "Processing: tasmax_day_CNRM-CM5_historical\n",
      "Processing: tasmax_day_HadGEM2-ES_historical\n",
      "Processing: tasmax_day_MIROC5_historical\n",
      "Processing: tasmax_day_CanESM2_rcp45\n",
      "Processing: tasmax_day_CanESM2_rcp85\n",
      "Processing: tasmax_day_CNRM-CM5_rcp45\n",
      "Processing: tasmax_day_CNRM-CM5_rcp85\n",
      "Processing: tasmax_day_HadGEM2-ES_rcp45\n",
      "Processing: tasmax_day_HadGEM2-ES_rcp85\n",
      "Processing: tasmax_day_MIROC5_rcp45\n",
      "Processing: tasmax_day_MIROC5_rcp85\n"
     ]
    },
    {
     "name": "stderr",
     "output_type": "stream",
     "text": [
      "/tmp/ipykernel_1244416/4197625489.py:16: FutureWarning: The frame.append method is deprecated and will be removed from pandas in a future version. Use pandas.concat instead.\n",
      "  projcounts = projcounts.append(hmodelcounts).sort_index()\n"
     ]
    },
    {
     "name": "stdout",
     "output_type": "stream",
     "text": [
      "Processing: tasmax_day_CanESM2_historical\n",
      "Processing: tasmax_day_CNRM-CM5_historical\n",
      "Processing: tasmax_day_HadGEM2-ES_historical\n",
      "Processing: tasmax_day_MIROC5_historical\n",
      "Processing: tasmax_day_CanESM2_rcp45\n",
      "Processing: tasmax_day_CanESM2_rcp85\n",
      "Processing: tasmax_day_CNRM-CM5_rcp45\n",
      "Processing: tasmax_day_CNRM-CM5_rcp85\n",
      "Processing: tasmax_day_HadGEM2-ES_rcp45\n",
      "Processing: tasmax_day_HadGEM2-ES_rcp85\n",
      "Processing: tasmax_day_MIROC5_rcp45\n",
      "Processing: tasmax_day_MIROC5_rcp85\n"
     ]
    },
    {
     "name": "stderr",
     "output_type": "stream",
     "text": [
      "/tmp/ipykernel_1244416/4197625489.py:16: FutureWarning: The frame.append method is deprecated and will be removed from pandas in a future version. Use pandas.concat instead.\n",
      "  projcounts = projcounts.append(hmodelcounts).sort_index()\n"
     ]
    },
    {
     "name": "stdout",
     "output_type": "stream",
     "text": [
      "Processing: tasmax_day_CanESM2_historical\n",
      "Processing: tasmax_day_CNRM-CM5_historical\n",
      "Processing: tasmax_day_HadGEM2-ES_historical\n",
      "Processing: tasmax_day_MIROC5_historical\n",
      "Processing: tasmax_day_CanESM2_rcp45\n",
      "Processing: tasmax_day_CanESM2_rcp85\n",
      "Processing: tasmax_day_CNRM-CM5_rcp45\n",
      "Processing: tasmax_day_CNRM-CM5_rcp85\n",
      "Processing: tasmax_day_HadGEM2-ES_rcp45\n",
      "Processing: tasmax_day_HadGEM2-ES_rcp85\n",
      "Processing: tasmax_day_MIROC5_rcp45\n",
      "Processing: tasmax_day_MIROC5_rcp85\n"
     ]
    },
    {
     "name": "stderr",
     "output_type": "stream",
     "text": [
      "/tmp/ipykernel_1244416/4197625489.py:16: FutureWarning: The frame.append method is deprecated and will be removed from pandas in a future version. Use pandas.concat instead.\n",
      "  projcounts = projcounts.append(hmodelcounts).sort_index()\n"
     ]
    },
    {
     "name": "stdout",
     "output_type": "stream",
     "text": [
      "Processing: tasmax_day_CanESM2_historical\n",
      "Processing: tasmax_day_CNRM-CM5_historical\n",
      "Processing: tasmax_day_HadGEM2-ES_historical\n",
      "Processing: tasmax_day_MIROC5_historical\n",
      "Processing: tasmax_day_CanESM2_rcp45\n",
      "Processing: tasmax_day_CanESM2_rcp85\n",
      "Processing: tasmax_day_CNRM-CM5_rcp45\n",
      "Processing: tasmax_day_CNRM-CM5_rcp85\n",
      "Processing: tasmax_day_HadGEM2-ES_rcp45\n",
      "Processing: tasmax_day_HadGEM2-ES_rcp85\n",
      "Processing: tasmax_day_MIROC5_rcp45\n",
      "Processing: tasmax_day_MIROC5_rcp85\n"
     ]
    },
    {
     "name": "stderr",
     "output_type": "stream",
     "text": [
      "/tmp/ipykernel_1244416/4197625489.py:16: FutureWarning: The frame.append method is deprecated and will be removed from pandas in a future version. Use pandas.concat instead.\n",
      "  projcounts = projcounts.append(hmodelcounts).sort_index()\n"
     ]
    },
    {
     "name": "stdout",
     "output_type": "stream",
     "text": [
      "Processing: tasmax_day_CanESM2_historical\n",
      "Processing: tasmax_day_CNRM-CM5_historical\n",
      "Processing: tasmax_day_HadGEM2-ES_historical\n",
      "Processing: tasmax_day_MIROC5_historical\n",
      "Processing: tasmax_day_CanESM2_rcp45\n",
      "Processing: tasmax_day_CanESM2_rcp85\n",
      "Processing: tasmax_day_CNRM-CM5_rcp45\n",
      "Processing: tasmax_day_CNRM-CM5_rcp85\n",
      "Processing: tasmax_day_HadGEM2-ES_rcp45\n",
      "Processing: tasmax_day_HadGEM2-ES_rcp85\n",
      "Processing: tasmax_day_MIROC5_rcp45\n",
      "Processing: tasmax_day_MIROC5_rcp85\n"
     ]
    },
    {
     "name": "stderr",
     "output_type": "stream",
     "text": [
      "/tmp/ipykernel_1244416/4197625489.py:16: FutureWarning: The frame.append method is deprecated and will be removed from pandas in a future version. Use pandas.concat instead.\n",
      "  projcounts = projcounts.append(hmodelcounts).sort_index()\n"
     ]
    },
    {
     "name": "stdout",
     "output_type": "stream",
     "text": [
      "Processing: tasmax_day_CanESM2_historical\n",
      "Processing: tasmax_day_CNRM-CM5_historical\n",
      "Processing: tasmax_day_HadGEM2-ES_historical\n",
      "Processing: tasmax_day_MIROC5_historical\n",
      "Processing: tasmax_day_CanESM2_rcp45\n",
      "Processing: tasmax_day_CanESM2_rcp85\n",
      "Processing: tasmax_day_CNRM-CM5_rcp45\n",
      "Processing: tasmax_day_CNRM-CM5_rcp85\n",
      "Processing: tasmax_day_HadGEM2-ES_rcp45\n",
      "Processing: tasmax_day_HadGEM2-ES_rcp85\n",
      "Processing: tasmax_day_MIROC5_rcp45\n",
      "Processing: tasmax_day_MIROC5_rcp85\n"
     ]
    },
    {
     "name": "stderr",
     "output_type": "stream",
     "text": [
      "/tmp/ipykernel_1244416/4197625489.py:16: FutureWarning: The frame.append method is deprecated and will be removed from pandas in a future version. Use pandas.concat instead.\n",
      "  projcounts = projcounts.append(hmodelcounts).sort_index()\n"
     ]
    },
    {
     "name": "stdout",
     "output_type": "stream",
     "text": [
      "Processing: tasmax_day_CanESM2_historical\n",
      "Processing: tasmax_day_CNRM-CM5_historical\n",
      "Processing: tasmax_day_HadGEM2-ES_historical\n",
      "Processing: tasmax_day_MIROC5_historical\n",
      "Processing: tasmax_day_CanESM2_rcp45\n",
      "Processing: tasmax_day_CanESM2_rcp85\n",
      "Processing: tasmax_day_CNRM-CM5_rcp45\n",
      "Processing: tasmax_day_CNRM-CM5_rcp85\n",
      "Processing: tasmax_day_HadGEM2-ES_rcp45\n",
      "Processing: tasmax_day_HadGEM2-ES_rcp85\n",
      "Processing: tasmax_day_MIROC5_rcp45\n",
      "Processing: tasmax_day_MIROC5_rcp85\n"
     ]
    },
    {
     "name": "stderr",
     "output_type": "stream",
     "text": [
      "/tmp/ipykernel_1244416/4197625489.py:16: FutureWarning: The frame.append method is deprecated and will be removed from pandas in a future version. Use pandas.concat instead.\n",
      "  projcounts = projcounts.append(hmodelcounts).sort_index()\n"
     ]
    },
    {
     "name": "stdout",
     "output_type": "stream",
     "text": [
      "Processing: tasmax_day_CanESM2_historical\n",
      "Processing: tasmax_day_CNRM-CM5_historical\n",
      "Processing: tasmax_day_HadGEM2-ES_historical\n",
      "Processing: tasmax_day_MIROC5_historical\n",
      "Processing: tasmax_day_CanESM2_rcp45\n",
      "Processing: tasmax_day_CanESM2_rcp85\n",
      "Processing: tasmax_day_CNRM-CM5_rcp45\n",
      "Processing: tasmax_day_CNRM-CM5_rcp85\n",
      "Processing: tasmax_day_HadGEM2-ES_rcp45\n",
      "Processing: tasmax_day_HadGEM2-ES_rcp85\n",
      "Processing: tasmax_day_MIROC5_rcp45\n",
      "Processing: tasmax_day_MIROC5_rcp85\n"
     ]
    },
    {
     "name": "stderr",
     "output_type": "stream",
     "text": [
      "/tmp/ipykernel_1244416/4197625489.py:16: FutureWarning: The frame.append method is deprecated and will be removed from pandas in a future version. Use pandas.concat instead.\n",
      "  projcounts = projcounts.append(hmodelcounts).sort_index()\n"
     ]
    },
    {
     "name": "stdout",
     "output_type": "stream",
     "text": [
      "Processing: tasmax_day_CanESM2_historical\n",
      "Processing: tasmax_day_CNRM-CM5_historical\n",
      "Processing: tasmax_day_HadGEM2-ES_historical\n",
      "Processing: tasmax_day_MIROC5_historical\n",
      "Processing: tasmax_day_CanESM2_rcp45\n",
      "Processing: tasmax_day_CanESM2_rcp85\n",
      "Processing: tasmax_day_CNRM-CM5_rcp45\n",
      "Processing: tasmax_day_CNRM-CM5_rcp85\n",
      "Processing: tasmax_day_HadGEM2-ES_rcp45\n",
      "Processing: tasmax_day_HadGEM2-ES_rcp85\n",
      "Processing: tasmax_day_MIROC5_rcp45\n",
      "Processing: tasmax_day_MIROC5_rcp85\n"
     ]
    },
    {
     "name": "stderr",
     "output_type": "stream",
     "text": [
      "/tmp/ipykernel_1244416/4197625489.py:16: FutureWarning: The frame.append method is deprecated and will be removed from pandas in a future version. Use pandas.concat instead.\n",
      "  projcounts = projcounts.append(hmodelcounts).sort_index()\n"
     ]
    },
    {
     "name": "stdout",
     "output_type": "stream",
     "text": [
      "Processing: tasmax_day_CanESM2_historical\n",
      "Processing: tasmax_day_CNRM-CM5_historical\n",
      "Processing: tasmax_day_HadGEM2-ES_historical\n",
      "Processing: tasmax_day_MIROC5_historical\n",
      "Processing: tasmax_day_CanESM2_rcp45\n",
      "Processing: tasmax_day_CanESM2_rcp85\n",
      "Processing: tasmax_day_CNRM-CM5_rcp45\n",
      "Processing: tasmax_day_CNRM-CM5_rcp85\n",
      "Processing: tasmax_day_HadGEM2-ES_rcp45\n",
      "Processing: tasmax_day_HadGEM2-ES_rcp85\n",
      "Processing: tasmax_day_MIROC5_rcp45\n",
      "Processing: tasmax_day_MIROC5_rcp85\n"
     ]
    },
    {
     "name": "stderr",
     "output_type": "stream",
     "text": [
      "/tmp/ipykernel_1244416/4197625489.py:16: FutureWarning: The frame.append method is deprecated and will be removed from pandas in a future version. Use pandas.concat instead.\n",
      "  projcounts = projcounts.append(hmodelcounts).sort_index()\n"
     ]
    },
    {
     "name": "stdout",
     "output_type": "stream",
     "text": [
      "Processing: tasmax_day_CanESM2_historical\n",
      "Processing: tasmax_day_CNRM-CM5_historical\n",
      "Processing: tasmax_day_HadGEM2-ES_historical\n",
      "Processing: tasmax_day_MIROC5_historical\n",
      "Processing: tasmax_day_CanESM2_rcp45\n",
      "Processing: tasmax_day_CanESM2_rcp85\n",
      "Processing: tasmax_day_CNRM-CM5_rcp45\n",
      "Processing: tasmax_day_CNRM-CM5_rcp85\n",
      "Processing: tasmax_day_HadGEM2-ES_rcp45\n",
      "Processing: tasmax_day_HadGEM2-ES_rcp85\n",
      "Processing: tasmax_day_MIROC5_rcp45\n",
      "Processing: tasmax_day_MIROC5_rcp85\n"
     ]
    },
    {
     "name": "stderr",
     "output_type": "stream",
     "text": [
      "/tmp/ipykernel_1244416/4197625489.py:16: FutureWarning: The frame.append method is deprecated and will be removed from pandas in a future version. Use pandas.concat instead.\n",
      "  projcounts = projcounts.append(hmodelcounts).sort_index()\n"
     ]
    },
    {
     "name": "stdout",
     "output_type": "stream",
     "text": [
      "Processing: tasmax_day_CanESM2_historical\n",
      "Processing: tasmax_day_CNRM-CM5_historical\n",
      "Processing: tasmax_day_HadGEM2-ES_historical\n",
      "Processing: tasmax_day_MIROC5_historical\n",
      "Processing: tasmax_day_CanESM2_rcp45\n",
      "Processing: tasmax_day_CanESM2_rcp85\n",
      "Processing: tasmax_day_CNRM-CM5_rcp45\n",
      "Processing: tasmax_day_CNRM-CM5_rcp85\n",
      "Processing: tasmax_day_HadGEM2-ES_rcp45\n",
      "Processing: tasmax_day_HadGEM2-ES_rcp85\n",
      "Processing: tasmax_day_MIROC5_rcp45\n",
      "Processing: tasmax_day_MIROC5_rcp85\n"
     ]
    },
    {
     "name": "stderr",
     "output_type": "stream",
     "text": [
      "/tmp/ipykernel_1244416/4197625489.py:16: FutureWarning: The frame.append method is deprecated and will be removed from pandas in a future version. Use pandas.concat instead.\n",
      "  projcounts = projcounts.append(hmodelcounts).sort_index()\n"
     ]
    },
    {
     "name": "stdout",
     "output_type": "stream",
     "text": [
      "Processing: tasmax_day_CanESM2_historical\n",
      "Processing: tasmax_day_CNRM-CM5_historical\n",
      "Processing: tasmax_day_HadGEM2-ES_historical\n",
      "Processing: tasmax_day_MIROC5_historical\n",
      "Processing: tasmax_day_CanESM2_rcp45\n",
      "Processing: tasmax_day_CanESM2_rcp85\n",
      "Processing: tasmax_day_CNRM-CM5_rcp45\n",
      "Processing: tasmax_day_CNRM-CM5_rcp85\n",
      "Processing: tasmax_day_HadGEM2-ES_rcp45\n",
      "Processing: tasmax_day_HadGEM2-ES_rcp85\n",
      "Processing: tasmax_day_MIROC5_rcp45\n",
      "Processing: tasmax_day_MIROC5_rcp85\n"
     ]
    },
    {
     "name": "stderr",
     "output_type": "stream",
     "text": [
      "/tmp/ipykernel_1244416/4197625489.py:16: FutureWarning: The frame.append method is deprecated and will be removed from pandas in a future version. Use pandas.concat instead.\n",
      "  projcounts = projcounts.append(hmodelcounts).sort_index()\n"
     ]
    },
    {
     "name": "stdout",
     "output_type": "stream",
     "text": [
      "Processing: tasmax_day_CanESM2_historical\n",
      "Processing: tasmax_day_CNRM-CM5_historical\n",
      "Processing: tasmax_day_HadGEM2-ES_historical\n",
      "Processing: tasmax_day_MIROC5_historical\n",
      "Processing: tasmax_day_CanESM2_rcp45\n",
      "Processing: tasmax_day_CanESM2_rcp85\n",
      "Processing: tasmax_day_CNRM-CM5_rcp45\n",
      "Processing: tasmax_day_CNRM-CM5_rcp85\n",
      "Processing: tasmax_day_HadGEM2-ES_rcp45\n",
      "Processing: tasmax_day_HadGEM2-ES_rcp85\n",
      "Processing: tasmax_day_MIROC5_rcp45\n",
      "Processing: tasmax_day_MIROC5_rcp85\n"
     ]
    },
    {
     "name": "stderr",
     "output_type": "stream",
     "text": [
      "/tmp/ipykernel_1244416/4197625489.py:16: FutureWarning: The frame.append method is deprecated and will be removed from pandas in a future version. Use pandas.concat instead.\n",
      "  projcounts = projcounts.append(hmodelcounts).sort_index()\n"
     ]
    },
    {
     "name": "stdout",
     "output_type": "stream",
     "text": [
      "Processing: tasmax_day_CanESM2_historical\n",
      "Processing: tasmax_day_CNRM-CM5_historical\n",
      "Processing: tasmax_day_HadGEM2-ES_historical\n",
      "Processing: tasmax_day_MIROC5_historical\n",
      "Processing: tasmax_day_CanESM2_rcp45\n",
      "Processing: tasmax_day_CanESM2_rcp85\n",
      "Processing: tasmax_day_CNRM-CM5_rcp45\n",
      "Processing: tasmax_day_CNRM-CM5_rcp85\n",
      "Processing: tasmax_day_HadGEM2-ES_rcp45\n",
      "Processing: tasmax_day_HadGEM2-ES_rcp85\n",
      "Processing: tasmax_day_MIROC5_rcp45\n",
      "Processing: tasmax_day_MIROC5_rcp85\n"
     ]
    },
    {
     "name": "stderr",
     "output_type": "stream",
     "text": [
      "/tmp/ipykernel_1244416/4197625489.py:16: FutureWarning: The frame.append method is deprecated and will be removed from pandas in a future version. Use pandas.concat instead.\n",
      "  projcounts = projcounts.append(hmodelcounts).sort_index()\n"
     ]
    },
    {
     "name": "stdout",
     "output_type": "stream",
     "text": [
      "Processing: tasmax_day_CanESM2_historical\n",
      "Processing: tasmax_day_CNRM-CM5_historical\n",
      "Processing: tasmax_day_HadGEM2-ES_historical\n",
      "Processing: tasmax_day_MIROC5_historical\n",
      "Processing: tasmax_day_CanESM2_rcp45\n",
      "Processing: tasmax_day_CanESM2_rcp85\n",
      "Processing: tasmax_day_CNRM-CM5_rcp45\n",
      "Processing: tasmax_day_CNRM-CM5_rcp85\n",
      "Processing: tasmax_day_HadGEM2-ES_rcp45\n",
      "Processing: tasmax_day_HadGEM2-ES_rcp85\n",
      "Processing: tasmax_day_MIROC5_rcp45\n",
      "Processing: tasmax_day_MIROC5_rcp85\n"
     ]
    },
    {
     "name": "stderr",
     "output_type": "stream",
     "text": [
      "/tmp/ipykernel_1244416/4197625489.py:16: FutureWarning: The frame.append method is deprecated and will be removed from pandas in a future version. Use pandas.concat instead.\n",
      "  projcounts = projcounts.append(hmodelcounts).sort_index()\n"
     ]
    },
    {
     "name": "stdout",
     "output_type": "stream",
     "text": [
      "Processing: tasmax_day_CanESM2_historical\n",
      "Processing: tasmax_day_CNRM-CM5_historical\n",
      "Processing: tasmax_day_HadGEM2-ES_historical\n",
      "Processing: tasmax_day_MIROC5_historical\n",
      "Processing: tasmax_day_CanESM2_rcp45\n",
      "Processing: tasmax_day_CanESM2_rcp85\n",
      "Processing: tasmax_day_CNRM-CM5_rcp45\n",
      "Processing: tasmax_day_CNRM-CM5_rcp85\n",
      "Processing: tasmax_day_HadGEM2-ES_rcp45\n",
      "Processing: tasmax_day_HadGEM2-ES_rcp85\n",
      "Processing: tasmax_day_MIROC5_rcp45\n",
      "Processing: tasmax_day_MIROC5_rcp85\n"
     ]
    },
    {
     "name": "stderr",
     "output_type": "stream",
     "text": [
      "/tmp/ipykernel_1244416/4197625489.py:16: FutureWarning: The frame.append method is deprecated and will be removed from pandas in a future version. Use pandas.concat instead.\n",
      "  projcounts = projcounts.append(hmodelcounts).sort_index()\n"
     ]
    },
    {
     "name": "stdout",
     "output_type": "stream",
     "text": [
      "Processing: tasmax_day_CanESM2_historical\n",
      "Processing: tasmax_day_CNRM-CM5_historical\n",
      "Processing: tasmax_day_HadGEM2-ES_historical\n",
      "Processing: tasmax_day_MIROC5_historical\n",
      "Processing: tasmax_day_CanESM2_rcp45\n",
      "Processing: tasmax_day_CanESM2_rcp85\n",
      "Processing: tasmax_day_CNRM-CM5_rcp45\n",
      "Processing: tasmax_day_CNRM-CM5_rcp85\n",
      "Processing: tasmax_day_HadGEM2-ES_rcp45\n",
      "Processing: tasmax_day_HadGEM2-ES_rcp85\n",
      "Processing: tasmax_day_MIROC5_rcp45\n",
      "Processing: tasmax_day_MIROC5_rcp85\n"
     ]
    },
    {
     "name": "stderr",
     "output_type": "stream",
     "text": [
      "/tmp/ipykernel_1244416/4197625489.py:16: FutureWarning: The frame.append method is deprecated and will be removed from pandas in a future version. Use pandas.concat instead.\n",
      "  projcounts = projcounts.append(hmodelcounts).sort_index()\n"
     ]
    },
    {
     "name": "stdout",
     "output_type": "stream",
     "text": [
      "Processing: tasmax_day_CanESM2_historical\n",
      "Processing: tasmax_day_CNRM-CM5_historical\n",
      "Processing: tasmax_day_HadGEM2-ES_historical\n",
      "Processing: tasmax_day_MIROC5_historical\n",
      "Processing: tasmax_day_CanESM2_rcp45\n",
      "Processing: tasmax_day_CanESM2_rcp85\n",
      "Processing: tasmax_day_CNRM-CM5_rcp45\n",
      "Processing: tasmax_day_CNRM-CM5_rcp85\n",
      "Processing: tasmax_day_HadGEM2-ES_rcp45\n",
      "Processing: tasmax_day_HadGEM2-ES_rcp85\n",
      "Processing: tasmax_day_MIROC5_rcp45\n",
      "Processing: tasmax_day_MIROC5_rcp85\n"
     ]
    },
    {
     "name": "stderr",
     "output_type": "stream",
     "text": [
      "/tmp/ipykernel_1244416/4197625489.py:16: FutureWarning: The frame.append method is deprecated and will be removed from pandas in a future version. Use pandas.concat instead.\n",
      "  projcounts = projcounts.append(hmodelcounts).sort_index()\n"
     ]
    },
    {
     "name": "stdout",
     "output_type": "stream",
     "text": [
      "Processing: tasmax_day_CanESM2_historical\n",
      "Processing: tasmax_day_CNRM-CM5_historical\n",
      "Processing: tasmax_day_HadGEM2-ES_historical\n",
      "Processing: tasmax_day_MIROC5_historical\n",
      "Processing: tasmax_day_CanESM2_rcp45\n",
      "Processing: tasmax_day_CanESM2_rcp85\n",
      "Processing: tasmax_day_CNRM-CM5_rcp45\n",
      "Processing: tasmax_day_CNRM-CM5_rcp85\n",
      "Processing: tasmax_day_HadGEM2-ES_rcp45\n",
      "Processing: tasmax_day_HadGEM2-ES_rcp85\n",
      "Processing: tasmax_day_MIROC5_rcp45\n",
      "Processing: tasmax_day_MIROC5_rcp85\n"
     ]
    },
    {
     "name": "stderr",
     "output_type": "stream",
     "text": [
      "/tmp/ipykernel_1244416/4197625489.py:16: FutureWarning: The frame.append method is deprecated and will be removed from pandas in a future version. Use pandas.concat instead.\n",
      "  projcounts = projcounts.append(hmodelcounts).sort_index()\n"
     ]
    },
    {
     "name": "stdout",
     "output_type": "stream",
     "text": [
      "Processing: tasmax_day_CanESM2_historical\n",
      "Processing: tasmax_day_CNRM-CM5_historical\n",
      "Processing: tasmax_day_HadGEM2-ES_historical\n",
      "Processing: tasmax_day_MIROC5_historical\n",
      "Processing: tasmax_day_CanESM2_rcp45\n",
      "Processing: tasmax_day_CanESM2_rcp85\n",
      "Processing: tasmax_day_CNRM-CM5_rcp45\n",
      "Processing: tasmax_day_CNRM-CM5_rcp85\n",
      "Processing: tasmax_day_HadGEM2-ES_rcp45\n",
      "Processing: tasmax_day_HadGEM2-ES_rcp85\n",
      "Processing: tasmax_day_MIROC5_rcp45\n",
      "Processing: tasmax_day_MIROC5_rcp85\n"
     ]
    },
    {
     "name": "stderr",
     "output_type": "stream",
     "text": [
      "/tmp/ipykernel_1244416/4197625489.py:16: FutureWarning: The frame.append method is deprecated and will be removed from pandas in a future version. Use pandas.concat instead.\n",
      "  projcounts = projcounts.append(hmodelcounts).sort_index()\n"
     ]
    },
    {
     "name": "stdout",
     "output_type": "stream",
     "text": [
      "Processing: tasmax_day_CanESM2_historical\n",
      "Processing: tasmax_day_CNRM-CM5_historical\n",
      "Processing: tasmax_day_HadGEM2-ES_historical\n",
      "Processing: tasmax_day_MIROC5_historical\n",
      "Processing: tasmax_day_CanESM2_rcp45\n",
      "Processing: tasmax_day_CanESM2_rcp85\n",
      "Processing: tasmax_day_CNRM-CM5_rcp45\n",
      "Processing: tasmax_day_CNRM-CM5_rcp85\n",
      "Processing: tasmax_day_HadGEM2-ES_rcp45\n",
      "Processing: tasmax_day_HadGEM2-ES_rcp85\n",
      "Processing: tasmax_day_MIROC5_rcp45\n",
      "Processing: tasmax_day_MIROC5_rcp85\n"
     ]
    },
    {
     "name": "stderr",
     "output_type": "stream",
     "text": [
      "/tmp/ipykernel_1244416/4197625489.py:16: FutureWarning: The frame.append method is deprecated and will be removed from pandas in a future version. Use pandas.concat instead.\n",
      "  projcounts = projcounts.append(hmodelcounts).sort_index()\n"
     ]
    },
    {
     "name": "stdout",
     "output_type": "stream",
     "text": [
      "Processing: tasmax_day_CanESM2_historical\n",
      "Processing: tasmax_day_CNRM-CM5_historical\n",
      "Processing: tasmax_day_HadGEM2-ES_historical\n",
      "Processing: tasmax_day_MIROC5_historical\n",
      "Processing: tasmax_day_CanESM2_rcp45\n",
      "Processing: tasmax_day_CanESM2_rcp85\n",
      "Processing: tasmax_day_CNRM-CM5_rcp45\n",
      "Processing: tasmax_day_CNRM-CM5_rcp85\n",
      "Processing: tasmax_day_HadGEM2-ES_rcp45\n",
      "Processing: tasmax_day_HadGEM2-ES_rcp85\n",
      "Processing: tasmax_day_MIROC5_rcp45\n",
      "Processing: tasmax_day_MIROC5_rcp85\n"
     ]
    },
    {
     "name": "stderr",
     "output_type": "stream",
     "text": [
      "/tmp/ipykernel_1244416/4197625489.py:16: FutureWarning: The frame.append method is deprecated and will be removed from pandas in a future version. Use pandas.concat instead.\n",
      "  projcounts = projcounts.append(hmodelcounts).sort_index()\n"
     ]
    },
    {
     "name": "stdout",
     "output_type": "stream",
     "text": [
      "Processing: tasmax_day_CanESM2_historical\n",
      "Processing: tasmax_day_CNRM-CM5_historical\n",
      "Processing: tasmax_day_HadGEM2-ES_historical\n",
      "Processing: tasmax_day_MIROC5_historical\n",
      "Processing: tasmax_day_CanESM2_rcp45\n",
      "Processing: tasmax_day_CanESM2_rcp85\n",
      "Processing: tasmax_day_CNRM-CM5_rcp45\n",
      "Processing: tasmax_day_CNRM-CM5_rcp85\n",
      "Processing: tasmax_day_HadGEM2-ES_rcp45\n",
      "Processing: tasmax_day_HadGEM2-ES_rcp85\n",
      "Processing: tasmax_day_MIROC5_rcp45\n",
      "Processing: tasmax_day_MIROC5_rcp85\n"
     ]
    },
    {
     "name": "stderr",
     "output_type": "stream",
     "text": [
      "/tmp/ipykernel_1244416/4197625489.py:16: FutureWarning: The frame.append method is deprecated and will be removed from pandas in a future version. Use pandas.concat instead.\n",
      "  projcounts = projcounts.append(hmodelcounts).sort_index()\n"
     ]
    },
    {
     "name": "stdout",
     "output_type": "stream",
     "text": [
      "Processing: tasmax_day_CanESM2_historical\n",
      "Processing: tasmax_day_CNRM-CM5_historical\n",
      "Processing: tasmax_day_HadGEM2-ES_historical\n",
      "Processing: tasmax_day_MIROC5_historical\n",
      "Processing: tasmax_day_CanESM2_rcp45\n",
      "Processing: tasmax_day_CanESM2_rcp85\n",
      "Processing: tasmax_day_CNRM-CM5_rcp45\n",
      "Processing: tasmax_day_CNRM-CM5_rcp85\n",
      "Processing: tasmax_day_HadGEM2-ES_rcp45\n",
      "Processing: tasmax_day_HadGEM2-ES_rcp85\n",
      "Processing: tasmax_day_MIROC5_rcp45\n",
      "Processing: tasmax_day_MIROC5_rcp85\n"
     ]
    },
    {
     "name": "stderr",
     "output_type": "stream",
     "text": [
      "/tmp/ipykernel_1244416/4197625489.py:16: FutureWarning: The frame.append method is deprecated and will be removed from pandas in a future version. Use pandas.concat instead.\n",
      "  projcounts = projcounts.append(hmodelcounts).sort_index()\n"
     ]
    },
    {
     "name": "stdout",
     "output_type": "stream",
     "text": [
      "Processing: tasmax_day_CanESM2_historical\n",
      "Processing: tasmax_day_CNRM-CM5_historical\n",
      "Processing: tasmax_day_HadGEM2-ES_historical\n",
      "Processing: tasmax_day_MIROC5_historical\n",
      "Processing: tasmax_day_CanESM2_rcp45\n",
      "Processing: tasmax_day_CanESM2_rcp85\n",
      "Processing: tasmax_day_CNRM-CM5_rcp45\n",
      "Processing: tasmax_day_CNRM-CM5_rcp85\n",
      "Processing: tasmax_day_HadGEM2-ES_rcp45\n",
      "Processing: tasmax_day_HadGEM2-ES_rcp85\n",
      "Processing: tasmax_day_MIROC5_rcp45\n",
      "Processing: tasmax_day_MIROC5_rcp85\n"
     ]
    },
    {
     "name": "stderr",
     "output_type": "stream",
     "text": [
      "/tmp/ipykernel_1244416/4197625489.py:16: FutureWarning: The frame.append method is deprecated and will be removed from pandas in a future version. Use pandas.concat instead.\n",
      "  projcounts = projcounts.append(hmodelcounts).sort_index()\n"
     ]
    },
    {
     "name": "stdout",
     "output_type": "stream",
     "text": [
      "Processing: tasmax_day_CanESM2_historical\n",
      "Processing: tasmax_day_CNRM-CM5_historical\n",
      "Processing: tasmax_day_HadGEM2-ES_historical\n",
      "Processing: tasmax_day_MIROC5_historical\n",
      "Processing: tasmax_day_CanESM2_rcp45\n",
      "Processing: tasmax_day_CanESM2_rcp85\n",
      "Processing: tasmax_day_CNRM-CM5_rcp45\n",
      "Processing: tasmax_day_CNRM-CM5_rcp85\n",
      "Processing: tasmax_day_HadGEM2-ES_rcp45\n",
      "Processing: tasmax_day_HadGEM2-ES_rcp85\n",
      "Processing: tasmax_day_MIROC5_rcp45\n",
      "Processing: tasmax_day_MIROC5_rcp85\n"
     ]
    },
    {
     "name": "stderr",
     "output_type": "stream",
     "text": [
      "/tmp/ipykernel_1244416/4197625489.py:16: FutureWarning: The frame.append method is deprecated and will be removed from pandas in a future version. Use pandas.concat instead.\n",
      "  projcounts = projcounts.append(hmodelcounts).sort_index()\n"
     ]
    },
    {
     "name": "stdout",
     "output_type": "stream",
     "text": [
      "Processing: tasmax_day_CanESM2_historical\n",
      "Processing: tasmax_day_CNRM-CM5_historical\n",
      "Processing: tasmax_day_HadGEM2-ES_historical\n",
      "Processing: tasmax_day_MIROC5_historical\n",
      "Processing: tasmax_day_CanESM2_rcp45\n",
      "Processing: tasmax_day_CanESM2_rcp85\n",
      "Processing: tasmax_day_CNRM-CM5_rcp45\n",
      "Processing: tasmax_day_CNRM-CM5_rcp85\n",
      "Processing: tasmax_day_HadGEM2-ES_rcp45\n",
      "Processing: tasmax_day_HadGEM2-ES_rcp85\n",
      "Processing: tasmax_day_MIROC5_rcp45\n",
      "Processing: tasmax_day_MIROC5_rcp85\n"
     ]
    },
    {
     "name": "stderr",
     "output_type": "stream",
     "text": [
      "/tmp/ipykernel_1244416/4197625489.py:16: FutureWarning: The frame.append method is deprecated and will be removed from pandas in a future version. Use pandas.concat instead.\n",
      "  projcounts = projcounts.append(hmodelcounts).sort_index()\n"
     ]
    },
    {
     "name": "stdout",
     "output_type": "stream",
     "text": [
      "Processing: tasmax_day_CanESM2_historical\n",
      "Processing: tasmax_day_CNRM-CM5_historical\n",
      "Processing: tasmax_day_HadGEM2-ES_historical\n",
      "Processing: tasmax_day_MIROC5_historical\n",
      "Processing: tasmax_day_CanESM2_rcp45\n",
      "Processing: tasmax_day_CanESM2_rcp85\n",
      "Processing: tasmax_day_CNRM-CM5_rcp45\n",
      "Processing: tasmax_day_CNRM-CM5_rcp85\n",
      "Processing: tasmax_day_HadGEM2-ES_rcp45\n",
      "Processing: tasmax_day_HadGEM2-ES_rcp85\n",
      "Processing: tasmax_day_MIROC5_rcp45\n",
      "Processing: tasmax_day_MIROC5_rcp85\n"
     ]
    },
    {
     "name": "stderr",
     "output_type": "stream",
     "text": [
      "/tmp/ipykernel_1244416/4197625489.py:16: FutureWarning: The frame.append method is deprecated and will be removed from pandas in a future version. Use pandas.concat instead.\n",
      "  projcounts = projcounts.append(hmodelcounts).sort_index()\n"
     ]
    },
    {
     "name": "stdout",
     "output_type": "stream",
     "text": [
      "Processing: tasmax_day_CanESM2_historical\n",
      "Processing: tasmax_day_CNRM-CM5_historical\n",
      "Processing: tasmax_day_HadGEM2-ES_historical\n",
      "Processing: tasmax_day_MIROC5_historical\n",
      "Processing: tasmax_day_CanESM2_rcp45\n",
      "Processing: tasmax_day_CanESM2_rcp85\n",
      "Processing: tasmax_day_CNRM-CM5_rcp45\n",
      "Processing: tasmax_day_CNRM-CM5_rcp85\n",
      "Processing: tasmax_day_HadGEM2-ES_rcp45\n",
      "Processing: tasmax_day_HadGEM2-ES_rcp85\n",
      "Processing: tasmax_day_MIROC5_rcp45\n",
      "Processing: tasmax_day_MIROC5_rcp85\n"
     ]
    },
    {
     "name": "stderr",
     "output_type": "stream",
     "text": [
      "/tmp/ipykernel_1244416/4197625489.py:16: FutureWarning: The frame.append method is deprecated and will be removed from pandas in a future version. Use pandas.concat instead.\n",
      "  projcounts = projcounts.append(hmodelcounts).sort_index()\n"
     ]
    },
    {
     "name": "stdout",
     "output_type": "stream",
     "text": [
      "Processing: tasmax_day_CanESM2_historical\n",
      "Processing: tasmax_day_CNRM-CM5_historical\n",
      "Processing: tasmax_day_HadGEM2-ES_historical\n",
      "Processing: tasmax_day_MIROC5_historical\n",
      "Processing: tasmax_day_CanESM2_rcp45\n",
      "Processing: tasmax_day_CanESM2_rcp85\n",
      "Processing: tasmax_day_CNRM-CM5_rcp45\n",
      "Processing: tasmax_day_CNRM-CM5_rcp85\n",
      "Processing: tasmax_day_HadGEM2-ES_rcp45\n",
      "Processing: tasmax_day_HadGEM2-ES_rcp85\n",
      "Processing: tasmax_day_MIROC5_rcp45\n",
      "Processing: tasmax_day_MIROC5_rcp85\n"
     ]
    },
    {
     "name": "stderr",
     "output_type": "stream",
     "text": [
      "/tmp/ipykernel_1244416/4197625489.py:16: FutureWarning: The frame.append method is deprecated and will be removed from pandas in a future version. Use pandas.concat instead.\n",
      "  projcounts = projcounts.append(hmodelcounts).sort_index()\n"
     ]
    },
    {
     "name": "stdout",
     "output_type": "stream",
     "text": [
      "Processing: tasmax_day_CanESM2_historical\n",
      "Processing: tasmax_day_CNRM-CM5_historical\n",
      "Processing: tasmax_day_HadGEM2-ES_historical\n",
      "Processing: tasmax_day_MIROC5_historical\n",
      "Processing: tasmax_day_CanESM2_rcp45\n",
      "Processing: tasmax_day_CanESM2_rcp85\n",
      "Processing: tasmax_day_CNRM-CM5_rcp45\n",
      "Processing: tasmax_day_CNRM-CM5_rcp85\n",
      "Processing: tasmax_day_HadGEM2-ES_rcp45\n",
      "Processing: tasmax_day_HadGEM2-ES_rcp85\n",
      "Processing: tasmax_day_MIROC5_rcp45\n",
      "Processing: tasmax_day_MIROC5_rcp85\n"
     ]
    },
    {
     "name": "stderr",
     "output_type": "stream",
     "text": [
      "/tmp/ipykernel_1244416/4197625489.py:16: FutureWarning: The frame.append method is deprecated and will be removed from pandas in a future version. Use pandas.concat instead.\n",
      "  projcounts = projcounts.append(hmodelcounts).sort_index()\n"
     ]
    },
    {
     "name": "stdout",
     "output_type": "stream",
     "text": [
      "Processing: tasmax_day_CanESM2_historical\n",
      "Processing: tasmax_day_CNRM-CM5_historical\n",
      "Processing: tasmax_day_HadGEM2-ES_historical\n",
      "Processing: tasmax_day_MIROC5_historical\n",
      "Processing: tasmax_day_CanESM2_rcp45\n",
      "Processing: tasmax_day_CanESM2_rcp85\n",
      "Processing: tasmax_day_CNRM-CM5_rcp45\n",
      "Processing: tasmax_day_CNRM-CM5_rcp85\n",
      "Processing: tasmax_day_HadGEM2-ES_rcp45\n",
      "Processing: tasmax_day_HadGEM2-ES_rcp85\n",
      "Processing: tasmax_day_MIROC5_rcp45\n",
      "Processing: tasmax_day_MIROC5_rcp85\n"
     ]
    },
    {
     "name": "stderr",
     "output_type": "stream",
     "text": [
      "/tmp/ipykernel_1244416/4197625489.py:16: FutureWarning: The frame.append method is deprecated and will be removed from pandas in a future version. Use pandas.concat instead.\n",
      "  projcounts = projcounts.append(hmodelcounts).sort_index()\n"
     ]
    },
    {
     "ename": "TypeError",
     "evalue": "first argument must be an iterable of pandas objects, you passed an object of type \"DataFrame\"",
     "output_type": "error",
     "traceback": [
      "\u001b[0;31m---------------------------------------------------------------------------\u001b[0m",
      "\u001b[0;31mTypeError\u001b[0m                                 Traceback (most recent call last)",
      "\u001b[0;32m/tmp/ipykernel_1244416/4197625489.py\u001b[0m in \u001b[0;36m<module>\u001b[0;34m\u001b[0m\n\u001b[1;32m     16\u001b[0m     \u001b[0mprojcounts\u001b[0m \u001b[0;34m=\u001b[0m \u001b[0mprojcounts\u001b[0m\u001b[0;34m.\u001b[0m\u001b[0mappend\u001b[0m\u001b[0;34m(\u001b[0m\u001b[0mhmodelcounts\u001b[0m\u001b[0;34m)\u001b[0m\u001b[0;34m.\u001b[0m\u001b[0msort_index\u001b[0m\u001b[0;34m(\u001b[0m\u001b[0;34m)\u001b[0m\u001b[0;34m\u001b[0m\u001b[0;34m\u001b[0m\u001b[0m\n\u001b[1;32m     17\u001b[0m \u001b[0;34m\u001b[0m\u001b[0m\n\u001b[0;32m---> 18\u001b[0;31m \u001b[0mfinal_df\u001b[0m \u001b[0;34m=\u001b[0m \u001b[0mpd\u001b[0m\u001b[0;34m.\u001b[0m\u001b[0mconcat\u001b[0m\u001b[0;34m(\u001b[0m\u001b[0mprojcounts\u001b[0m\u001b[0;34m)\u001b[0m\u001b[0;34m\u001b[0m\u001b[0;34m\u001b[0m\u001b[0m\n\u001b[0m",
      "\u001b[0;32m/opt/anaconda3/lib/python3.9/site-packages/pandas/util/_decorators.py\u001b[0m in \u001b[0;36mwrapper\u001b[0;34m(*args, **kwargs)\u001b[0m\n\u001b[1;32m    309\u001b[0m                     \u001b[0mstacklevel\u001b[0m\u001b[0;34m=\u001b[0m\u001b[0mstacklevel\u001b[0m\u001b[0;34m,\u001b[0m\u001b[0;34m\u001b[0m\u001b[0;34m\u001b[0m\u001b[0m\n\u001b[1;32m    310\u001b[0m                 )\n\u001b[0;32m--> 311\u001b[0;31m             \u001b[0;32mreturn\u001b[0m \u001b[0mfunc\u001b[0m\u001b[0;34m(\u001b[0m\u001b[0;34m*\u001b[0m\u001b[0margs\u001b[0m\u001b[0;34m,\u001b[0m \u001b[0;34m**\u001b[0m\u001b[0mkwargs\u001b[0m\u001b[0;34m)\u001b[0m\u001b[0;34m\u001b[0m\u001b[0;34m\u001b[0m\u001b[0m\n\u001b[0m\u001b[1;32m    312\u001b[0m \u001b[0;34m\u001b[0m\u001b[0m\n\u001b[1;32m    313\u001b[0m         \u001b[0;32mreturn\u001b[0m \u001b[0mwrapper\u001b[0m\u001b[0;34m\u001b[0m\u001b[0;34m\u001b[0m\u001b[0m\n",
      "\u001b[0;32m/opt/anaconda3/lib/python3.9/site-packages/pandas/core/reshape/concat.py\u001b[0m in \u001b[0;36mconcat\u001b[0;34m(objs, axis, join, ignore_index, keys, levels, names, verify_integrity, sort, copy)\u001b[0m\n\u001b[1;32m    345\u001b[0m     \u001b[0mValueError\u001b[0m\u001b[0;34m:\u001b[0m \u001b[0mIndexes\u001b[0m \u001b[0mhave\u001b[0m \u001b[0moverlapping\u001b[0m \u001b[0mvalues\u001b[0m\u001b[0;34m:\u001b[0m \u001b[0;34m[\u001b[0m\u001b[0;34m'a'\u001b[0m\u001b[0;34m]\u001b[0m\u001b[0;34m\u001b[0m\u001b[0;34m\u001b[0m\u001b[0m\n\u001b[1;32m    346\u001b[0m     \"\"\"\n\u001b[0;32m--> 347\u001b[0;31m     op = _Concatenator(\n\u001b[0m\u001b[1;32m    348\u001b[0m         \u001b[0mobjs\u001b[0m\u001b[0;34m,\u001b[0m\u001b[0;34m\u001b[0m\u001b[0;34m\u001b[0m\u001b[0m\n\u001b[1;32m    349\u001b[0m         \u001b[0maxis\u001b[0m\u001b[0;34m=\u001b[0m\u001b[0maxis\u001b[0m\u001b[0;34m,\u001b[0m\u001b[0;34m\u001b[0m\u001b[0;34m\u001b[0m\u001b[0m\n",
      "\u001b[0;32m/opt/anaconda3/lib/python3.9/site-packages/pandas/core/reshape/concat.py\u001b[0m in \u001b[0;36m__init__\u001b[0;34m(self, objs, axis, join, keys, levels, names, ignore_index, verify_integrity, copy, sort)\u001b[0m\n\u001b[1;32m    380\u001b[0m     ):\n\u001b[1;32m    381\u001b[0m         \u001b[0;32mif\u001b[0m \u001b[0misinstance\u001b[0m\u001b[0;34m(\u001b[0m\u001b[0mobjs\u001b[0m\u001b[0;34m,\u001b[0m \u001b[0;34m(\u001b[0m\u001b[0mABCSeries\u001b[0m\u001b[0;34m,\u001b[0m \u001b[0mABCDataFrame\u001b[0m\u001b[0;34m,\u001b[0m \u001b[0mstr\u001b[0m\u001b[0;34m)\u001b[0m\u001b[0;34m)\u001b[0m\u001b[0;34m:\u001b[0m\u001b[0;34m\u001b[0m\u001b[0;34m\u001b[0m\u001b[0m\n\u001b[0;32m--> 382\u001b[0;31m             raise TypeError(\n\u001b[0m\u001b[1;32m    383\u001b[0m                 \u001b[0;34m\"first argument must be an iterable of pandas \"\u001b[0m\u001b[0;34m\u001b[0m\u001b[0;34m\u001b[0m\u001b[0m\n\u001b[1;32m    384\u001b[0m                 \u001b[0;34mf'objects, you passed an object of type \"{type(objs).__name__}\"'\u001b[0m\u001b[0;34m\u001b[0m\u001b[0;34m\u001b[0m\u001b[0m\n",
      "\u001b[0;31mTypeError\u001b[0m: first argument must be an iterable of pandas objects, you passed an object of type \"DataFrame\""
     ]
    }
   ],
   "source": [
    "final_df = []\n",
    "\n",
    "for params in full_params:\n",
    "\n",
    "    climvar = ['tasmax']\n",
    "    period = ['day']\n",
    "    models = ['CanESM2', 'CNRM-CM5', 'HadGEM2-ES', 'MIROC5']\n",
    "    scenarios = ['rcp45','rcp85']\n",
    "    hmodelcounts = fetch_exheat(climvar, period, models, ['historical'], **params)\n",
    "    projcounts = fetch_exheat(climvar, period, models, scenarios, **params)\n",
    "    \n",
    "    for feature in all_features:\n",
    "        projcounts['county_name'] =  feature['properties']['name']\n",
    "        hmodelcounts['county_name'] = feature['properties']['name']\n",
    "    \n",
    "    projcounts = projcounts.append(hmodelcounts).sort_index()\n",
    "\n",
    "final_df = pd.concat(projcounts)"
   ]
  },
  {
   "cell_type": "code",
   "execution_count": 79,
   "id": "6ba2f705-684d-4248-873f-c2c9fc14b95a",
   "metadata": {
    "collapsed": true,
    "jupyter": {
     "outputs_hidden": true
    },
    "tags": []
   },
   "outputs": [
    {
     "name": "stdout",
     "output_type": "stream",
     "text": [
      "Processing: tasmax_day_CanESM2_historical\n",
      "Processing: tasmax_day_CNRM-CM5_historical\n",
      "Processing: tasmax_day_HadGEM2-ES_historical\n",
      "Processing: tasmax_day_MIROC5_historical\n",
      "Processing: tasmax_day_CanESM2_rcp45\n",
      "Processing: tasmax_day_CanESM2_rcp85\n",
      "Processing: tasmax_day_CNRM-CM5_rcp45\n",
      "Processing: tasmax_day_CNRM-CM5_rcp85\n",
      "Processing: tasmax_day_HadGEM2-ES_rcp45\n",
      "Processing: tasmax_day_HadGEM2-ES_rcp85\n",
      "Processing: tasmax_day_MIROC5_rcp45\n",
      "Processing: tasmax_day_MIROC5_rcp85\n"
     ]
    },
    {
     "name": "stderr",
     "output_type": "stream",
     "text": [
      "/tmp/ipykernel_1244416/930655985.py:16: FutureWarning: The frame.append method is deprecated and will be removed from pandas in a future version. Use pandas.concat instead.\n",
      "  result_dfs.append(projcounts.append(hmodelcounts).sort_index())\n"
     ]
    },
    {
     "name": "stdout",
     "output_type": "stream",
     "text": [
      "Processing: tasmax_day_CanESM2_historical\n",
      "Processing: tasmax_day_CNRM-CM5_historical\n",
      "Processing: tasmax_day_HadGEM2-ES_historical\n",
      "Processing: tasmax_day_MIROC5_historical\n",
      "Processing: tasmax_day_CanESM2_rcp45\n",
      "Processing: tasmax_day_CanESM2_rcp85\n",
      "Processing: tasmax_day_CNRM-CM5_rcp45\n",
      "Processing: tasmax_day_CNRM-CM5_rcp85\n",
      "Processing: tasmax_day_HadGEM2-ES_rcp45\n",
      "Processing: tasmax_day_HadGEM2-ES_rcp85\n",
      "Processing: tasmax_day_MIROC5_rcp45\n",
      "Processing: tasmax_day_MIROC5_rcp85\n"
     ]
    },
    {
     "name": "stderr",
     "output_type": "stream",
     "text": [
      "/tmp/ipykernel_1244416/930655985.py:16: FutureWarning: The frame.append method is deprecated and will be removed from pandas in a future version. Use pandas.concat instead.\n",
      "  result_dfs.append(projcounts.append(hmodelcounts).sort_index())\n"
     ]
    },
    {
     "name": "stdout",
     "output_type": "stream",
     "text": [
      "Processing: tasmax_day_CanESM2_historical\n",
      "Processing: tasmax_day_CNRM-CM5_historical\n",
      "Processing: tasmax_day_HadGEM2-ES_historical\n",
      "Processing: tasmax_day_MIROC5_historical\n",
      "Processing: tasmax_day_CanESM2_rcp45\n",
      "Processing: tasmax_day_CanESM2_rcp85\n",
      "Processing: tasmax_day_CNRM-CM5_rcp45\n",
      "Processing: tasmax_day_CNRM-CM5_rcp85\n",
      "Processing: tasmax_day_HadGEM2-ES_rcp45\n",
      "Processing: tasmax_day_HadGEM2-ES_rcp85\n",
      "Processing: tasmax_day_MIROC5_rcp45\n",
      "Processing: tasmax_day_MIROC5_rcp85\n",
      "Processing: tasmax_day_CanESM2_historical\n"
     ]
    },
    {
     "name": "stderr",
     "output_type": "stream",
     "text": [
      "/tmp/ipykernel_1244416/930655985.py:16: FutureWarning: The frame.append method is deprecated and will be removed from pandas in a future version. Use pandas.concat instead.\n",
      "  result_dfs.append(projcounts.append(hmodelcounts).sort_index())\n"
     ]
    },
    {
     "name": "stdout",
     "output_type": "stream",
     "text": [
      "Processing: tasmax_day_CNRM-CM5_historical\n",
      "Processing: tasmax_day_HadGEM2-ES_historical\n",
      "Processing: tasmax_day_MIROC5_historical\n",
      "Processing: tasmax_day_CanESM2_rcp45\n",
      "Processing: tasmax_day_CanESM2_rcp85\n",
      "Processing: tasmax_day_CNRM-CM5_rcp45\n",
      "Processing: tasmax_day_CNRM-CM5_rcp85\n",
      "Processing: tasmax_day_HadGEM2-ES_rcp45\n",
      "Processing: tasmax_day_HadGEM2-ES_rcp85\n",
      "Processing: tasmax_day_MIROC5_rcp45\n",
      "Processing: tasmax_day_MIROC5_rcp85\n",
      "Processing: tasmax_day_CanESM2_historical\n"
     ]
    },
    {
     "name": "stderr",
     "output_type": "stream",
     "text": [
      "/tmp/ipykernel_1244416/930655985.py:16: FutureWarning: The frame.append method is deprecated and will be removed from pandas in a future version. Use pandas.concat instead.\n",
      "  result_dfs.append(projcounts.append(hmodelcounts).sort_index())\n"
     ]
    },
    {
     "name": "stdout",
     "output_type": "stream",
     "text": [
      "Processing: tasmax_day_CNRM-CM5_historical\n",
      "Processing: tasmax_day_HadGEM2-ES_historical\n",
      "Processing: tasmax_day_MIROC5_historical\n",
      "Processing: tasmax_day_CanESM2_rcp45\n",
      "Processing: tasmax_day_CanESM2_rcp85\n",
      "Processing: tasmax_day_CNRM-CM5_rcp45\n",
      "Processing: tasmax_day_CNRM-CM5_rcp85\n",
      "Processing: tasmax_day_HadGEM2-ES_rcp45\n",
      "Processing: tasmax_day_HadGEM2-ES_rcp85\n",
      "Processing: tasmax_day_MIROC5_rcp45\n",
      "Processing: tasmax_day_MIROC5_rcp85\n",
      "Processing: tasmax_day_CanESM2_historical\n"
     ]
    },
    {
     "name": "stderr",
     "output_type": "stream",
     "text": [
      "/tmp/ipykernel_1244416/930655985.py:16: FutureWarning: The frame.append method is deprecated and will be removed from pandas in a future version. Use pandas.concat instead.\n",
      "  result_dfs.append(projcounts.append(hmodelcounts).sort_index())\n"
     ]
    },
    {
     "name": "stdout",
     "output_type": "stream",
     "text": [
      "Processing: tasmax_day_CNRM-CM5_historical\n",
      "Processing: tasmax_day_HadGEM2-ES_historical\n",
      "Processing: tasmax_day_MIROC5_historical\n",
      "Processing: tasmax_day_CanESM2_rcp45\n",
      "Processing: tasmax_day_CanESM2_rcp85\n",
      "Processing: tasmax_day_CNRM-CM5_rcp45\n",
      "Processing: tasmax_day_CNRM-CM5_rcp85\n",
      "Processing: tasmax_day_HadGEM2-ES_rcp45\n",
      "Processing: tasmax_day_HadGEM2-ES_rcp85\n",
      "Processing: tasmax_day_MIROC5_rcp45\n",
      "Processing: tasmax_day_MIROC5_rcp85\n",
      "Processing: tasmax_day_CanESM2_historical\n"
     ]
    },
    {
     "name": "stderr",
     "output_type": "stream",
     "text": [
      "/tmp/ipykernel_1244416/930655985.py:16: FutureWarning: The frame.append method is deprecated and will be removed from pandas in a future version. Use pandas.concat instead.\n",
      "  result_dfs.append(projcounts.append(hmodelcounts).sort_index())\n"
     ]
    },
    {
     "name": "stdout",
     "output_type": "stream",
     "text": [
      "Processing: tasmax_day_CNRM-CM5_historical\n",
      "Processing: tasmax_day_HadGEM2-ES_historical\n",
      "Processing: tasmax_day_MIROC5_historical\n",
      "Processing: tasmax_day_CanESM2_rcp45\n",
      "Processing: tasmax_day_CanESM2_rcp85\n",
      "Processing: tasmax_day_CNRM-CM5_rcp45\n",
      "Processing: tasmax_day_CNRM-CM5_rcp85\n",
      "Processing: tasmax_day_HadGEM2-ES_rcp45\n",
      "Processing: tasmax_day_HadGEM2-ES_rcp85\n",
      "Processing: tasmax_day_MIROC5_rcp45\n",
      "Processing: tasmax_day_MIROC5_rcp85\n",
      "Processing: tasmax_day_CanESM2_historical\n"
     ]
    },
    {
     "name": "stderr",
     "output_type": "stream",
     "text": [
      "/tmp/ipykernel_1244416/930655985.py:16: FutureWarning: The frame.append method is deprecated and will be removed from pandas in a future version. Use pandas.concat instead.\n",
      "  result_dfs.append(projcounts.append(hmodelcounts).sort_index())\n"
     ]
    },
    {
     "name": "stdout",
     "output_type": "stream",
     "text": [
      "Processing: tasmax_day_CNRM-CM5_historical\n",
      "Processing: tasmax_day_HadGEM2-ES_historical\n",
      "Processing: tasmax_day_MIROC5_historical\n",
      "Processing: tasmax_day_CanESM2_rcp45\n",
      "Processing: tasmax_day_CanESM2_rcp85\n",
      "Processing: tasmax_day_CNRM-CM5_rcp45\n",
      "Processing: tasmax_day_CNRM-CM5_rcp85\n",
      "Processing: tasmax_day_HadGEM2-ES_rcp45\n",
      "Processing: tasmax_day_HadGEM2-ES_rcp85\n",
      "Processing: tasmax_day_MIROC5_rcp45\n",
      "Processing: tasmax_day_MIROC5_rcp85\n",
      "Processing: tasmax_day_CanESM2_historical\n"
     ]
    },
    {
     "name": "stderr",
     "output_type": "stream",
     "text": [
      "/tmp/ipykernel_1244416/930655985.py:16: FutureWarning: The frame.append method is deprecated and will be removed from pandas in a future version. Use pandas.concat instead.\n",
      "  result_dfs.append(projcounts.append(hmodelcounts).sort_index())\n"
     ]
    },
    {
     "name": "stdout",
     "output_type": "stream",
     "text": [
      "Processing: tasmax_day_CNRM-CM5_historical\n",
      "Processing: tasmax_day_HadGEM2-ES_historical\n",
      "Processing: tasmax_day_MIROC5_historical\n",
      "Processing: tasmax_day_CanESM2_rcp45\n",
      "Processing: tasmax_day_CanESM2_rcp85\n",
      "Processing: tasmax_day_CNRM-CM5_rcp45\n",
      "Processing: tasmax_day_CNRM-CM5_rcp85\n",
      "Processing: tasmax_day_HadGEM2-ES_rcp45\n",
      "Processing: tasmax_day_HadGEM2-ES_rcp85\n",
      "Processing: tasmax_day_MIROC5_rcp45\n",
      "Processing: tasmax_day_MIROC5_rcp85\n",
      "Processing: tasmax_day_CanESM2_historical\n"
     ]
    },
    {
     "name": "stderr",
     "output_type": "stream",
     "text": [
      "/tmp/ipykernel_1244416/930655985.py:16: FutureWarning: The frame.append method is deprecated and will be removed from pandas in a future version. Use pandas.concat instead.\n",
      "  result_dfs.append(projcounts.append(hmodelcounts).sort_index())\n"
     ]
    },
    {
     "name": "stdout",
     "output_type": "stream",
     "text": [
      "Processing: tasmax_day_CNRM-CM5_historical\n",
      "Processing: tasmax_day_HadGEM2-ES_historical\n",
      "Processing: tasmax_day_MIROC5_historical\n",
      "Processing: tasmax_day_CanESM2_rcp45\n",
      "Processing: tasmax_day_CanESM2_rcp85\n",
      "Processing: tasmax_day_CNRM-CM5_rcp45\n",
      "Processing: tasmax_day_CNRM-CM5_rcp85\n",
      "Processing: tasmax_day_HadGEM2-ES_rcp45\n",
      "Processing: tasmax_day_HadGEM2-ES_rcp85\n",
      "Processing: tasmax_day_MIROC5_rcp45\n",
      "Processing: tasmax_day_MIROC5_rcp85\n",
      "Processing: tasmax_day_CanESM2_historical\n"
     ]
    },
    {
     "name": "stderr",
     "output_type": "stream",
     "text": [
      "/tmp/ipykernel_1244416/930655985.py:16: FutureWarning: The frame.append method is deprecated and will be removed from pandas in a future version. Use pandas.concat instead.\n",
      "  result_dfs.append(projcounts.append(hmodelcounts).sort_index())\n"
     ]
    },
    {
     "name": "stdout",
     "output_type": "stream",
     "text": [
      "Processing: tasmax_day_CNRM-CM5_historical\n",
      "Processing: tasmax_day_HadGEM2-ES_historical\n",
      "Processing: tasmax_day_MIROC5_historical\n",
      "Processing: tasmax_day_CanESM2_rcp45\n",
      "Processing: tasmax_day_CanESM2_rcp85\n",
      "Processing: tasmax_day_CNRM-CM5_rcp45\n",
      "Processing: tasmax_day_CNRM-CM5_rcp85\n",
      "Processing: tasmax_day_HadGEM2-ES_rcp45\n",
      "Processing: tasmax_day_HadGEM2-ES_rcp85\n",
      "Processing: tasmax_day_MIROC5_rcp45\n",
      "Processing: tasmax_day_MIROC5_rcp85\n",
      "Processing: tasmax_day_CanESM2_historical\n"
     ]
    },
    {
     "name": "stderr",
     "output_type": "stream",
     "text": [
      "/tmp/ipykernel_1244416/930655985.py:16: FutureWarning: The frame.append method is deprecated and will be removed from pandas in a future version. Use pandas.concat instead.\n",
      "  result_dfs.append(projcounts.append(hmodelcounts).sort_index())\n"
     ]
    },
    {
     "name": "stdout",
     "output_type": "stream",
     "text": [
      "Processing: tasmax_day_CNRM-CM5_historical\n",
      "Processing: tasmax_day_HadGEM2-ES_historical\n",
      "Processing: tasmax_day_MIROC5_historical\n",
      "Processing: tasmax_day_CanESM2_rcp45\n",
      "Processing: tasmax_day_CanESM2_rcp85\n",
      "Processing: tasmax_day_CNRM-CM5_rcp45\n",
      "Processing: tasmax_day_CNRM-CM5_rcp85\n",
      "Processing: tasmax_day_HadGEM2-ES_rcp45\n",
      "Processing: tasmax_day_HadGEM2-ES_rcp85\n",
      "Processing: tasmax_day_MIROC5_rcp45\n",
      "Processing: tasmax_day_MIROC5_rcp85\n",
      "Processing: tasmax_day_CanESM2_historical\n"
     ]
    },
    {
     "name": "stderr",
     "output_type": "stream",
     "text": [
      "/tmp/ipykernel_1244416/930655985.py:16: FutureWarning: The frame.append method is deprecated and will be removed from pandas in a future version. Use pandas.concat instead.\n",
      "  result_dfs.append(projcounts.append(hmodelcounts).sort_index())\n"
     ]
    },
    {
     "name": "stdout",
     "output_type": "stream",
     "text": [
      "Processing: tasmax_day_CNRM-CM5_historical\n",
      "Processing: tasmax_day_HadGEM2-ES_historical\n",
      "Processing: tasmax_day_MIROC5_historical\n",
      "Processing: tasmax_day_CanESM2_rcp45\n",
      "Processing: tasmax_day_CanESM2_rcp85\n",
      "Processing: tasmax_day_CNRM-CM5_rcp45\n",
      "Processing: tasmax_day_CNRM-CM5_rcp85\n",
      "Processing: tasmax_day_HadGEM2-ES_rcp45\n",
      "Processing: tasmax_day_HadGEM2-ES_rcp85\n",
      "Processing: tasmax_day_MIROC5_rcp45\n",
      "Processing: tasmax_day_MIROC5_rcp85\n",
      "Processing: tasmax_day_CanESM2_historical\n"
     ]
    },
    {
     "name": "stderr",
     "output_type": "stream",
     "text": [
      "/tmp/ipykernel_1244416/930655985.py:16: FutureWarning: The frame.append method is deprecated and will be removed from pandas in a future version. Use pandas.concat instead.\n",
      "  result_dfs.append(projcounts.append(hmodelcounts).sort_index())\n"
     ]
    },
    {
     "name": "stdout",
     "output_type": "stream",
     "text": [
      "Processing: tasmax_day_CNRM-CM5_historical\n",
      "Processing: tasmax_day_HadGEM2-ES_historical\n",
      "Processing: tasmax_day_MIROC5_historical\n",
      "Processing: tasmax_day_CanESM2_rcp45\n",
      "Processing: tasmax_day_CanESM2_rcp85\n",
      "Processing: tasmax_day_CNRM-CM5_rcp45\n",
      "Processing: tasmax_day_CNRM-CM5_rcp85\n",
      "Processing: tasmax_day_HadGEM2-ES_rcp45\n",
      "Processing: tasmax_day_HadGEM2-ES_rcp85\n",
      "Processing: tasmax_day_MIROC5_rcp45\n",
      "Processing: tasmax_day_MIROC5_rcp85\n",
      "Processing: tasmax_day_CanESM2_historical\n"
     ]
    },
    {
     "name": "stderr",
     "output_type": "stream",
     "text": [
      "/tmp/ipykernel_1244416/930655985.py:16: FutureWarning: The frame.append method is deprecated and will be removed from pandas in a future version. Use pandas.concat instead.\n",
      "  result_dfs.append(projcounts.append(hmodelcounts).sort_index())\n"
     ]
    },
    {
     "name": "stdout",
     "output_type": "stream",
     "text": [
      "Processing: tasmax_day_CNRM-CM5_historical\n",
      "Processing: tasmax_day_HadGEM2-ES_historical\n",
      "Processing: tasmax_day_MIROC5_historical\n",
      "Processing: tasmax_day_CanESM2_rcp45\n",
      "Processing: tasmax_day_CanESM2_rcp85\n",
      "Processing: tasmax_day_CNRM-CM5_rcp45\n",
      "Processing: tasmax_day_CNRM-CM5_rcp85\n",
      "Processing: tasmax_day_HadGEM2-ES_rcp45\n",
      "Processing: tasmax_day_HadGEM2-ES_rcp85\n",
      "Processing: tasmax_day_MIROC5_rcp45\n",
      "Processing: tasmax_day_MIROC5_rcp85\n",
      "Processing: tasmax_day_CanESM2_historical\n"
     ]
    },
    {
     "name": "stderr",
     "output_type": "stream",
     "text": [
      "/tmp/ipykernel_1244416/930655985.py:16: FutureWarning: The frame.append method is deprecated and will be removed from pandas in a future version. Use pandas.concat instead.\n",
      "  result_dfs.append(projcounts.append(hmodelcounts).sort_index())\n"
     ]
    },
    {
     "name": "stdout",
     "output_type": "stream",
     "text": [
      "Processing: tasmax_day_CNRM-CM5_historical\n",
      "Processing: tasmax_day_HadGEM2-ES_historical\n",
      "Processing: tasmax_day_MIROC5_historical\n",
      "Processing: tasmax_day_CanESM2_rcp45\n",
      "Processing: tasmax_day_CanESM2_rcp85\n",
      "Processing: tasmax_day_CNRM-CM5_rcp45\n",
      "Processing: tasmax_day_CNRM-CM5_rcp85\n",
      "Processing: tasmax_day_HadGEM2-ES_rcp45\n",
      "Processing: tasmax_day_HadGEM2-ES_rcp85\n",
      "Processing: tasmax_day_MIROC5_rcp45\n",
      "Processing: tasmax_day_MIROC5_rcp85\n",
      "Processing: tasmax_day_CanESM2_historical\n"
     ]
    },
    {
     "name": "stderr",
     "output_type": "stream",
     "text": [
      "/tmp/ipykernel_1244416/930655985.py:16: FutureWarning: The frame.append method is deprecated and will be removed from pandas in a future version. Use pandas.concat instead.\n",
      "  result_dfs.append(projcounts.append(hmodelcounts).sort_index())\n"
     ]
    },
    {
     "name": "stdout",
     "output_type": "stream",
     "text": [
      "Processing: tasmax_day_CNRM-CM5_historical\n",
      "Processing: tasmax_day_HadGEM2-ES_historical\n",
      "Processing: tasmax_day_MIROC5_historical\n",
      "Processing: tasmax_day_CanESM2_rcp45\n",
      "Processing: tasmax_day_CanESM2_rcp85\n",
      "Processing: tasmax_day_CNRM-CM5_rcp45\n",
      "Processing: tasmax_day_CNRM-CM5_rcp85\n",
      "Processing: tasmax_day_HadGEM2-ES_rcp45\n",
      "Processing: tasmax_day_HadGEM2-ES_rcp85\n",
      "Processing: tasmax_day_MIROC5_rcp45\n",
      "Processing: tasmax_day_MIROC5_rcp85\n",
      "Processing: tasmax_day_CanESM2_historical\n"
     ]
    },
    {
     "name": "stderr",
     "output_type": "stream",
     "text": [
      "/tmp/ipykernel_1244416/930655985.py:16: FutureWarning: The frame.append method is deprecated and will be removed from pandas in a future version. Use pandas.concat instead.\n",
      "  result_dfs.append(projcounts.append(hmodelcounts).sort_index())\n"
     ]
    },
    {
     "name": "stdout",
     "output_type": "stream",
     "text": [
      "Processing: tasmax_day_CNRM-CM5_historical\n",
      "Processing: tasmax_day_HadGEM2-ES_historical\n",
      "Processing: tasmax_day_MIROC5_historical\n",
      "Processing: tasmax_day_CanESM2_rcp45\n",
      "Processing: tasmax_day_CanESM2_rcp85\n",
      "Processing: tasmax_day_CNRM-CM5_rcp45\n",
      "Processing: tasmax_day_CNRM-CM5_rcp85\n",
      "Processing: tasmax_day_HadGEM2-ES_rcp45\n",
      "Processing: tasmax_day_HadGEM2-ES_rcp85\n",
      "Processing: tasmax_day_MIROC5_rcp45\n",
      "Processing: tasmax_day_MIROC5_rcp85\n",
      "Processing: tasmax_day_CanESM2_historical\n"
     ]
    },
    {
     "name": "stderr",
     "output_type": "stream",
     "text": [
      "/tmp/ipykernel_1244416/930655985.py:16: FutureWarning: The frame.append method is deprecated and will be removed from pandas in a future version. Use pandas.concat instead.\n",
      "  result_dfs.append(projcounts.append(hmodelcounts).sort_index())\n"
     ]
    },
    {
     "name": "stdout",
     "output_type": "stream",
     "text": [
      "Processing: tasmax_day_CNRM-CM5_historical\n",
      "Processing: tasmax_day_HadGEM2-ES_historical\n",
      "Processing: tasmax_day_MIROC5_historical\n",
      "Processing: tasmax_day_CanESM2_rcp45\n",
      "Processing: tasmax_day_CanESM2_rcp85\n",
      "Processing: tasmax_day_CNRM-CM5_rcp45\n",
      "Processing: tasmax_day_CNRM-CM5_rcp85\n",
      "Processing: tasmax_day_HadGEM2-ES_rcp45\n",
      "Processing: tasmax_day_HadGEM2-ES_rcp85\n",
      "Processing: tasmax_day_MIROC5_rcp45\n",
      "Processing: tasmax_day_MIROC5_rcp85\n",
      "Processing: tasmax_day_CanESM2_historical\n"
     ]
    },
    {
     "name": "stderr",
     "output_type": "stream",
     "text": [
      "/tmp/ipykernel_1244416/930655985.py:16: FutureWarning: The frame.append method is deprecated and will be removed from pandas in a future version. Use pandas.concat instead.\n",
      "  result_dfs.append(projcounts.append(hmodelcounts).sort_index())\n"
     ]
    },
    {
     "name": "stdout",
     "output_type": "stream",
     "text": [
      "Processing: tasmax_day_CNRM-CM5_historical\n",
      "Processing: tasmax_day_HadGEM2-ES_historical\n",
      "Processing: tasmax_day_MIROC5_historical\n",
      "Processing: tasmax_day_CanESM2_rcp45\n",
      "Processing: tasmax_day_CanESM2_rcp85\n",
      "Processing: tasmax_day_CNRM-CM5_rcp45\n",
      "Processing: tasmax_day_CNRM-CM5_rcp85\n",
      "Processing: tasmax_day_HadGEM2-ES_rcp45\n",
      "Processing: tasmax_day_HadGEM2-ES_rcp85\n",
      "Processing: tasmax_day_MIROC5_rcp45\n",
      "Processing: tasmax_day_MIROC5_rcp85\n",
      "Processing: tasmax_day_CanESM2_historical\n"
     ]
    },
    {
     "name": "stderr",
     "output_type": "stream",
     "text": [
      "/tmp/ipykernel_1244416/930655985.py:16: FutureWarning: The frame.append method is deprecated and will be removed from pandas in a future version. Use pandas.concat instead.\n",
      "  result_dfs.append(projcounts.append(hmodelcounts).sort_index())\n"
     ]
    },
    {
     "name": "stdout",
     "output_type": "stream",
     "text": [
      "Processing: tasmax_day_CNRM-CM5_historical\n",
      "Processing: tasmax_day_HadGEM2-ES_historical\n",
      "Processing: tasmax_day_MIROC5_historical\n",
      "Processing: tasmax_day_CanESM2_rcp45\n",
      "Processing: tasmax_day_CanESM2_rcp85\n",
      "Processing: tasmax_day_CNRM-CM5_rcp45\n",
      "Processing: tasmax_day_CNRM-CM5_rcp85\n",
      "Processing: tasmax_day_HadGEM2-ES_rcp45\n",
      "Processing: tasmax_day_HadGEM2-ES_rcp85\n",
      "Processing: tasmax_day_MIROC5_rcp45\n",
      "Processing: tasmax_day_MIROC5_rcp85\n",
      "Processing: tasmax_day_CanESM2_historical\n"
     ]
    },
    {
     "name": "stderr",
     "output_type": "stream",
     "text": [
      "/tmp/ipykernel_1244416/930655985.py:16: FutureWarning: The frame.append method is deprecated and will be removed from pandas in a future version. Use pandas.concat instead.\n",
      "  result_dfs.append(projcounts.append(hmodelcounts).sort_index())\n"
     ]
    },
    {
     "name": "stdout",
     "output_type": "stream",
     "text": [
      "Processing: tasmax_day_CNRM-CM5_historical\n",
      "Processing: tasmax_day_HadGEM2-ES_historical\n",
      "Processing: tasmax_day_MIROC5_historical\n",
      "Processing: tasmax_day_CanESM2_rcp45\n",
      "Processing: tasmax_day_CanESM2_rcp85\n",
      "Processing: tasmax_day_CNRM-CM5_rcp45\n",
      "Processing: tasmax_day_CNRM-CM5_rcp85\n",
      "Processing: tasmax_day_HadGEM2-ES_rcp45\n",
      "Processing: tasmax_day_HadGEM2-ES_rcp85\n",
      "Processing: tasmax_day_MIROC5_rcp45\n",
      "Processing: tasmax_day_MIROC5_rcp85\n",
      "Processing: tasmax_day_CanESM2_historical\n"
     ]
    },
    {
     "name": "stderr",
     "output_type": "stream",
     "text": [
      "/tmp/ipykernel_1244416/930655985.py:16: FutureWarning: The frame.append method is deprecated and will be removed from pandas in a future version. Use pandas.concat instead.\n",
      "  result_dfs.append(projcounts.append(hmodelcounts).sort_index())\n"
     ]
    },
    {
     "name": "stdout",
     "output_type": "stream",
     "text": [
      "Processing: tasmax_day_CNRM-CM5_historical\n",
      "Processing: tasmax_day_HadGEM2-ES_historical\n",
      "Processing: tasmax_day_MIROC5_historical\n",
      "Processing: tasmax_day_CanESM2_rcp45\n",
      "Processing: tasmax_day_CanESM2_rcp85\n",
      "Processing: tasmax_day_CNRM-CM5_rcp45\n",
      "Processing: tasmax_day_CNRM-CM5_rcp85\n",
      "Processing: tasmax_day_HadGEM2-ES_rcp45\n",
      "Processing: tasmax_day_HadGEM2-ES_rcp85\n",
      "Processing: tasmax_day_MIROC5_rcp45\n",
      "Processing: tasmax_day_MIROC5_rcp85\n",
      "Processing: tasmax_day_CanESM2_historical\n"
     ]
    },
    {
     "name": "stderr",
     "output_type": "stream",
     "text": [
      "/tmp/ipykernel_1244416/930655985.py:16: FutureWarning: The frame.append method is deprecated and will be removed from pandas in a future version. Use pandas.concat instead.\n",
      "  result_dfs.append(projcounts.append(hmodelcounts).sort_index())\n"
     ]
    },
    {
     "name": "stdout",
     "output_type": "stream",
     "text": [
      "Processing: tasmax_day_CNRM-CM5_historical\n",
      "Processing: tasmax_day_HadGEM2-ES_historical\n",
      "Processing: tasmax_day_MIROC5_historical\n",
      "Processing: tasmax_day_CanESM2_rcp45\n",
      "Processing: tasmax_day_CanESM2_rcp85\n",
      "Processing: tasmax_day_CNRM-CM5_rcp45\n",
      "Processing: tasmax_day_CNRM-CM5_rcp85\n",
      "Processing: tasmax_day_HadGEM2-ES_rcp45\n",
      "Processing: tasmax_day_HadGEM2-ES_rcp85\n",
      "Processing: tasmax_day_MIROC5_rcp45\n",
      "Processing: tasmax_day_MIROC5_rcp85\n",
      "Processing: tasmax_day_CanESM2_historical\n"
     ]
    },
    {
     "name": "stderr",
     "output_type": "stream",
     "text": [
      "/tmp/ipykernel_1244416/930655985.py:16: FutureWarning: The frame.append method is deprecated and will be removed from pandas in a future version. Use pandas.concat instead.\n",
      "  result_dfs.append(projcounts.append(hmodelcounts).sort_index())\n"
     ]
    },
    {
     "name": "stdout",
     "output_type": "stream",
     "text": [
      "Processing: tasmax_day_CNRM-CM5_historical\n",
      "Processing: tasmax_day_HadGEM2-ES_historical\n",
      "Processing: tasmax_day_MIROC5_historical\n",
      "Processing: tasmax_day_CanESM2_rcp45\n",
      "Processing: tasmax_day_CanESM2_rcp85\n",
      "Processing: tasmax_day_CNRM-CM5_rcp45\n",
      "Processing: tasmax_day_CNRM-CM5_rcp85\n",
      "Processing: tasmax_day_HadGEM2-ES_rcp45\n",
      "Processing: tasmax_day_HadGEM2-ES_rcp85\n",
      "Processing: tasmax_day_MIROC5_rcp45\n",
      "Processing: tasmax_day_MIROC5_rcp85\n",
      "Processing: tasmax_day_CanESM2_historical\n"
     ]
    },
    {
     "name": "stderr",
     "output_type": "stream",
     "text": [
      "/tmp/ipykernel_1244416/930655985.py:16: FutureWarning: The frame.append method is deprecated and will be removed from pandas in a future version. Use pandas.concat instead.\n",
      "  result_dfs.append(projcounts.append(hmodelcounts).sort_index())\n"
     ]
    },
    {
     "name": "stdout",
     "output_type": "stream",
     "text": [
      "Processing: tasmax_day_CNRM-CM5_historical\n",
      "Processing: tasmax_day_HadGEM2-ES_historical\n",
      "Processing: tasmax_day_MIROC5_historical\n",
      "Processing: tasmax_day_CanESM2_rcp45\n",
      "Processing: tasmax_day_CanESM2_rcp85\n",
      "Processing: tasmax_day_CNRM-CM5_rcp45\n",
      "Processing: tasmax_day_CNRM-CM5_rcp85\n",
      "Processing: tasmax_day_HadGEM2-ES_rcp45\n",
      "Processing: tasmax_day_HadGEM2-ES_rcp85\n",
      "Processing: tasmax_day_MIROC5_rcp45\n",
      "Processing: tasmax_day_MIROC5_rcp85\n",
      "Processing: tasmax_day_CanESM2_historical\n"
     ]
    },
    {
     "name": "stderr",
     "output_type": "stream",
     "text": [
      "/tmp/ipykernel_1244416/930655985.py:16: FutureWarning: The frame.append method is deprecated and will be removed from pandas in a future version. Use pandas.concat instead.\n",
      "  result_dfs.append(projcounts.append(hmodelcounts).sort_index())\n"
     ]
    },
    {
     "name": "stdout",
     "output_type": "stream",
     "text": [
      "Processing: tasmax_day_CNRM-CM5_historical\n",
      "Processing: tasmax_day_HadGEM2-ES_historical\n",
      "Processing: tasmax_day_MIROC5_historical\n",
      "Processing: tasmax_day_CanESM2_rcp45\n",
      "Processing: tasmax_day_CanESM2_rcp85\n",
      "Processing: tasmax_day_CNRM-CM5_rcp45\n",
      "Processing: tasmax_day_CNRM-CM5_rcp85\n",
      "Processing: tasmax_day_HadGEM2-ES_rcp45\n",
      "Processing: tasmax_day_HadGEM2-ES_rcp85\n",
      "Processing: tasmax_day_MIROC5_rcp45\n",
      "Processing: tasmax_day_MIROC5_rcp85\n",
      "Processing: tasmax_day_CanESM2_historical\n"
     ]
    },
    {
     "name": "stderr",
     "output_type": "stream",
     "text": [
      "/tmp/ipykernel_1244416/930655985.py:16: FutureWarning: The frame.append method is deprecated and will be removed from pandas in a future version. Use pandas.concat instead.\n",
      "  result_dfs.append(projcounts.append(hmodelcounts).sort_index())\n"
     ]
    },
    {
     "name": "stdout",
     "output_type": "stream",
     "text": [
      "Processing: tasmax_day_CNRM-CM5_historical\n",
      "Processing: tasmax_day_HadGEM2-ES_historical\n",
      "Processing: tasmax_day_MIROC5_historical\n",
      "Processing: tasmax_day_CanESM2_rcp45\n",
      "Processing: tasmax_day_CanESM2_rcp85\n",
      "Processing: tasmax_day_CNRM-CM5_rcp45\n",
      "Processing: tasmax_day_CNRM-CM5_rcp85\n",
      "Processing: tasmax_day_HadGEM2-ES_rcp45\n",
      "Processing: tasmax_day_HadGEM2-ES_rcp85\n",
      "Processing: tasmax_day_MIROC5_rcp45\n",
      "Processing: tasmax_day_MIROC5_rcp85\n",
      "Processing: tasmax_day_CanESM2_historical\n"
     ]
    },
    {
     "name": "stderr",
     "output_type": "stream",
     "text": [
      "/tmp/ipykernel_1244416/930655985.py:16: FutureWarning: The frame.append method is deprecated and will be removed from pandas in a future version. Use pandas.concat instead.\n",
      "  result_dfs.append(projcounts.append(hmodelcounts).sort_index())\n"
     ]
    },
    {
     "name": "stdout",
     "output_type": "stream",
     "text": [
      "Processing: tasmax_day_CNRM-CM5_historical\n",
      "Processing: tasmax_day_HadGEM2-ES_historical\n",
      "Processing: tasmax_day_MIROC5_historical\n",
      "Processing: tasmax_day_CanESM2_rcp45\n",
      "Processing: tasmax_day_CanESM2_rcp85\n",
      "Processing: tasmax_day_CNRM-CM5_rcp45\n",
      "Processing: tasmax_day_CNRM-CM5_rcp85\n",
      "Processing: tasmax_day_HadGEM2-ES_rcp45\n",
      "Processing: tasmax_day_HadGEM2-ES_rcp85\n",
      "Processing: tasmax_day_MIROC5_rcp45\n",
      "Processing: tasmax_day_MIROC5_rcp85\n",
      "Processing: tasmax_day_CanESM2_historical\n"
     ]
    },
    {
     "name": "stderr",
     "output_type": "stream",
     "text": [
      "/tmp/ipykernel_1244416/930655985.py:16: FutureWarning: The frame.append method is deprecated and will be removed from pandas in a future version. Use pandas.concat instead.\n",
      "  result_dfs.append(projcounts.append(hmodelcounts).sort_index())\n"
     ]
    },
    {
     "name": "stdout",
     "output_type": "stream",
     "text": [
      "Processing: tasmax_day_CNRM-CM5_historical\n",
      "Processing: tasmax_day_HadGEM2-ES_historical\n",
      "Processing: tasmax_day_MIROC5_historical\n",
      "Processing: tasmax_day_CanESM2_rcp45\n",
      "Processing: tasmax_day_CanESM2_rcp85\n",
      "Processing: tasmax_day_CNRM-CM5_rcp45\n",
      "Processing: tasmax_day_CNRM-CM5_rcp85\n",
      "Processing: tasmax_day_HadGEM2-ES_rcp45\n",
      "Processing: tasmax_day_HadGEM2-ES_rcp85\n",
      "Processing: tasmax_day_MIROC5_rcp45\n",
      "Processing: tasmax_day_MIROC5_rcp85\n",
      "Processing: tasmax_day_CanESM2_historical\n"
     ]
    },
    {
     "name": "stderr",
     "output_type": "stream",
     "text": [
      "/tmp/ipykernel_1244416/930655985.py:16: FutureWarning: The frame.append method is deprecated and will be removed from pandas in a future version. Use pandas.concat instead.\n",
      "  result_dfs.append(projcounts.append(hmodelcounts).sort_index())\n"
     ]
    },
    {
     "name": "stdout",
     "output_type": "stream",
     "text": [
      "Processing: tasmax_day_CNRM-CM5_historical\n",
      "Processing: tasmax_day_HadGEM2-ES_historical\n",
      "Processing: tasmax_day_MIROC5_historical\n",
      "Processing: tasmax_day_CanESM2_rcp45\n",
      "Processing: tasmax_day_CanESM2_rcp85\n",
      "Processing: tasmax_day_CNRM-CM5_rcp45\n",
      "Processing: tasmax_day_CNRM-CM5_rcp85\n",
      "Processing: tasmax_day_HadGEM2-ES_rcp45\n",
      "Processing: tasmax_day_HadGEM2-ES_rcp85\n",
      "Processing: tasmax_day_MIROC5_rcp45\n",
      "Processing: tasmax_day_MIROC5_rcp85\n",
      "Processing: tasmax_day_CanESM2_historical\n"
     ]
    },
    {
     "name": "stderr",
     "output_type": "stream",
     "text": [
      "/tmp/ipykernel_1244416/930655985.py:16: FutureWarning: The frame.append method is deprecated and will be removed from pandas in a future version. Use pandas.concat instead.\n",
      "  result_dfs.append(projcounts.append(hmodelcounts).sort_index())\n"
     ]
    },
    {
     "name": "stdout",
     "output_type": "stream",
     "text": [
      "Processing: tasmax_day_CNRM-CM5_historical\n",
      "Processing: tasmax_day_HadGEM2-ES_historical\n",
      "Processing: tasmax_day_MIROC5_historical\n",
      "Processing: tasmax_day_CanESM2_rcp45\n",
      "Processing: tasmax_day_CanESM2_rcp85\n",
      "Processing: tasmax_day_CNRM-CM5_rcp45\n",
      "Processing: tasmax_day_CNRM-CM5_rcp85\n",
      "Processing: tasmax_day_HadGEM2-ES_rcp45\n",
      "Processing: tasmax_day_HadGEM2-ES_rcp85\n",
      "Processing: tasmax_day_MIROC5_rcp45\n",
      "Processing: tasmax_day_MIROC5_rcp85\n",
      "Processing: tasmax_day_CanESM2_historical\n"
     ]
    },
    {
     "name": "stderr",
     "output_type": "stream",
     "text": [
      "/tmp/ipykernel_1244416/930655985.py:16: FutureWarning: The frame.append method is deprecated and will be removed from pandas in a future version. Use pandas.concat instead.\n",
      "  result_dfs.append(projcounts.append(hmodelcounts).sort_index())\n"
     ]
    },
    {
     "name": "stdout",
     "output_type": "stream",
     "text": [
      "Processing: tasmax_day_CNRM-CM5_historical\n",
      "Processing: tasmax_day_HadGEM2-ES_historical\n",
      "Processing: tasmax_day_MIROC5_historical\n",
      "Processing: tasmax_day_CanESM2_rcp45\n",
      "Processing: tasmax_day_CanESM2_rcp85\n",
      "Processing: tasmax_day_CNRM-CM5_rcp45\n",
      "Processing: tasmax_day_CNRM-CM5_rcp85\n",
      "Processing: tasmax_day_HadGEM2-ES_rcp45\n",
      "Processing: tasmax_day_HadGEM2-ES_rcp85\n",
      "Processing: tasmax_day_MIROC5_rcp45\n",
      "Processing: tasmax_day_MIROC5_rcp85\n",
      "Processing: tasmax_day_CanESM2_historical\n"
     ]
    },
    {
     "name": "stderr",
     "output_type": "stream",
     "text": [
      "/tmp/ipykernel_1244416/930655985.py:16: FutureWarning: The frame.append method is deprecated and will be removed from pandas in a future version. Use pandas.concat instead.\n",
      "  result_dfs.append(projcounts.append(hmodelcounts).sort_index())\n"
     ]
    },
    {
     "name": "stdout",
     "output_type": "stream",
     "text": [
      "Processing: tasmax_day_CNRM-CM5_historical\n",
      "Processing: tasmax_day_HadGEM2-ES_historical\n",
      "Processing: tasmax_day_MIROC5_historical\n",
      "Processing: tasmax_day_CanESM2_rcp45\n",
      "Processing: tasmax_day_CanESM2_rcp85\n",
      "Processing: tasmax_day_CNRM-CM5_rcp45\n",
      "Processing: tasmax_day_CNRM-CM5_rcp85\n",
      "Processing: tasmax_day_HadGEM2-ES_rcp45\n",
      "Processing: tasmax_day_HadGEM2-ES_rcp85\n",
      "Processing: tasmax_day_MIROC5_rcp45\n",
      "Processing: tasmax_day_MIROC5_rcp85\n",
      "Processing: tasmax_day_CanESM2_historical\n"
     ]
    },
    {
     "name": "stderr",
     "output_type": "stream",
     "text": [
      "/tmp/ipykernel_1244416/930655985.py:16: FutureWarning: The frame.append method is deprecated and will be removed from pandas in a future version. Use pandas.concat instead.\n",
      "  result_dfs.append(projcounts.append(hmodelcounts).sort_index())\n"
     ]
    },
    {
     "name": "stdout",
     "output_type": "stream",
     "text": [
      "Processing: tasmax_day_CNRM-CM5_historical\n",
      "Processing: tasmax_day_HadGEM2-ES_historical\n",
      "Processing: tasmax_day_MIROC5_historical\n",
      "Processing: tasmax_day_CanESM2_rcp45\n",
      "Processing: tasmax_day_CanESM2_rcp85\n",
      "Processing: tasmax_day_CNRM-CM5_rcp45\n",
      "Processing: tasmax_day_CNRM-CM5_rcp85\n",
      "Processing: tasmax_day_HadGEM2-ES_rcp45\n",
      "Processing: tasmax_day_HadGEM2-ES_rcp85\n",
      "Processing: tasmax_day_MIROC5_rcp45\n",
      "Processing: tasmax_day_MIROC5_rcp85\n",
      "Processing: tasmax_day_CanESM2_historical\n"
     ]
    },
    {
     "name": "stderr",
     "output_type": "stream",
     "text": [
      "/tmp/ipykernel_1244416/930655985.py:16: FutureWarning: The frame.append method is deprecated and will be removed from pandas in a future version. Use pandas.concat instead.\n",
      "  result_dfs.append(projcounts.append(hmodelcounts).sort_index())\n"
     ]
    },
    {
     "name": "stdout",
     "output_type": "stream",
     "text": [
      "Processing: tasmax_day_CNRM-CM5_historical\n",
      "Processing: tasmax_day_HadGEM2-ES_historical\n",
      "Processing: tasmax_day_MIROC5_historical\n",
      "Processing: tasmax_day_CanESM2_rcp45\n",
      "Processing: tasmax_day_CanESM2_rcp85\n",
      "Processing: tasmax_day_CNRM-CM5_rcp45\n",
      "Processing: tasmax_day_CNRM-CM5_rcp85\n",
      "Processing: tasmax_day_HadGEM2-ES_rcp45\n",
      "Processing: tasmax_day_HadGEM2-ES_rcp85\n",
      "Processing: tasmax_day_MIROC5_rcp45\n",
      "Processing: tasmax_day_MIROC5_rcp85\n",
      "Processing: tasmax_day_CanESM2_historical\n"
     ]
    },
    {
     "name": "stderr",
     "output_type": "stream",
     "text": [
      "/tmp/ipykernel_1244416/930655985.py:16: FutureWarning: The frame.append method is deprecated and will be removed from pandas in a future version. Use pandas.concat instead.\n",
      "  result_dfs.append(projcounts.append(hmodelcounts).sort_index())\n"
     ]
    },
    {
     "name": "stdout",
     "output_type": "stream",
     "text": [
      "Processing: tasmax_day_CNRM-CM5_historical\n",
      "Processing: tasmax_day_HadGEM2-ES_historical\n",
      "Processing: tasmax_day_MIROC5_historical\n",
      "Processing: tasmax_day_CanESM2_rcp45\n",
      "Processing: tasmax_day_CanESM2_rcp85\n",
      "Processing: tasmax_day_CNRM-CM5_rcp45\n",
      "Processing: tasmax_day_CNRM-CM5_rcp85\n",
      "Processing: tasmax_day_HadGEM2-ES_rcp45\n",
      "Processing: tasmax_day_HadGEM2-ES_rcp85\n",
      "Processing: tasmax_day_MIROC5_rcp45\n",
      "Processing: tasmax_day_MIROC5_rcp85\n",
      "Processing: tasmax_day_CanESM2_historical\n"
     ]
    },
    {
     "name": "stderr",
     "output_type": "stream",
     "text": [
      "/tmp/ipykernel_1244416/930655985.py:16: FutureWarning: The frame.append method is deprecated and will be removed from pandas in a future version. Use pandas.concat instead.\n",
      "  result_dfs.append(projcounts.append(hmodelcounts).sort_index())\n"
     ]
    },
    {
     "name": "stdout",
     "output_type": "stream",
     "text": [
      "Processing: tasmax_day_CNRM-CM5_historical\n",
      "Processing: tasmax_day_HadGEM2-ES_historical\n",
      "Processing: tasmax_day_MIROC5_historical\n",
      "Processing: tasmax_day_CanESM2_rcp45\n",
      "Processing: tasmax_day_CanESM2_rcp85\n",
      "Processing: tasmax_day_CNRM-CM5_rcp45\n",
      "Processing: tasmax_day_CNRM-CM5_rcp85\n",
      "Processing: tasmax_day_HadGEM2-ES_rcp45\n",
      "Processing: tasmax_day_HadGEM2-ES_rcp85\n",
      "Processing: tasmax_day_MIROC5_rcp45\n",
      "Processing: tasmax_day_MIROC5_rcp85\n",
      "Processing: tasmax_day_CanESM2_historical\n"
     ]
    },
    {
     "name": "stderr",
     "output_type": "stream",
     "text": [
      "/tmp/ipykernel_1244416/930655985.py:16: FutureWarning: The frame.append method is deprecated and will be removed from pandas in a future version. Use pandas.concat instead.\n",
      "  result_dfs.append(projcounts.append(hmodelcounts).sort_index())\n"
     ]
    },
    {
     "name": "stdout",
     "output_type": "stream",
     "text": [
      "Processing: tasmax_day_CNRM-CM5_historical\n",
      "Processing: tasmax_day_HadGEM2-ES_historical\n",
      "Processing: tasmax_day_MIROC5_historical\n",
      "Processing: tasmax_day_CanESM2_rcp45\n",
      "Processing: tasmax_day_CanESM2_rcp85\n",
      "Processing: tasmax_day_CNRM-CM5_rcp45\n",
      "Processing: tasmax_day_CNRM-CM5_rcp85\n",
      "Processing: tasmax_day_HadGEM2-ES_rcp45\n",
      "Processing: tasmax_day_HadGEM2-ES_rcp85\n",
      "Processing: tasmax_day_MIROC5_rcp45\n",
      "Processing: tasmax_day_MIROC5_rcp85\n",
      "Processing: tasmax_day_CanESM2_historical\n"
     ]
    },
    {
     "name": "stderr",
     "output_type": "stream",
     "text": [
      "/tmp/ipykernel_1244416/930655985.py:16: FutureWarning: The frame.append method is deprecated and will be removed from pandas in a future version. Use pandas.concat instead.\n",
      "  result_dfs.append(projcounts.append(hmodelcounts).sort_index())\n"
     ]
    },
    {
     "name": "stdout",
     "output_type": "stream",
     "text": [
      "Processing: tasmax_day_CNRM-CM5_historical\n",
      "Processing: tasmax_day_HadGEM2-ES_historical\n",
      "Processing: tasmax_day_MIROC5_historical\n",
      "Processing: tasmax_day_CanESM2_rcp45\n",
      "Processing: tasmax_day_CanESM2_rcp85\n",
      "Processing: tasmax_day_CNRM-CM5_rcp45\n",
      "Processing: tasmax_day_CNRM-CM5_rcp85\n",
      "Processing: tasmax_day_HadGEM2-ES_rcp45\n",
      "Processing: tasmax_day_HadGEM2-ES_rcp85\n",
      "Processing: tasmax_day_MIROC5_rcp45\n",
      "Processing: tasmax_day_MIROC5_rcp85\n"
     ]
    },
    {
     "name": "stderr",
     "output_type": "stream",
     "text": [
      "/tmp/ipykernel_1244416/930655985.py:16: FutureWarning: The frame.append method is deprecated and will be removed from pandas in a future version. Use pandas.concat instead.\n",
      "  result_dfs.append(projcounts.append(hmodelcounts).sort_index())\n"
     ]
    },
    {
     "name": "stdout",
     "output_type": "stream",
     "text": [
      "Processing: tasmax_day_CanESM2_historical\n",
      "Processing: tasmax_day_CNRM-CM5_historical\n",
      "Processing: tasmax_day_HadGEM2-ES_historical\n",
      "Processing: tasmax_day_MIROC5_historical\n",
      "Processing: tasmax_day_CanESM2_rcp45\n",
      "Processing: tasmax_day_CanESM2_rcp85\n",
      "Processing: tasmax_day_CNRM-CM5_rcp45\n",
      "Processing: tasmax_day_CNRM-CM5_rcp85\n",
      "Processing: tasmax_day_HadGEM2-ES_rcp45\n",
      "Processing: tasmax_day_HadGEM2-ES_rcp85\n",
      "Processing: tasmax_day_MIROC5_rcp45\n",
      "Processing: tasmax_day_MIROC5_rcp85\n"
     ]
    },
    {
     "name": "stderr",
     "output_type": "stream",
     "text": [
      "/tmp/ipykernel_1244416/930655985.py:16: FutureWarning: The frame.append method is deprecated and will be removed from pandas in a future version. Use pandas.concat instead.\n",
      "  result_dfs.append(projcounts.append(hmodelcounts).sort_index())\n"
     ]
    },
    {
     "name": "stdout",
     "output_type": "stream",
     "text": [
      "Processing: tasmax_day_CanESM2_historical\n",
      "Processing: tasmax_day_CNRM-CM5_historical\n",
      "Processing: tasmax_day_HadGEM2-ES_historical\n",
      "Processing: tasmax_day_MIROC5_historical\n",
      "Processing: tasmax_day_CanESM2_rcp45\n",
      "Processing: tasmax_day_CanESM2_rcp85\n",
      "Processing: tasmax_day_CNRM-CM5_rcp45\n",
      "Processing: tasmax_day_CNRM-CM5_rcp85\n",
      "Processing: tasmax_day_HadGEM2-ES_rcp45\n",
      "Processing: tasmax_day_HadGEM2-ES_rcp85\n",
      "Processing: tasmax_day_MIROC5_rcp45\n",
      "Processing: tasmax_day_MIROC5_rcp85\n"
     ]
    },
    {
     "name": "stderr",
     "output_type": "stream",
     "text": [
      "/tmp/ipykernel_1244416/930655985.py:16: FutureWarning: The frame.append method is deprecated and will be removed from pandas in a future version. Use pandas.concat instead.\n",
      "  result_dfs.append(projcounts.append(hmodelcounts).sort_index())\n"
     ]
    },
    {
     "name": "stdout",
     "output_type": "stream",
     "text": [
      "Processing: tasmax_day_CanESM2_historical\n",
      "Processing: tasmax_day_CNRM-CM5_historical\n",
      "Processing: tasmax_day_HadGEM2-ES_historical\n",
      "Processing: tasmax_day_MIROC5_historical\n",
      "Processing: tasmax_day_CanESM2_rcp45\n",
      "Processing: tasmax_day_CanESM2_rcp85\n",
      "Processing: tasmax_day_CNRM-CM5_rcp45\n",
      "Processing: tasmax_day_CNRM-CM5_rcp85\n",
      "Processing: tasmax_day_HadGEM2-ES_rcp45\n",
      "Processing: tasmax_day_HadGEM2-ES_rcp85\n",
      "Processing: tasmax_day_MIROC5_rcp45\n",
      "Processing: tasmax_day_MIROC5_rcp85\n"
     ]
    },
    {
     "name": "stderr",
     "output_type": "stream",
     "text": [
      "/tmp/ipykernel_1244416/930655985.py:16: FutureWarning: The frame.append method is deprecated and will be removed from pandas in a future version. Use pandas.concat instead.\n",
      "  result_dfs.append(projcounts.append(hmodelcounts).sort_index())\n"
     ]
    },
    {
     "name": "stdout",
     "output_type": "stream",
     "text": [
      "Processing: tasmax_day_CanESM2_historical\n",
      "Processing: tasmax_day_CNRM-CM5_historical\n",
      "Processing: tasmax_day_HadGEM2-ES_historical\n",
      "Processing: tasmax_day_MIROC5_historical\n",
      "Processing: tasmax_day_CanESM2_rcp45\n",
      "Processing: tasmax_day_CanESM2_rcp85\n",
      "Processing: tasmax_day_CNRM-CM5_rcp45\n",
      "Processing: tasmax_day_CNRM-CM5_rcp85\n",
      "Processing: tasmax_day_HadGEM2-ES_rcp45\n",
      "Processing: tasmax_day_HadGEM2-ES_rcp85\n",
      "Processing: tasmax_day_MIROC5_rcp45\n",
      "Processing: tasmax_day_MIROC5_rcp85\n"
     ]
    },
    {
     "name": "stderr",
     "output_type": "stream",
     "text": [
      "/tmp/ipykernel_1244416/930655985.py:16: FutureWarning: The frame.append method is deprecated and will be removed from pandas in a future version. Use pandas.concat instead.\n",
      "  result_dfs.append(projcounts.append(hmodelcounts).sort_index())\n"
     ]
    },
    {
     "name": "stdout",
     "output_type": "stream",
     "text": [
      "Processing: tasmax_day_CanESM2_historical\n",
      "Processing: tasmax_day_CNRM-CM5_historical\n",
      "Processing: tasmax_day_HadGEM2-ES_historical\n",
      "Processing: tasmax_day_MIROC5_historical\n",
      "Processing: tasmax_day_CanESM2_rcp45\n",
      "Processing: tasmax_day_CanESM2_rcp85\n",
      "Processing: tasmax_day_CNRM-CM5_rcp45\n",
      "Processing: tasmax_day_CNRM-CM5_rcp85\n",
      "Processing: tasmax_day_HadGEM2-ES_rcp45\n",
      "Processing: tasmax_day_HadGEM2-ES_rcp85\n",
      "Processing: tasmax_day_MIROC5_rcp45\n",
      "Processing: tasmax_day_MIROC5_rcp85\n"
     ]
    },
    {
     "name": "stderr",
     "output_type": "stream",
     "text": [
      "/tmp/ipykernel_1244416/930655985.py:16: FutureWarning: The frame.append method is deprecated and will be removed from pandas in a future version. Use pandas.concat instead.\n",
      "  result_dfs.append(projcounts.append(hmodelcounts).sort_index())\n"
     ]
    },
    {
     "name": "stdout",
     "output_type": "stream",
     "text": [
      "Processing: tasmax_day_CanESM2_historical\n",
      "Processing: tasmax_day_CNRM-CM5_historical\n",
      "Processing: tasmax_day_HadGEM2-ES_historical\n",
      "Processing: tasmax_day_MIROC5_historical\n",
      "Processing: tasmax_day_CanESM2_rcp45\n",
      "Processing: tasmax_day_CanESM2_rcp85\n",
      "Processing: tasmax_day_CNRM-CM5_rcp45\n",
      "Processing: tasmax_day_CNRM-CM5_rcp85\n",
      "Processing: tasmax_day_HadGEM2-ES_rcp45\n",
      "Processing: tasmax_day_HadGEM2-ES_rcp85\n",
      "Processing: tasmax_day_MIROC5_rcp45\n",
      "Processing: tasmax_day_MIROC5_rcp85\n"
     ]
    },
    {
     "name": "stderr",
     "output_type": "stream",
     "text": [
      "/tmp/ipykernel_1244416/930655985.py:16: FutureWarning: The frame.append method is deprecated and will be removed from pandas in a future version. Use pandas.concat instead.\n",
      "  result_dfs.append(projcounts.append(hmodelcounts).sort_index())\n"
     ]
    },
    {
     "name": "stdout",
     "output_type": "stream",
     "text": [
      "Processing: tasmax_day_CanESM2_historical\n",
      "Processing: tasmax_day_CNRM-CM5_historical\n",
      "Processing: tasmax_day_HadGEM2-ES_historical\n",
      "Processing: tasmax_day_MIROC5_historical\n",
      "Processing: tasmax_day_CanESM2_rcp45\n",
      "Processing: tasmax_day_CanESM2_rcp85\n",
      "Processing: tasmax_day_CNRM-CM5_rcp45\n",
      "Processing: tasmax_day_CNRM-CM5_rcp85\n",
      "Processing: tasmax_day_HadGEM2-ES_rcp45\n",
      "Processing: tasmax_day_HadGEM2-ES_rcp85\n",
      "Processing: tasmax_day_MIROC5_rcp45\n",
      "Processing: tasmax_day_MIROC5_rcp85\n"
     ]
    },
    {
     "name": "stderr",
     "output_type": "stream",
     "text": [
      "/tmp/ipykernel_1244416/930655985.py:16: FutureWarning: The frame.append method is deprecated and will be removed from pandas in a future version. Use pandas.concat instead.\n",
      "  result_dfs.append(projcounts.append(hmodelcounts).sort_index())\n"
     ]
    },
    {
     "name": "stdout",
     "output_type": "stream",
     "text": [
      "Processing: tasmax_day_CanESM2_historical\n",
      "Processing: tasmax_day_CNRM-CM5_historical\n",
      "Processing: tasmax_day_HadGEM2-ES_historical\n",
      "Processing: tasmax_day_MIROC5_historical\n",
      "Processing: tasmax_day_CanESM2_rcp45\n",
      "Processing: tasmax_day_CanESM2_rcp85\n",
      "Processing: tasmax_day_CNRM-CM5_rcp45\n",
      "Processing: tasmax_day_CNRM-CM5_rcp85\n",
      "Processing: tasmax_day_HadGEM2-ES_rcp45\n",
      "Processing: tasmax_day_HadGEM2-ES_rcp85\n",
      "Processing: tasmax_day_MIROC5_rcp45\n",
      "Processing: tasmax_day_MIROC5_rcp85\n"
     ]
    },
    {
     "name": "stderr",
     "output_type": "stream",
     "text": [
      "/tmp/ipykernel_1244416/930655985.py:16: FutureWarning: The frame.append method is deprecated and will be removed from pandas in a future version. Use pandas.concat instead.\n",
      "  result_dfs.append(projcounts.append(hmodelcounts).sort_index())\n"
     ]
    },
    {
     "name": "stdout",
     "output_type": "stream",
     "text": [
      "Processing: tasmax_day_CanESM2_historical\n",
      "Processing: tasmax_day_CNRM-CM5_historical\n",
      "Processing: tasmax_day_HadGEM2-ES_historical\n",
      "Processing: tasmax_day_MIROC5_historical\n",
      "Processing: tasmax_day_CanESM2_rcp45\n",
      "Processing: tasmax_day_CanESM2_rcp85\n",
      "Processing: tasmax_day_CNRM-CM5_rcp45\n",
      "Processing: tasmax_day_CNRM-CM5_rcp85\n",
      "Processing: tasmax_day_HadGEM2-ES_rcp45\n",
      "Processing: tasmax_day_HadGEM2-ES_rcp85\n",
      "Processing: tasmax_day_MIROC5_rcp45\n",
      "Processing: tasmax_day_MIROC5_rcp85\n"
     ]
    },
    {
     "name": "stderr",
     "output_type": "stream",
     "text": [
      "/tmp/ipykernel_1244416/930655985.py:16: FutureWarning: The frame.append method is deprecated and will be removed from pandas in a future version. Use pandas.concat instead.\n",
      "  result_dfs.append(projcounts.append(hmodelcounts).sort_index())\n"
     ]
    },
    {
     "name": "stdout",
     "output_type": "stream",
     "text": [
      "Processing: tasmax_day_CanESM2_historical\n",
      "Processing: tasmax_day_CNRM-CM5_historical\n",
      "Processing: tasmax_day_HadGEM2-ES_historical\n",
      "Processing: tasmax_day_MIROC5_historical\n",
      "Processing: tasmax_day_CanESM2_rcp45\n",
      "Processing: tasmax_day_CanESM2_rcp85\n",
      "Processing: tasmax_day_CNRM-CM5_rcp45\n",
      "Processing: tasmax_day_CNRM-CM5_rcp85\n",
      "Processing: tasmax_day_HadGEM2-ES_rcp45\n",
      "Processing: tasmax_day_HadGEM2-ES_rcp85\n",
      "Processing: tasmax_day_MIROC5_rcp45\n",
      "Processing: tasmax_day_MIROC5_rcp85\n"
     ]
    },
    {
     "name": "stderr",
     "output_type": "stream",
     "text": [
      "/tmp/ipykernel_1244416/930655985.py:16: FutureWarning: The frame.append method is deprecated and will be removed from pandas in a future version. Use pandas.concat instead.\n",
      "  result_dfs.append(projcounts.append(hmodelcounts).sort_index())\n"
     ]
    },
    {
     "name": "stdout",
     "output_type": "stream",
     "text": [
      "Processing: tasmax_day_CanESM2_historical\n",
      "Processing: tasmax_day_CNRM-CM5_historical\n",
      "Processing: tasmax_day_HadGEM2-ES_historical\n",
      "Processing: tasmax_day_MIROC5_historical\n",
      "Processing: tasmax_day_CanESM2_rcp45\n",
      "Processing: tasmax_day_CanESM2_rcp85\n",
      "Processing: tasmax_day_CNRM-CM5_rcp45\n",
      "Processing: tasmax_day_CNRM-CM5_rcp85\n",
      "Processing: tasmax_day_HadGEM2-ES_rcp45\n",
      "Processing: tasmax_day_HadGEM2-ES_rcp85\n",
      "Processing: tasmax_day_MIROC5_rcp45\n",
      "Processing: tasmax_day_MIROC5_rcp85\n"
     ]
    },
    {
     "name": "stderr",
     "output_type": "stream",
     "text": [
      "/tmp/ipykernel_1244416/930655985.py:16: FutureWarning: The frame.append method is deprecated and will be removed from pandas in a future version. Use pandas.concat instead.\n",
      "  result_dfs.append(projcounts.append(hmodelcounts).sort_index())\n"
     ]
    },
    {
     "name": "stdout",
     "output_type": "stream",
     "text": [
      "Processing: tasmax_day_CanESM2_historical\n",
      "Processing: tasmax_day_CNRM-CM5_historical\n",
      "Processing: tasmax_day_HadGEM2-ES_historical\n",
      "Processing: tasmax_day_MIROC5_historical\n",
      "Processing: tasmax_day_CanESM2_rcp45\n",
      "Processing: tasmax_day_CanESM2_rcp85\n",
      "Processing: tasmax_day_CNRM-CM5_rcp45\n",
      "Processing: tasmax_day_CNRM-CM5_rcp85\n",
      "Processing: tasmax_day_HadGEM2-ES_rcp45\n",
      "Processing: tasmax_day_HadGEM2-ES_rcp85\n",
      "Processing: tasmax_day_MIROC5_rcp45\n",
      "Processing: tasmax_day_MIROC5_rcp85\n"
     ]
    },
    {
     "name": "stderr",
     "output_type": "stream",
     "text": [
      "/tmp/ipykernel_1244416/930655985.py:16: FutureWarning: The frame.append method is deprecated and will be removed from pandas in a future version. Use pandas.concat instead.\n",
      "  result_dfs.append(projcounts.append(hmodelcounts).sort_index())\n"
     ]
    },
    {
     "name": "stdout",
     "output_type": "stream",
     "text": [
      "Processing: tasmax_day_CanESM2_historical\n",
      "Processing: tasmax_day_CNRM-CM5_historical\n",
      "Processing: tasmax_day_HadGEM2-ES_historical\n",
      "Processing: tasmax_day_MIROC5_historical\n",
      "Processing: tasmax_day_CanESM2_rcp45\n",
      "Processing: tasmax_day_CanESM2_rcp85\n",
      "Processing: tasmax_day_CNRM-CM5_rcp45\n",
      "Processing: tasmax_day_CNRM-CM5_rcp85\n",
      "Processing: tasmax_day_HadGEM2-ES_rcp45\n",
      "Processing: tasmax_day_HadGEM2-ES_rcp85\n",
      "Processing: tasmax_day_MIROC5_rcp45\n",
      "Processing: tasmax_day_MIROC5_rcp85\n"
     ]
    },
    {
     "name": "stderr",
     "output_type": "stream",
     "text": [
      "/tmp/ipykernel_1244416/930655985.py:16: FutureWarning: The frame.append method is deprecated and will be removed from pandas in a future version. Use pandas.concat instead.\n",
      "  result_dfs.append(projcounts.append(hmodelcounts).sort_index())\n"
     ]
    },
    {
     "name": "stdout",
     "output_type": "stream",
     "text": [
      "Processing: tasmax_day_CanESM2_historical\n",
      "Processing: tasmax_day_CNRM-CM5_historical\n",
      "Processing: tasmax_day_HadGEM2-ES_historical\n",
      "Processing: tasmax_day_MIROC5_historical\n",
      "Processing: tasmax_day_CanESM2_rcp45\n",
      "Processing: tasmax_day_CanESM2_rcp85\n",
      "Processing: tasmax_day_CNRM-CM5_rcp45\n",
      "Processing: tasmax_day_CNRM-CM5_rcp85\n",
      "Processing: tasmax_day_HadGEM2-ES_rcp45\n",
      "Processing: tasmax_day_HadGEM2-ES_rcp85\n",
      "Processing: tasmax_day_MIROC5_rcp45\n",
      "Processing: tasmax_day_MIROC5_rcp85\n"
     ]
    },
    {
     "name": "stderr",
     "output_type": "stream",
     "text": [
      "/tmp/ipykernel_1244416/930655985.py:16: FutureWarning: The frame.append method is deprecated and will be removed from pandas in a future version. Use pandas.concat instead.\n",
      "  result_dfs.append(projcounts.append(hmodelcounts).sort_index())\n"
     ]
    },
    {
     "name": "stdout",
     "output_type": "stream",
     "text": [
      "Processing: tasmax_day_CanESM2_historical\n",
      "Processing: tasmax_day_CNRM-CM5_historical\n",
      "Processing: tasmax_day_HadGEM2-ES_historical\n",
      "Processing: tasmax_day_MIROC5_historical\n",
      "Processing: tasmax_day_CanESM2_rcp45\n",
      "Processing: tasmax_day_CanESM2_rcp85\n",
      "Processing: tasmax_day_CNRM-CM5_rcp45\n",
      "Processing: tasmax_day_CNRM-CM5_rcp85\n",
      "Processing: tasmax_day_HadGEM2-ES_rcp45\n",
      "Processing: tasmax_day_HadGEM2-ES_rcp85\n",
      "Processing: tasmax_day_MIROC5_rcp45\n",
      "Processing: tasmax_day_MIROC5_rcp85\n"
     ]
    },
    {
     "name": "stderr",
     "output_type": "stream",
     "text": [
      "/tmp/ipykernel_1244416/930655985.py:16: FutureWarning: The frame.append method is deprecated and will be removed from pandas in a future version. Use pandas.concat instead.\n",
      "  result_dfs.append(projcounts.append(hmodelcounts).sort_index())\n"
     ]
    },
    {
     "name": "stdout",
     "output_type": "stream",
     "text": [
      "Processing: tasmax_day_CanESM2_historical\n",
      "Processing: tasmax_day_CNRM-CM5_historical\n",
      "Processing: tasmax_day_HadGEM2-ES_historical\n",
      "Processing: tasmax_day_MIROC5_historical\n",
      "Processing: tasmax_day_CanESM2_rcp45\n",
      "Processing: tasmax_day_CanESM2_rcp85\n",
      "Processing: tasmax_day_CNRM-CM5_rcp45\n",
      "Processing: tasmax_day_CNRM-CM5_rcp85\n",
      "Processing: tasmax_day_HadGEM2-ES_rcp45\n",
      "Processing: tasmax_day_HadGEM2-ES_rcp85\n",
      "Processing: tasmax_day_MIROC5_rcp45\n",
      "Processing: tasmax_day_MIROC5_rcp85\n"
     ]
    },
    {
     "name": "stderr",
     "output_type": "stream",
     "text": [
      "/tmp/ipykernel_1244416/930655985.py:16: FutureWarning: The frame.append method is deprecated and will be removed from pandas in a future version. Use pandas.concat instead.\n",
      "  result_dfs.append(projcounts.append(hmodelcounts).sort_index())\n"
     ]
    },
    {
     "name": "stdout",
     "output_type": "stream",
     "text": [
      "Processing: tasmax_day_CanESM2_historical\n",
      "Processing: tasmax_day_CNRM-CM5_historical\n",
      "Processing: tasmax_day_HadGEM2-ES_historical\n",
      "Processing: tasmax_day_MIROC5_historical\n",
      "Processing: tasmax_day_CanESM2_rcp45\n",
      "Processing: tasmax_day_CanESM2_rcp85\n",
      "Processing: tasmax_day_CNRM-CM5_rcp45\n",
      "Processing: tasmax_day_CNRM-CM5_rcp85\n",
      "Processing: tasmax_day_HadGEM2-ES_rcp45\n",
      "Processing: tasmax_day_HadGEM2-ES_rcp85\n",
      "Processing: tasmax_day_MIROC5_rcp45\n",
      "Processing: tasmax_day_MIROC5_rcp85\n"
     ]
    },
    {
     "name": "stderr",
     "output_type": "stream",
     "text": [
      "/tmp/ipykernel_1244416/930655985.py:16: FutureWarning: The frame.append method is deprecated and will be removed from pandas in a future version. Use pandas.concat instead.\n",
      "  result_dfs.append(projcounts.append(hmodelcounts).sort_index())\n"
     ]
    },
    {
     "name": "stdout",
     "output_type": "stream",
     "text": [
      "Processing: tasmax_day_CanESM2_historical\n",
      "Processing: tasmax_day_CNRM-CM5_historical\n",
      "Processing: tasmax_day_HadGEM2-ES_historical\n",
      "Processing: tasmax_day_MIROC5_historical\n",
      "Processing: tasmax_day_CanESM2_rcp45\n",
      "Processing: tasmax_day_CanESM2_rcp85\n",
      "Processing: tasmax_day_CNRM-CM5_rcp45\n",
      "Processing: tasmax_day_CNRM-CM5_rcp85\n",
      "Processing: tasmax_day_HadGEM2-ES_rcp45\n",
      "Processing: tasmax_day_HadGEM2-ES_rcp85\n",
      "Processing: tasmax_day_MIROC5_rcp45\n",
      "Processing: tasmax_day_MIROC5_rcp85\n"
     ]
    },
    {
     "name": "stderr",
     "output_type": "stream",
     "text": [
      "/tmp/ipykernel_1244416/930655985.py:16: FutureWarning: The frame.append method is deprecated and will be removed from pandas in a future version. Use pandas.concat instead.\n",
      "  result_dfs.append(projcounts.append(hmodelcounts).sort_index())\n"
     ]
    },
    {
     "name": "stdout",
     "output_type": "stream",
     "text": [
      "Processing: tasmax_day_CanESM2_historical\n",
      "Processing: tasmax_day_CNRM-CM5_historical\n",
      "Processing: tasmax_day_HadGEM2-ES_historical\n",
      "Processing: tasmax_day_MIROC5_historical\n",
      "Processing: tasmax_day_CanESM2_rcp45\n",
      "Processing: tasmax_day_CanESM2_rcp85\n",
      "Processing: tasmax_day_CNRM-CM5_rcp45\n",
      "Processing: tasmax_day_CNRM-CM5_rcp85\n",
      "Processing: tasmax_day_HadGEM2-ES_rcp45\n",
      "Processing: tasmax_day_HadGEM2-ES_rcp85\n",
      "Processing: tasmax_day_MIROC5_rcp45\n",
      "Processing: tasmax_day_MIROC5_rcp85\n",
      "            tasmax_day_CanESM2_rcp45  tasmax_day_CanESM2_rcp85  \\\n",
      "1950-06-30                       NaN                       NaN   \n",
      "1950-07-31                       NaN                       NaN   \n",
      "1950-08-31                       NaN                       NaN   \n",
      "1950-09-30                       NaN                       NaN   \n",
      "1950-10-31                       NaN                       NaN   \n",
      "\n",
      "            tasmax_day_CNRM-CM5_rcp45  tasmax_day_CNRM-CM5_rcp85  \\\n",
      "1950-06-30                        NaN                        NaN   \n",
      "1950-07-31                        NaN                        NaN   \n",
      "1950-08-31                        NaN                        NaN   \n",
      "1950-09-30                        NaN                        NaN   \n",
      "1950-10-31                        NaN                        NaN   \n",
      "\n",
      "            tasmax_day_HadGEM2-ES_rcp45  tasmax_day_HadGEM2-ES_rcp85  \\\n",
      "1950-06-30                          NaN                          NaN   \n",
      "1950-07-31                          NaN                          NaN   \n",
      "1950-08-31                          NaN                          NaN   \n",
      "1950-09-30                          NaN                          NaN   \n",
      "1950-10-31                          NaN                          NaN   \n",
      "\n",
      "            tasmax_day_MIROC5_rcp45  tasmax_day_MIROC5_rcp85 county  \\\n",
      "1950-06-30                      NaN                      NaN    NaN   \n",
      "1950-07-31                      NaN                      NaN    NaN   \n",
      "1950-08-31                      NaN                      NaN    NaN   \n",
      "1950-09-30                      NaN                      NaN    NaN   \n",
      "1950-10-31                      NaN                      NaN    NaN   \n",
      "\n",
      "            tasmax_day_CanESM2_historical  tasmax_day_CNRM-CM5_historical  \\\n",
      "1950-06-30                            NaN                             1.0   \n",
      "1950-07-31                            NaN                             0.0   \n",
      "1950-08-31                            3.0                             1.0   \n",
      "1950-09-30                            0.0                             0.0   \n",
      "1950-10-31                            0.0                             0.0   \n",
      "\n",
      "            tasmax_day_HadGEM2-ES_historical  tasmax_day_MIROC5_historical  \n",
      "1950-06-30                               1.0                           NaN  \n",
      "1950-07-31                               0.0                           1.0  \n",
      "1950-08-31                               0.0                           0.0  \n",
      "1950-09-30                               0.0                           0.0  \n",
      "1950-10-31                               0.0                           0.0  \n"
     ]
    },
    {
     "name": "stderr",
     "output_type": "stream",
     "text": [
      "/tmp/ipykernel_1244416/930655985.py:16: FutureWarning: The frame.append method is deprecated and will be removed from pandas in a future version. Use pandas.concat instead.\n",
      "  result_dfs.append(projcounts.append(hmodelcounts).sort_index())\n"
     ]
    }
   ],
   "source": [
    "# Create an empty list to store DataFrames for each county\n",
    "result_dfs = []\n",
    "\n",
    "for params in full_params:\n",
    "    climvar = ['tasmax']\n",
    "    period = ['day']\n",
    "    models = ['CanESM2', 'CNRM-CM5', 'HadGEM2-ES', 'MIROC5']\n",
    "    scenarios = ['rcp45', 'rcp85']\n",
    "\n",
    "    hmodelcounts = fetch_exheat(climvar, period, models, ['historical'], **params)\n",
    "    projcounts = fetch_exheat(climvar, period, models, scenarios, **params)\n",
    "    \n",
    "    projcounts['county'] = params['ref'][13:16]\n",
    "\n",
    "    # Append the DataFrames for each county to the list\n",
    "    result_dfs.append(projcounts.append(hmodelcounts).sort_index())\n",
    "    \n",
    "# Concatenate all DataFrames into a single DataFrame\n",
    "final_df = pd.concat(result_dfs)\n",
    "\n",
    "# Display the final DataFrame\n",
    "print(final_df.head())\n"
   ]
  },
  {
   "cell_type": "code",
   "execution_count": 73,
   "id": "e14eb0d7-231e-4404-9426-29b5d99f0e76",
   "metadata": {
    "tags": []
   },
   "outputs": [
    {
     "data": {
      "text/plain": [
       "'58'"
      ]
     },
     "execution_count": 73,
     "metadata": {},
     "output_type": "execute_result"
    }
   ],
   "source": [
    "params['ref'][14:16]"
   ]
  },
  {
   "cell_type": "code",
   "execution_count": 80,
   "id": "01741085-de96-4db1-83f4-0dbdd6380c2a",
   "metadata": {
    "tags": []
   },
   "outputs": [
    {
     "data": {
      "text/plain": [
       "array([nan, '/1/', '/2/', '/3/', '/4/', '/5/', '/6/', '/7/', '/39', '/8/',\n",
       "       '/9/', '/74', '/10', '/56', '/11', '/12', '/13', '/19', '/14',\n",
       "       '/15', '/16', '/17', '/18', '/36', '/30', '/37', '/33', '/20',\n",
       "       '/22', '/21', '/49', '/23', '/24', '/25', '/47', '/26', '/27',\n",
       "       '/28', '/29', '/31', '/34', '/32', '/57', '/48', '/35', '/38',\n",
       "       '/41', '/40', '/42', '/43', '/44', '/45', '/46', '/50', '/51',\n",
       "       '/52', '/53', '/54', '/55', '/58'], dtype=object)"
      ]
     },
     "execution_count": 80,
     "metadata": {},
     "output_type": "execute_result"
    }
   ],
   "source": [
    "final_df.county.unique()"
   ]
  },
  {
   "cell_type": "code",
   "execution_count": 81,
   "id": "cabcb204-a20a-4991-b666-6e7e74dac71b",
   "metadata": {
    "tags": []
   },
   "outputs": [
    {
     "data": {
      "text/plain": [
       "60"
      ]
     },
     "execution_count": 81,
     "metadata": {},
     "output_type": "execute_result"
    }
   ],
   "source": [
    "len(final_df.county.unique())"
   ]
  },
  {
   "cell_type": "code",
   "execution_count": 15,
   "id": "986b3285-bb4b-49e6-8c08-e431e79c9f94",
   "metadata": {},
   "outputs": [],
   "source": [
    "projcounts.to_csv('counties_data_heat.csv', index=False)"
   ]
  }
 ],
 "metadata": {
  "kernelspec": {
   "display_name": "Anaconda 3 (Base)",
   "language": "python",
   "name": "base"
  },
  "language_info": {
   "codemirror_mode": {
    "name": "ipython",
    "version": 3
   },
   "file_extension": ".py",
   "mimetype": "text/x-python",
   "name": "python",
   "nbconvert_exporter": "python",
   "pygments_lexer": "ipython3",
   "version": "3.9.13"
  }
 },
 "nbformat": 4,
 "nbformat_minor": 5
}
